{
  "nbformat": 4,
  "nbformat_minor": 0,
  "metadata": {
    "colab": {
      "name": "Forces_+_LSOAs.ipynb",
      "version": "0.3.2",
      "provenance": []
    },
    "kernelspec": {
      "name": "python3",
      "display_name": "Python 3"
    }
  },
  "cells": [
    {
      "cell_type": "markdown",
      "metadata": {
        "id": "yecZSXrSlIUk",
        "colab_type": "text"
      },
      "source": [
        "# Generate a reference document matching LSOAs to Police Force codes\n",
        "\n",
        "Some data is retrieved by link shown in the code.\n",
        "\n",
        "Other data was downloaded from data.police for all forces for 2019-06 and uploaded into the colabs environment."
      ]
    },
    {
      "cell_type": "code",
      "metadata": {
        "id": "epnecz-klMp9",
        "colab_type": "code",
        "colab": {}
      },
      "source": [
        "import pandas as pd\n",
        "import glob"
      ],
      "execution_count": 0,
      "outputs": []
    },
    {
      "cell_type": "code",
      "metadata": {
        "id": "WJzEtJeilZtW",
        "colab_type": "code",
        "colab": {
          "base_uri": "https://localhost:8080/",
          "height": 243
        },
        "outputId": "97abb338-2abe-4d80-d9d0-032ce5269e47"
      },
      "source": [
        "# get sheet with LSOA/MSOA/LA breakdown\n",
        "! wget https://www.ons.gov.uk/file?uri=/peoplepopulationandcommunity/populationandmigration/populationestimates/datasets/2011censuspopulationandhouseholdestimatesforwardsandoutputareasinenglandandwales/rft-table-php01-2011-msoas-and-lsoas.zip"
      ],
      "execution_count": 3,
      "outputs": [
        {
          "output_type": "stream",
          "text": [
            "--2019-08-12 11:29:51--  https://www.ons.gov.uk/file?uri=/peoplepopulationandcommunity/populationandmigration/populationestimates/datasets/2011censuspopulationandhouseholdestimatesforwardsandoutputareasinenglandandwales/rft-table-php01-2011-msoas-and-lsoas.zip\n",
            "Resolving www.ons.gov.uk (www.ons.gov.uk)... 104.20.61.76, 104.20.60.76, 2606:4700:10::6814:3c4c, ...\n",
            "Connecting to www.ons.gov.uk (www.ons.gov.uk)|104.20.61.76|:443... connected.\n",
            "HTTP request sent, awaiting response... 200 OK\n",
            "Length: unspecified [application/zip]\n",
            "Saving to: ‘file?uri=%2Fpeoplepopulationandcommunity%2Fpopulationandmigration%2Fpopulationestimates%2Fdatasets%2F2011censuspopulationandhouseholdestimatesforwardsandoutputareasinenglandandwales%2Frft-table-php01-2011-msoas-and-lsoas.zip’\n",
            "\n",
            "file?uri=%2Fpeoplep     [     <=>            ]   2.87M  2.59MB/s    in 1.1s    \n",
            "\n",
            "2019-08-12 11:29:53 (2.59 MB/s) - ‘file?uri=%2Fpeoplepopulationandcommunity%2Fpopulationandmigration%2Fpopulationestimates%2Fdatasets%2F2011censuspopulationandhouseholdestimatesforwardsandoutputareasinenglandandwales%2Frft-table-php01-2011-msoas-and-lsoas.zip’ saved [3009622]\n",
            "\n"
          ],
          "name": "stdout"
        }
      ]
    },
    {
      "cell_type": "code",
      "metadata": {
        "id": "lr2BVQGwlzZT",
        "colab_type": "code",
        "colab": {
          "base_uri": "https://localhost:8080/",
          "height": 74
        },
        "outputId": "1aa822d0-019c-484a-bd19-9106ce5f1903"
      },
      "source": [
        "# unzip file\n",
        "! unzip file?uri\\=%2Fpeoplepopulationandcommunity%2Fpopulationandmigration%2Fpopulationestimates%2Fdatasets%2F2011censuspopulationandhouseholdestimatesforwardsandoutputareasinenglandandwales%2Frft-table-php01-2011-msoas-and-lsoas.zip"
      ],
      "execution_count": 4,
      "outputs": [
        {
          "output_type": "stream",
          "text": [
            "Archive:  file?uri=%2Fpeoplepopulationandcommunity%2Fpopulationandmigration%2Fpopulationestimates%2Fdatasets%2F2011censuspopulationandhouseholdestimatesforwardsandoutputareasinenglandandwales%2Frft-table-php01-2011-msoas-and-lsoas.zip\n",
            "  inflating: R1_4_EW__RT__Table_PHP01___LSOA_MSOA_v4.xls  \n"
          ],
          "name": "stdout"
        }
      ]
    },
    {
      "cell_type": "code",
      "metadata": {
        "id": "aBZ44IbGmAeE",
        "colab_type": "code",
        "colab": {}
      },
      "source": [
        "# open file on sheet five skipping useless rows\n",
        "ONS_geo_ref = pd.read_excel('R1_4_EW__RT__Table_PHP01___LSOA_MSOA_v4.xls', sheet_name=5, skiprows=11)"
      ],
      "execution_count": 0,
      "outputs": []
    },
    {
      "cell_type": "code",
      "metadata": {
        "id": "-hOovyHnxVec",
        "colab_type": "code",
        "colab": {
          "base_uri": "https://localhost:8080/",
          "height": 129
        },
        "outputId": "1ffbf7da-f0b6-4f30-dde3-f8af4993e00f"
      },
      "source": [
        "ONS_geo_ref.columns"
      ],
      "execution_count": 4,
      "outputs": [
        {
          "output_type": "execute_result",
          "data": {
            "text/plain": [
              "Index(['Region code', 'Region name', 'Local authority code',\n",
              "       'Local authority name', 'MSOA Code', 'MSOA Name', 'LSOA Code',\n",
              "       'LSOA Name', 'Unnamed: 8', 'Persons', 'Persons.1', 'Persons.2',\n",
              "       'Unnamed: 12', 'Hectares', 'Persons per hectare', 'Unnamed: 15',\n",
              "       'Households', 'Persons per household'],\n",
              "      dtype='object')"
            ]
          },
          "metadata": {
            "tags": []
          },
          "execution_count": 4
        }
      ]
    },
    {
      "cell_type": "code",
      "metadata": {
        "id": "hteI-it0wnRB",
        "colab_type": "code",
        "colab": {}
      },
      "source": [
        "# select out desired columns\n",
        "ONS_geo_ref1 = ONS_geo_ref[['Region code', 'Region name', 'Local authority code',\n",
        "       'Local authority name', 'MSOA Code', 'MSOA Name', 'LSOA Code',\n",
        "       'LSOA Name']]"
      ],
      "execution_count": 0,
      "outputs": []
    },
    {
      "cell_type": "code",
      "metadata": {
        "id": "CKKIeJ9qxczW",
        "colab_type": "code",
        "colab": {
          "base_uri": "https://localhost:8080/",
          "height": 111
        },
        "outputId": "1a69fe80-c8e0-49ac-8c2a-05234b49e281"
      },
      "source": [
        "# drop empty rows\n",
        "ONS_geo_ref1.dropna(how='all', inplace=True)"
      ],
      "execution_count": 6,
      "outputs": [
        {
          "output_type": "stream",
          "text": [
            "/usr/local/lib/python3.6/dist-packages/ipykernel_launcher.py:1: SettingWithCopyWarning: \n",
            "A value is trying to be set on a copy of a slice from a DataFrame\n",
            "\n",
            "See the caveats in the documentation: http://pandas.pydata.org/pandas-docs/stable/indexing.html#indexing-view-versus-copy\n",
            "  \"\"\"Entry point for launching an IPython kernel.\n"
          ],
          "name": "stderr"
        }
      ]
    },
    {
      "cell_type": "code",
      "metadata": {
        "id": "MrlsuIT1xj1k",
        "colab_type": "code",
        "colab": {}
      },
      "source": [
        "# using data.police data concatenate all files into one master file\n",
        "file_to_concat = []\n",
        "\n",
        "for file in glob.glob('/content/*.csv'):\n",
        "  \n",
        "  frame = pd.read_csv(file)\n",
        "  \n",
        "  file_to_concat.append(frame)\n",
        "  \n",
        "complete_frame = pd.concat(file_to_concat)"
      ],
      "execution_count": 0,
      "outputs": []
    },
    {
      "cell_type": "code",
      "metadata": {
        "id": "G065AI9909BB",
        "colab_type": "code",
        "colab": {
          "base_uri": "https://localhost:8080/",
          "height": 36
        },
        "outputId": "bff87e0a-bbc7-4b9f-a606-12b8715969b8"
      },
      "source": [
        "# view shape\n",
        "complete_frame.shape"
      ],
      "execution_count": 63,
      "outputs": [
        {
          "output_type": "execute_result",
          "data": {
            "text/plain": [
              "(566611, 12)"
            ]
          },
          "metadata": {
            "tags": []
          },
          "execution_count": 63
        }
      ]
    },
    {
      "cell_type": "code",
      "metadata": {
        "id": "azk2skVTx9BF",
        "colab_type": "code",
        "colab": {}
      },
      "source": [
        "# create a working frame from the master frame\n",
        "\n",
        "# group data by force showing counts of LSOA codes (we just want force:LSOA codes)\n",
        "group_frame = complete_frame.groupby('Falls within')['LSOA code'].value_counts().reset_index(['Falls within'])\n",
        "\n",
        "# rename columns after index reset\n",
        "group_frame.columns = ['Police_force','Counts']\n",
        "\n",
        "# reset index to get LSOA code col back\n",
        "group_frame.reset_index('LSOA code', inplace=True)\n",
        "\n",
        "# select out only LSOA codes and police force\n",
        "group_frame = group_frame[['LSOA code','Police_force']]"
      ],
      "execution_count": 0,
      "outputs": []
    },
    {
      "cell_type": "code",
      "metadata": {
        "id": "aoqbURToAudE",
        "colab_type": "code",
        "colab": {}
      },
      "source": [
        "# exclude all incidents allocated to BTP \n",
        "# we are not interested in this we want general geographical link between force and LSOA\n",
        "group_frame = group_frame[group_frame.Police_force != 'British Transport Police']"
      ],
      "execution_count": 0,
      "outputs": []
    },
    {
      "cell_type": "code",
      "metadata": {
        "id": "IBwVimMsz9Ic",
        "colab_type": "code",
        "colab": {
          "base_uri": "https://localhost:8080/",
          "height": 206
        },
        "outputId": "8b17d163-377c-4d80-e882-8c268fabb098"
      },
      "source": [
        "group_frame.head()"
      ],
      "execution_count": 33,
      "outputs": [
        {
          "output_type": "execute_result",
          "data": {
            "text/html": [
              "<div>\n",
              "<style scoped>\n",
              "    .dataframe tbody tr th:only-of-type {\n",
              "        vertical-align: middle;\n",
              "    }\n",
              "\n",
              "    .dataframe tbody tr th {\n",
              "        vertical-align: top;\n",
              "    }\n",
              "\n",
              "    .dataframe thead th {\n",
              "        text-align: right;\n",
              "    }\n",
              "</style>\n",
              "<table border=\"1\" class=\"dataframe\">\n",
              "  <thead>\n",
              "    <tr style=\"text-align: right;\">\n",
              "      <th></th>\n",
              "      <th>LSOA code</th>\n",
              "      <th>Police_force</th>\n",
              "    </tr>\n",
              "  </thead>\n",
              "  <tbody>\n",
              "    <tr>\n",
              "      <th>0</th>\n",
              "      <td>E01014540</td>\n",
              "      <td>Avon and Somerset Constabulary</td>\n",
              "    </tr>\n",
              "    <tr>\n",
              "      <th>1</th>\n",
              "      <td>E01033342</td>\n",
              "      <td>Avon and Somerset Constabulary</td>\n",
              "    </tr>\n",
              "    <tr>\n",
              "      <th>2</th>\n",
              "      <td>E01014801</td>\n",
              "      <td>Avon and Somerset Constabulary</td>\n",
              "    </tr>\n",
              "    <tr>\n",
              "      <th>3</th>\n",
              "      <td>E01029284</td>\n",
              "      <td>Avon and Somerset Constabulary</td>\n",
              "    </tr>\n",
              "    <tr>\n",
              "      <th>4</th>\n",
              "      <td>E01029112</td>\n",
              "      <td>Avon and Somerset Constabulary</td>\n",
              "    </tr>\n",
              "  </tbody>\n",
              "</table>\n",
              "</div>"
            ],
            "text/plain": [
              "   LSOA code                    Police_force\n",
              "0  E01014540  Avon and Somerset Constabulary\n",
              "1  E01033342  Avon and Somerset Constabulary\n",
              "2  E01014801  Avon and Somerset Constabulary\n",
              "3  E01029284  Avon and Somerset Constabulary\n",
              "4  E01029112  Avon and Somerset Constabulary"
            ]
          },
          "metadata": {
            "tags": []
          },
          "execution_count": 33
        }
      ]
    },
    {
      "cell_type": "code",
      "metadata": {
        "id": "Oz9fo9nt3A4k",
        "colab_type": "code",
        "colab": {
          "base_uri": "https://localhost:8080/",
          "height": 133
        },
        "outputId": "e2abc4c3-dcad-4765-ddff-bfc852902f11"
      },
      "source": [
        "# check we can match LSOA code \n",
        "ONS_geo_ref[ONS_geo_ref['LSOA Code'].isin(['E01029112'])]"
      ],
      "execution_count": 34,
      "outputs": [
        {
          "output_type": "execute_result",
          "data": {
            "text/html": [
              "<div>\n",
              "<style scoped>\n",
              "    .dataframe tbody tr th:only-of-type {\n",
              "        vertical-align: middle;\n",
              "    }\n",
              "\n",
              "    .dataframe tbody tr th {\n",
              "        vertical-align: top;\n",
              "    }\n",
              "\n",
              "    .dataframe thead th {\n",
              "        text-align: right;\n",
              "    }\n",
              "</style>\n",
              "<table border=\"1\" class=\"dataframe\">\n",
              "  <thead>\n",
              "    <tr style=\"text-align: right;\">\n",
              "      <th></th>\n",
              "      <th>Region code</th>\n",
              "      <th>Region name</th>\n",
              "      <th>Local authority code</th>\n",
              "      <th>Local authority name</th>\n",
              "      <th>MSOA Code</th>\n",
              "      <th>MSOA Name</th>\n",
              "      <th>LSOA Code</th>\n",
              "      <th>LSOA Name</th>\n",
              "      <th>Unnamed: 8</th>\n",
              "      <th>Persons</th>\n",
              "      <th>Persons.1</th>\n",
              "      <th>Persons.2</th>\n",
              "      <th>Unnamed: 12</th>\n",
              "      <th>Hectares</th>\n",
              "      <th>Persons per hectare</th>\n",
              "      <th>Unnamed: 15</th>\n",
              "      <th>Households</th>\n",
              "      <th>Persons per household</th>\n",
              "    </tr>\n",
              "  </thead>\n",
              "  <tbody>\n",
              "    <tr>\n",
              "      <th>32628</th>\n",
              "      <td>E12000009</td>\n",
              "      <td>SOUTH WEST</td>\n",
              "      <td>E07000188</td>\n",
              "      <td>Sedgemoor</td>\n",
              "      <td>E02006069</td>\n",
              "      <td>Sedgemoor 009</td>\n",
              "      <td>E01029112</td>\n",
              "      <td>Sedgemoor 009E</td>\n",
              "      <td>NaN</td>\n",
              "      <td>1876</td>\n",
              "      <td>1828</td>\n",
              "      <td>48</td>\n",
              "      <td>NaN</td>\n",
              "      <td>47</td>\n",
              "      <td>40.2</td>\n",
              "      <td>NaN</td>\n",
              "      <td>1007</td>\n",
              "      <td>1.8</td>\n",
              "    </tr>\n",
              "  </tbody>\n",
              "</table>\n",
              "</div>"
            ],
            "text/plain": [
              "      Region code Region name  ... Households Persons per household\n",
              "32628   E12000009  SOUTH WEST  ...       1007                   1.8\n",
              "\n",
              "[1 rows x 18 columns]"
            ]
          },
          "metadata": {
            "tags": []
          },
          "execution_count": 34
        }
      ]
    },
    {
      "cell_type": "code",
      "metadata": {
        "id": "GJkoPidK2TBJ",
        "colab_type": "code",
        "colab": {}
      },
      "source": [
        "# build a list of local authorities based on the LSOA code from groupby frame created above based on the ONS reference sheet\n",
        "\n",
        "LA_name_lst = []\n",
        "\n",
        "for cd in group_frame['LSOA code']:\n",
        "  \n",
        "  if len(ONS_geo_ref[ONS_geo_ref['LSOA Code'].isin([cd])]) > 0:\n",
        "    \n",
        "    LA_name_lst.append(ONS_geo_ref[ONS_geo_ref['LSOA Code'].isin([cd])]['Local authority name'].tolist()[0])"
      ],
      "execution_count": 0,
      "outputs": []
    },
    {
      "cell_type": "code",
      "metadata": {
        "id": "ZXtq48wF22qX",
        "colab_type": "code",
        "colab": {}
      },
      "source": [
        "# add this column so we now have LSOA code, local authority name and police force \n",
        "group_frame['LA_name'] = LA_name_lst"
      ],
      "execution_count": 0,
      "outputs": []
    },
    {
      "cell_type": "code",
      "metadata": {
        "id": "3oJIV7Be6flO",
        "colab_type": "code",
        "colab": {
          "base_uri": "https://localhost:8080/",
          "height": 206
        },
        "outputId": "41de9802-4241-4710-b269-9409a9d217c2"
      },
      "source": [
        "group_frame.head()"
      ],
      "execution_count": 37,
      "outputs": [
        {
          "output_type": "execute_result",
          "data": {
            "text/html": [
              "<div>\n",
              "<style scoped>\n",
              "    .dataframe tbody tr th:only-of-type {\n",
              "        vertical-align: middle;\n",
              "    }\n",
              "\n",
              "    .dataframe tbody tr th {\n",
              "        vertical-align: top;\n",
              "    }\n",
              "\n",
              "    .dataframe thead th {\n",
              "        text-align: right;\n",
              "    }\n",
              "</style>\n",
              "<table border=\"1\" class=\"dataframe\">\n",
              "  <thead>\n",
              "    <tr style=\"text-align: right;\">\n",
              "      <th></th>\n",
              "      <th>LSOA code</th>\n",
              "      <th>Police_force</th>\n",
              "      <th>LA_name</th>\n",
              "    </tr>\n",
              "  </thead>\n",
              "  <tbody>\n",
              "    <tr>\n",
              "      <th>0</th>\n",
              "      <td>E01014540</td>\n",
              "      <td>Avon and Somerset Constabulary</td>\n",
              "      <td>Bristol, City of UA</td>\n",
              "    </tr>\n",
              "    <tr>\n",
              "      <th>1</th>\n",
              "      <td>E01033342</td>\n",
              "      <td>Avon and Somerset Constabulary</td>\n",
              "      <td>Bristol, City of UA</td>\n",
              "    </tr>\n",
              "    <tr>\n",
              "      <th>2</th>\n",
              "      <td>E01014801</td>\n",
              "      <td>Avon and Somerset Constabulary</td>\n",
              "      <td>North Somerset UA</td>\n",
              "    </tr>\n",
              "    <tr>\n",
              "      <th>3</th>\n",
              "      <td>E01029284</td>\n",
              "      <td>Avon and Somerset Constabulary</td>\n",
              "      <td>Taunton Deane</td>\n",
              "    </tr>\n",
              "    <tr>\n",
              "      <th>4</th>\n",
              "      <td>E01029112</td>\n",
              "      <td>Avon and Somerset Constabulary</td>\n",
              "      <td>Sedgemoor</td>\n",
              "    </tr>\n",
              "  </tbody>\n",
              "</table>\n",
              "</div>"
            ],
            "text/plain": [
              "   LSOA code                    Police_force              LA_name\n",
              "0  E01014540  Avon and Somerset Constabulary  Bristol, City of UA\n",
              "1  E01033342  Avon and Somerset Constabulary  Bristol, City of UA\n",
              "2  E01014801  Avon and Somerset Constabulary    North Somerset UA\n",
              "3  E01029284  Avon and Somerset Constabulary        Taunton Deane\n",
              "4  E01029112  Avon and Somerset Constabulary            Sedgemoor"
            ]
          },
          "metadata": {
            "tags": []
          },
          "execution_count": 37
        }
      ]
    },
    {
      "cell_type": "code",
      "metadata": {
        "id": "g06Txmvc8IEK",
        "colab_type": "code",
        "colab": {}
      },
      "source": [
        "# identify missing LSOAs from groupby frame using the reference frame with all LSOA names \n",
        "\n",
        "missing_LSOA = ONS_geo_ref[~ONS_geo_ref['LSOA Code'].isin(group_frame['LSOA code'])][['LSOA Code','Local authority name']]\n",
        "\n",
        "# some NAs still in reference frame so dropped\n",
        "missing_LSOA.dropna(how='any', inplace=True)"
      ],
      "execution_count": 0,
      "outputs": []
    },
    {
      "cell_type": "code",
      "metadata": {
        "id": "x0XkzJN78qRB",
        "colab_type": "code",
        "colab": {}
      },
      "source": [
        "# using the local authority names from missing LSOA data captured above match local authority names to LA names in groupby frame\n",
        "# if match extract police_force and add it to list\n",
        "\n",
        "missing_constab = []\n",
        "\n",
        "for LA in missing_LSOA['Local authority name']:\n",
        "  \n",
        "  missing_constab.append(group_frame[group_frame['LA_name'].isin([LA])]['Police_force'].tolist()[0])"
      ],
      "execution_count": 0,
      "outputs": []
    },
    {
      "cell_type": "code",
      "metadata": {
        "id": "9X_63ui8AGMc",
        "colab_type": "code",
        "colab": {}
      },
      "source": [
        "# add these constabulary names to the missing lsoa data\n",
        "missing_LSOA['Police_force'] = missing_constab"
      ],
      "execution_count": 0,
      "outputs": []
    },
    {
      "cell_type": "code",
      "metadata": {
        "id": "XR5Oy6QFCdCF",
        "colab_type": "code",
        "colab": {}
      },
      "source": [
        "# rename columns so they match for concatenation\n",
        "\n",
        "missing_LSOA.columns = ['LSOA_code', 'LA_name', 'Police_force']\n",
        "\n",
        "group_frame.columns = ['LSOA_code', 'Police_force', 'LA_name']"
      ],
      "execution_count": 0,
      "outputs": []
    },
    {
      "cell_type": "code",
      "metadata": {
        "id": "xXJMQb2VCKjd",
        "colab_type": "code",
        "colab": {
          "base_uri": "https://localhost:8080/",
          "height": 167
        },
        "outputId": "46ac2928-b922-4d5a-a1de-73a3600bd015"
      },
      "source": [
        "# concatenate date into combined frame and reset index\n",
        "\n",
        "combined_frame = pd.concat([group_frame, missing_LSOA])\n",
        "\n",
        "combined_frame.reset_index(drop=True, inplace=True)"
      ],
      "execution_count": 53,
      "outputs": [
        {
          "output_type": "stream",
          "text": [
            "/usr/local/lib/python3.6/dist-packages/ipykernel_launcher.py:1: FutureWarning: Sorting because non-concatenation axis is not aligned. A future version\n",
            "of pandas will change to not sort by default.\n",
            "\n",
            "To accept the future behavior, pass 'sort=False'.\n",
            "\n",
            "To retain the current behavior and silence the warning, pass 'sort=True'.\n",
            "\n",
            "  \"\"\"Entry point for launching an IPython kernel.\n"
          ],
          "name": "stderr"
        }
      ]
    },
    {
      "cell_type": "code",
      "metadata": {
        "id": "2qnU7X7CCM7W",
        "colab_type": "code",
        "colab": {
          "base_uri": "https://localhost:8080/",
          "height": 36
        },
        "outputId": "f8e0fb54-cad1-4937-eec8-5e63b625e55e"
      },
      "source": [
        "# check the shape expecting 1388\n",
        "combined_frame[combined_frame.LA_name.isin(['Leeds','Kirklees','Bradford','Wakefield','Calderdale'])].shape"
      ],
      "execution_count": 55,
      "outputs": [
        {
          "output_type": "execute_result",
          "data": {
            "text/plain": [
              "(1413, 3)"
            ]
          },
          "metadata": {
            "tags": []
          },
          "execution_count": 55
        }
      ]
    },
    {
      "cell_type": "code",
      "metadata": {
        "id": "2MxU8DMmC6vk",
        "colab_type": "code",
        "colab": {
          "base_uri": "https://localhost:8080/",
          "height": 112
        },
        "outputId": "561ea55e-608d-416d-99e0-917bf14ed0b7"
      },
      "source": [
        "# some crossovers discovered\n",
        "combined_frame[combined_frame.LSOA_code == 'E01029131']"
      ],
      "execution_count": 62,
      "outputs": [
        {
          "output_type": "execute_result",
          "data": {
            "text/html": [
              "<div>\n",
              "<style scoped>\n",
              "    .dataframe tbody tr th:only-of-type {\n",
              "        vertical-align: middle;\n",
              "    }\n",
              "\n",
              "    .dataframe tbody tr th {\n",
              "        vertical-align: top;\n",
              "    }\n",
              "\n",
              "    .dataframe thead th {\n",
              "        text-align: right;\n",
              "    }\n",
              "</style>\n",
              "<table border=\"1\" class=\"dataframe\">\n",
              "  <thead>\n",
              "    <tr style=\"text-align: right;\">\n",
              "      <th></th>\n",
              "      <th>LA_name</th>\n",
              "      <th>LSOA_code</th>\n",
              "      <th>Police_force</th>\n",
              "    </tr>\n",
              "  </thead>\n",
              "  <tbody>\n",
              "    <tr>\n",
              "      <th>67</th>\n",
              "      <td>Sedgemoor</td>\n",
              "      <td>E01029131</td>\n",
              "      <td>Avon and Somerset Constabulary</td>\n",
              "    </tr>\n",
              "    <tr>\n",
              "      <th>24890</th>\n",
              "      <td>Sedgemoor</td>\n",
              "      <td>E01029131</td>\n",
              "      <td>Nottinghamshire Police</td>\n",
              "    </tr>\n",
              "  </tbody>\n",
              "</table>\n",
              "</div>"
            ],
            "text/plain": [
              "         LA_name  LSOA_code                    Police_force\n",
              "67     Sedgemoor  E01029131  Avon and Somerset Constabulary\n",
              "24890  Sedgemoor  E01029131          Nottinghamshire Police"
            ]
          },
          "metadata": {
            "tags": []
          },
          "execution_count": 62
        }
      ]
    },
    {
      "cell_type": "code",
      "metadata": {
        "id": "lLzHULuYDWMO",
        "colab_type": "code",
        "colab": {}
      },
      "source": [
        "# will arbitrarily drop duplicates except the first instance \n",
        "combined_frame_ = combined_frame.drop_duplicates(subset='LSOA_code', keep='first')"
      ],
      "execution_count": 0,
      "outputs": []
    },
    {
      "cell_type": "code",
      "metadata": {
        "id": "bYMuzXziGxS-",
        "colab_type": "code",
        "colab": {
          "base_uri": "https://localhost:8080/",
          "height": 36
        },
        "outputId": "f89d7894-0bf9-4b8c-d6c5-459a631fe7cf"
      },
      "source": [
        "# check the shape expecting 1388\n",
        "combined_frame_[combined_frame_.LA_name.isin(['Leeds','Kirklees','Bradford','Wakefield','Calderdale'])].shape"
      ],
      "execution_count": 66,
      "outputs": [
        {
          "output_type": "execute_result",
          "data": {
            "text/plain": [
              "(1388, 3)"
            ]
          },
          "metadata": {
            "tags": []
          },
          "execution_count": 66
        }
      ]
    },
    {
      "cell_type": "code",
      "metadata": {
        "id": "SwLjlj7hG9Em",
        "colab_type": "code",
        "colab": {}
      },
      "source": [
        "# now happy to proceed with saving this list to use as reference list between LSOA and police force\n",
        "combined_frame_.to_csv('PoliceforceLSOA.csv')"
      ],
      "execution_count": 0,
      "outputs": []
    },
    {
      "cell_type": "code",
      "metadata": {
        "id": "VH9PhWkFG-lL",
        "colab_type": "code",
        "colab": {}
      },
      "source": [
        "# prompt download from colab\n",
        "from google.colab import files\n",
        "\n",
        "files.download('PoliceforceLSOA.csv')"
      ],
      "execution_count": 0,
      "outputs": []
    },
    {
      "cell_type": "code",
      "metadata": {
        "id": "uNbhCIy-HPi2",
        "colab_type": "code",
        "colab": {}
      },
      "source": [
        ""
      ],
      "execution_count": 0,
      "outputs": []
    }
  ]
}