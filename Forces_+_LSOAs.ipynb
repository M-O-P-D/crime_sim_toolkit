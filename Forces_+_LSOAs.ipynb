{
  "nbformat": 4,
  "nbformat_minor": 0,
  "metadata": {
    "colab": {
      "name": "Forces_+_LSOAs.ipynb",
      "version": "0.3.2",
      "provenance": [],
      "include_colab_link": true
    },
    "kernelspec": {
      "name": "python3",
      "display_name": "Python 3"
    }
  },
  "cells": [
    {
      "cell_type": "markdown",
      "metadata": {
        "id": "view-in-github",
        "colab_type": "text"
      },
      "source": [
        "<a href=\"https://colab.research.google.com/github/Sparrow0hawk/crime_sim_toolkit/blob/master/Forces_%2B_LSOAs.ipynb\" target=\"_parent\"><img src=\"https://colab.research.google.com/assets/colab-badge.svg\" alt=\"Open In Colab\"/></a>"
      ]
    },
    {
      "cell_type": "markdown",
      "metadata": {
        "id": "yecZSXrSlIUk",
        "colab_type": "text"
      },
      "source": [
        "# Generate a reference document matching LSOAs to Police Force codes\n",
        "\n",
        "Some data is retrieved by link shown in the code.\n",
        "\n",
        "Other data was downloaded from data.police for all forces for 2019-06 and uploaded into the colabs environment.\n",
        "\n",
        "## Revision 14/08/2019\n",
        "\n",
        "Issues arose from using the Falls within category from data.police.\n",
        "\n",
        "Therefore matching is now performed using Community Safety Partnership (analogous to local authority) using an established mapping dataset."
      ]
    },
    {
      "cell_type": "code",
      "metadata": {
        "id": "epnecz-klMp9",
        "colab_type": "code",
        "colab": {}
      },
      "source": [
        "import pandas as pd\n",
        "import glob\n",
        "import numpy as np"
      ],
      "execution_count": 0,
      "outputs": []
    },
    {
      "cell_type": "code",
      "metadata": {
        "id": "WJzEtJeilZtW",
        "colab_type": "code",
        "outputId": "69bb8135-da3e-4cae-f0d1-19a5afb1e585",
        "colab": {
          "base_uri": "https://localhost:8080/",
          "height": 243
        }
      },
      "source": [
        "# get sheet with LSOA/MSOA/LA breakdown\n",
        "! wget -O table_2011_MSOA_LSOA.zip https://www.ons.gov.uk/file?uri=/peoplepopulationandcommunity/populationandmigration/populationestimates/datasets/2011censuspopulationandhouseholdestimatesforwardsandoutputareasinenglandandwales/rft-table-php01-2011-msoas-and-lsoas.zip"
      ],
      "execution_count": 2,
      "outputs": [
        {
          "output_type": "stream",
          "text": [
            "--2019-08-14 10:56:02--  https://www.ons.gov.uk/file?uri=/peoplepopulationandcommunity/populationandmigration/populationestimates/datasets/2011censuspopulationandhouseholdestimatesforwardsandoutputareasinenglandandwales/rft-table-php01-2011-msoas-and-lsoas.zip\n",
            "Resolving www.ons.gov.uk (www.ons.gov.uk)... 104.20.60.76, 104.20.61.76, 2606:4700:10::6814:3c4c, ...\n",
            "Connecting to www.ons.gov.uk (www.ons.gov.uk)|104.20.60.76|:443... connected.\n",
            "HTTP request sent, awaiting response... 200 OK\n",
            "Length: unspecified [application/zip]\n",
            "Saving to: ‘table_2011_MSOA_LSOA.zip’\n",
            "\n",
            "table_2011_MSOA_LSO     [ <=>                ]   2.87M  --.-KB/s    in 0.08s   \n",
            "\n",
            "2019-08-14 10:56:03 (34.5 MB/s) - ‘table_2011_MSOA_LSOA.zip’ saved [3009622]\n",
            "\n"
          ],
          "name": "stdout"
        }
      ]
    },
    {
      "cell_type": "code",
      "metadata": {
        "id": "YG_rxgI2j9W9",
        "colab_type": "code",
        "colab": {
          "base_uri": "https://localhost:8080/",
          "height": 243
        },
        "outputId": "0ae5b996-ecd8-40a4-a8bd-19505f70474f"
      },
      "source": [
        "# get CSP data with matching\n",
        "! wget -O recordedcrimeatcsplevelyearendingmarch2019.xls https://www.ons.gov.uk/file?uri=/peoplepopulationandcommunity/crimeandjustice/datasets/recordedcrimedatabycommunitysafetypartnershiparea/current/recordedcrimeatcsplevelyearendingmarch2019.xls"
      ],
      "execution_count": 3,
      "outputs": [
        {
          "output_type": "stream",
          "text": [
            "--2019-08-14 10:56:04--  https://www.ons.gov.uk/file?uri=/peoplepopulationandcommunity/crimeandjustice/datasets/recordedcrimedatabycommunitysafetypartnershiparea/current/recordedcrimeatcsplevelyearendingmarch2019.xls\n",
            "Resolving www.ons.gov.uk (www.ons.gov.uk)... 104.20.60.76, 104.20.61.76, 2606:4700:10::6814:3c4c, ...\n",
            "Connecting to www.ons.gov.uk (www.ons.gov.uk)|104.20.60.76|:443... connected.\n",
            "HTTP request sent, awaiting response... 200 OK\n",
            "Length: unspecified [application/vnd.ms-excel]\n",
            "Saving to: ‘recordedcrimeatcsplevelyearendingmarch2019.xls’\n",
            "\n",
            "recordedcrimeatcspl     [  <=>               ] 860.50K  2.68MB/s    in 0.3s    \n",
            "\n",
            "2019-08-14 10:56:05 (2.68 MB/s) - ‘recordedcrimeatcsplevelyearendingmarch2019.xls’ saved [881152]\n",
            "\n"
          ],
          "name": "stdout"
        }
      ]
    },
    {
      "cell_type": "code",
      "metadata": {
        "id": "lr2BVQGwlzZT",
        "colab_type": "code",
        "outputId": "44daeac2-8245-4445-aacc-b158bf442a30",
        "colab": {
          "base_uri": "https://localhost:8080/",
          "height": 54
        }
      },
      "source": [
        "# unzip file\n",
        "! unzip table_2011_MSOA_LSOA.zip"
      ],
      "execution_count": 4,
      "outputs": [
        {
          "output_type": "stream",
          "text": [
            "Archive:  table_2011_MSOA_LSOA.zip\n",
            "  inflating: R1_4_EW__RT__Table_PHP01___LSOA_MSOA_v4.xls  \n"
          ],
          "name": "stdout"
        }
      ]
    },
    {
      "cell_type": "code",
      "metadata": {
        "id": "FH0Q1gL5ksEA",
        "colab_type": "code",
        "colab": {}
      },
      "source": [
        "PRCLE_data = pd.read_excel('/content/recordedcrimeatcsplevelyearendingmarch2019.xls', sheet_name='Table C2', skiprows=4)"
      ],
      "execution_count": 0,
      "outputs": []
    },
    {
      "cell_type": "code",
      "metadata": {
        "id": "qJVN7hO4k3yf",
        "colab_type": "code",
        "colab": {}
      },
      "source": [
        "PRCLE_data = PRCLE_data.iloc[:,:6]\n",
        "\n",
        "PRCLE_data.dropna(how='any',inplace=True)"
      ],
      "execution_count": 0,
      "outputs": []
    },
    {
      "cell_type": "code",
      "metadata": {
        "id": "1zoT9SkZnadN",
        "colab_type": "code",
        "colab": {
          "base_uri": "https://localhost:8080/",
          "height": 241
        },
        "outputId": "ad43d9d7-b81d-4453-f6f4-2cc79a52bbaa"
      },
      "source": [
        "PRCLE_data.head()"
      ],
      "execution_count": 10,
      "outputs": [
        {
          "output_type": "execute_result",
          "data": {
            "text/html": [
              "<div>\n",
              "<style scoped>\n",
              "    .dataframe tbody tr th:only-of-type {\n",
              "        vertical-align: middle;\n",
              "    }\n",
              "\n",
              "    .dataframe tbody tr th {\n",
              "        vertical-align: top;\n",
              "    }\n",
              "\n",
              "    .dataframe thead th {\n",
              "        text-align: right;\n",
              "    }\n",
              "</style>\n",
              "<table border=\"1\" class=\"dataframe\">\n",
              "  <thead>\n",
              "    <tr style=\"text-align: right;\">\n",
              "      <th></th>\n",
              "      <th>Police Force Area code</th>\n",
              "      <th>Police Force Area name</th>\n",
              "      <th>Community Safety Partnership code</th>\n",
              "      <th>Community Safety Partnership name</th>\n",
              "      <th>Local Authority code</th>\n",
              "      <th>Local Authority name</th>\n",
              "    </tr>\n",
              "  </thead>\n",
              "  <tbody>\n",
              "    <tr>\n",
              "      <th>2</th>\n",
              "      <td>E23000036</td>\n",
              "      <td>Avon and Somerset</td>\n",
              "      <td>E22000001</td>\n",
              "      <td>Bath and North East Somerset</td>\n",
              "      <td>E06000022</td>\n",
              "      <td>Bath and North East Somerset</td>\n",
              "    </tr>\n",
              "    <tr>\n",
              "      <th>3</th>\n",
              "      <td>E23000036</td>\n",
              "      <td>Avon and Somerset</td>\n",
              "      <td>E22000002</td>\n",
              "      <td>Bristol, City of</td>\n",
              "      <td>E06000023</td>\n",
              "      <td>Bristol, City of</td>\n",
              "    </tr>\n",
              "    <tr>\n",
              "      <th>4</th>\n",
              "      <td>E23000036</td>\n",
              "      <td>Avon and Somerset</td>\n",
              "      <td>E22000003</td>\n",
              "      <td>North Somerset</td>\n",
              "      <td>E06000024</td>\n",
              "      <td>North Somerset</td>\n",
              "    </tr>\n",
              "    <tr>\n",
              "      <th>6</th>\n",
              "      <td>E23000036</td>\n",
              "      <td>Avon and Somerset</td>\n",
              "      <td>E22000006</td>\n",
              "      <td>South Gloucestershire</td>\n",
              "      <td>E06000025</td>\n",
              "      <td>South Gloucestershire</td>\n",
              "    </tr>\n",
              "    <tr>\n",
              "      <th>9</th>\n",
              "      <td>E23000026</td>\n",
              "      <td>Bedfordshire</td>\n",
              "      <td>E22000009</td>\n",
              "      <td>Bedford</td>\n",
              "      <td>E06000055</td>\n",
              "      <td>Bedford</td>\n",
              "    </tr>\n",
              "  </tbody>\n",
              "</table>\n",
              "</div>"
            ],
            "text/plain": [
              "  Police Force Area code  ...          Local Authority name\n",
              "2              E23000036  ...  Bath and North East Somerset\n",
              "3              E23000036  ...             Bristol, City of \n",
              "4              E23000036  ...                North Somerset\n",
              "6              E23000036  ...         South Gloucestershire\n",
              "9              E23000026  ...                       Bedford\n",
              "\n",
              "[5 rows x 6 columns]"
            ]
          },
          "metadata": {
            "tags": []
          },
          "execution_count": 10
        }
      ]
    },
    {
      "cell_type": "code",
      "metadata": {
        "id": "aBZ44IbGmAeE",
        "colab_type": "code",
        "colab": {}
      },
      "source": [
        "# open file on sheet five skipping useless rows\n",
        "ONS_geo_ref = pd.read_excel('R1_4_EW__RT__Table_PHP01___LSOA_MSOA_v4.xls', sheet_name=5, skiprows=11)"
      ],
      "execution_count": 0,
      "outputs": []
    },
    {
      "cell_type": "code",
      "metadata": {
        "id": "-hOovyHnxVec",
        "colab_type": "code",
        "outputId": "0e84fa6e-0216-471b-a58c-984b8d7c53c9",
        "colab": {
          "base_uri": "https://localhost:8080/",
          "height": 129
        }
      },
      "source": [
        "ONS_geo_ref.columns"
      ],
      "execution_count": 13,
      "outputs": [
        {
          "output_type": "execute_result",
          "data": {
            "text/plain": [
              "Index(['Region code', 'Region name', 'Local authority code',\n",
              "       'Local authority name', 'MSOA Code', 'MSOA Name', 'LSOA Code',\n",
              "       'LSOA Name', 'Unnamed: 8', 'Persons', 'Persons.1', 'Persons.2',\n",
              "       'Unnamed: 12', 'Hectares', 'Persons per hectare', 'Unnamed: 15',\n",
              "       'Households', 'Persons per household'],\n",
              "      dtype='object')"
            ]
          },
          "metadata": {
            "tags": []
          },
          "execution_count": 13
        }
      ]
    },
    {
      "cell_type": "code",
      "metadata": {
        "id": "hteI-it0wnRB",
        "colab_type": "code",
        "colab": {}
      },
      "source": [
        "# select out desired columns\n",
        "ONS_geo_ref1 = ONS_geo_ref[['Region code', 'Region name', 'Local authority code',\n",
        "       'Local authority name', 'MSOA Code', 'MSOA Name', 'LSOA Code',\n",
        "       'LSOA Name']]"
      ],
      "execution_count": 0,
      "outputs": []
    },
    {
      "cell_type": "code",
      "metadata": {
        "id": "CKKIeJ9qxczW",
        "colab_type": "code",
        "outputId": "a3530f49-c647-4246-e141-1a3fab489fcc",
        "colab": {
          "base_uri": "https://localhost:8080/",
          "height": 111
        }
      },
      "source": [
        "# drop empty rows\n",
        "ONS_geo_ref1.dropna(how='any', inplace=True)"
      ],
      "execution_count": 22,
      "outputs": [
        {
          "output_type": "stream",
          "text": [
            "/usr/local/lib/python3.6/dist-packages/ipykernel_launcher.py:1: SettingWithCopyWarning: \n",
            "A value is trying to be set on a copy of a slice from a DataFrame\n",
            "\n",
            "See the caveats in the documentation: http://pandas.pydata.org/pandas-docs/stable/indexing.html#indexing-view-versus-copy\n",
            "  \"\"\"Entry point for launching an IPython kernel.\n"
          ],
          "name": "stderr"
        }
      ]
    },
    {
      "cell_type": "code",
      "metadata": {
        "id": "GaDzGU_EzaZ9",
        "colab_type": "code",
        "colab": {
          "base_uri": "https://localhost:8080/",
          "height": 206
        },
        "outputId": "2ebd9d4d-25e3-415a-b61a-62c8c17ae056"
      },
      "source": [
        "ONS_geo_ref1.head()"
      ],
      "execution_count": 23,
      "outputs": [
        {
          "output_type": "execute_result",
          "data": {
            "text/html": [
              "<div>\n",
              "<style scoped>\n",
              "    .dataframe tbody tr th:only-of-type {\n",
              "        vertical-align: middle;\n",
              "    }\n",
              "\n",
              "    .dataframe tbody tr th {\n",
              "        vertical-align: top;\n",
              "    }\n",
              "\n",
              "    .dataframe thead th {\n",
              "        text-align: right;\n",
              "    }\n",
              "</style>\n",
              "<table border=\"1\" class=\"dataframe\">\n",
              "  <thead>\n",
              "    <tr style=\"text-align: right;\">\n",
              "      <th></th>\n",
              "      <th>Region code</th>\n",
              "      <th>Region name</th>\n",
              "      <th>Local authority code</th>\n",
              "      <th>Local authority name</th>\n",
              "      <th>MSOA Code</th>\n",
              "      <th>MSOA Name</th>\n",
              "      <th>LSOA Code</th>\n",
              "      <th>LSOA Name</th>\n",
              "    </tr>\n",
              "  </thead>\n",
              "  <tbody>\n",
              "    <tr>\n",
              "      <th>3</th>\n",
              "      <td>E12000001</td>\n",
              "      <td>NORTH EAST</td>\n",
              "      <td>E06000047</td>\n",
              "      <td>County Durham UA</td>\n",
              "      <td>E02004297</td>\n",
              "      <td>County Durham 001</td>\n",
              "      <td>E01020634</td>\n",
              "      <td>County Durham 001A</td>\n",
              "    </tr>\n",
              "    <tr>\n",
              "      <th>4</th>\n",
              "      <td>E12000001</td>\n",
              "      <td>NORTH EAST</td>\n",
              "      <td>E06000047</td>\n",
              "      <td>County Durham UA</td>\n",
              "      <td>E02004297</td>\n",
              "      <td>County Durham 001</td>\n",
              "      <td>E01020635</td>\n",
              "      <td>County Durham 001B</td>\n",
              "    </tr>\n",
              "    <tr>\n",
              "      <th>5</th>\n",
              "      <td>E12000001</td>\n",
              "      <td>NORTH EAST</td>\n",
              "      <td>E06000047</td>\n",
              "      <td>County Durham UA</td>\n",
              "      <td>E02004297</td>\n",
              "      <td>County Durham 001</td>\n",
              "      <td>E01020636</td>\n",
              "      <td>County Durham 001C</td>\n",
              "    </tr>\n",
              "    <tr>\n",
              "      <th>6</th>\n",
              "      <td>E12000001</td>\n",
              "      <td>NORTH EAST</td>\n",
              "      <td>E06000047</td>\n",
              "      <td>County Durham UA</td>\n",
              "      <td>E02004297</td>\n",
              "      <td>County Durham 001</td>\n",
              "      <td>E01020654</td>\n",
              "      <td>County Durham 001D</td>\n",
              "    </tr>\n",
              "    <tr>\n",
              "      <th>7</th>\n",
              "      <td>E12000001</td>\n",
              "      <td>NORTH EAST</td>\n",
              "      <td>E06000047</td>\n",
              "      <td>County Durham UA</td>\n",
              "      <td>E02004297</td>\n",
              "      <td>County Durham 001</td>\n",
              "      <td>E01020676</td>\n",
              "      <td>County Durham 001E</td>\n",
              "    </tr>\n",
              "  </tbody>\n",
              "</table>\n",
              "</div>"
            ],
            "text/plain": [
              "  Region code Region name  ...  LSOA Code           LSOA Name\n",
              "3   E12000001  NORTH EAST  ...  E01020634  County Durham 001A\n",
              "4   E12000001  NORTH EAST  ...  E01020635  County Durham 001B\n",
              "5   E12000001  NORTH EAST  ...  E01020636  County Durham 001C\n",
              "6   E12000001  NORTH EAST  ...  E01020654  County Durham 001D\n",
              "7   E12000001  NORTH EAST  ...  E01020676  County Durham 001E\n",
              "\n",
              "[5 rows x 8 columns]"
            ]
          },
          "metadata": {
            "tags": []
          },
          "execution_count": 23
        }
      ]
    },
    {
      "cell_type": "code",
      "metadata": {
        "id": "OJmMoxs0t7Om",
        "colab_type": "code",
        "colab": {
          "base_uri": "https://localhost:8080/",
          "height": 98
        },
        "outputId": "5c143a3c-e0ee-4568-b9d0-08ae5a84aaf5"
      },
      "source": [
        "PRCLE_data[PRCLE_data['Local Authority code'].isin(['E06000047'])]"
      ],
      "execution_count": 18,
      "outputs": [
        {
          "output_type": "execute_result",
          "data": {
            "text/html": [
              "<div>\n",
              "<style scoped>\n",
              "    .dataframe tbody tr th:only-of-type {\n",
              "        vertical-align: middle;\n",
              "    }\n",
              "\n",
              "    .dataframe tbody tr th {\n",
              "        vertical-align: top;\n",
              "    }\n",
              "\n",
              "    .dataframe thead th {\n",
              "        text-align: right;\n",
              "    }\n",
              "</style>\n",
              "<table border=\"1\" class=\"dataframe\">\n",
              "  <thead>\n",
              "    <tr style=\"text-align: right;\">\n",
              "      <th></th>\n",
              "      <th>Police Force Area code</th>\n",
              "      <th>Police Force Area name</th>\n",
              "      <th>Community Safety Partnership code</th>\n",
              "      <th>Community Safety Partnership name</th>\n",
              "      <th>Local Authority code</th>\n",
              "      <th>Local Authority name</th>\n",
              "    </tr>\n",
              "  </thead>\n",
              "  <tbody>\n",
              "    <tr>\n",
              "      <th>62</th>\n",
              "      <td>E23000008</td>\n",
              "      <td>Durham</td>\n",
              "      <td>E22000365</td>\n",
              "      <td>County Durham</td>\n",
              "      <td>E06000047</td>\n",
              "      <td>County Durham</td>\n",
              "    </tr>\n",
              "  </tbody>\n",
              "</table>\n",
              "</div>"
            ],
            "text/plain": [
              "   Police Force Area code  ... Local Authority name\n",
              "62              E23000008  ...        County Durham\n",
              "\n",
              "[1 rows x 6 columns]"
            ]
          },
          "metadata": {
            "tags": []
          },
          "execution_count": 18
        }
      ]
    },
    {
      "cell_type": "code",
      "metadata": {
        "id": "GJkoPidK2TBJ",
        "colab_type": "code",
        "colab": {
          "base_uri": "https://localhost:8080/",
          "height": 129
        },
        "outputId": "a75f3cd1-5ed6-42bc-9416-6989acddf94e"
      },
      "source": [
        "# build a comprehensive matching table between LSOA/MSOA and police force using local authority\n",
        "# using apply to match LA code and then add police force\n",
        "\n",
        "ONS_geo_ref1['Police_force'] = ONS_geo_ref1['Local authority code'].map(lambda x: PRCLE_data[PRCLE_data['Local Authority code'].isin([x])]['Police Force Area name'].tolist()[0] if len(PRCLE_data[PRCLE_data['Local Authority code'].isin([x])]['Police Force Area name'].tolist()) > 0 else np.NaN)"
      ],
      "execution_count": 24,
      "outputs": [
        {
          "output_type": "stream",
          "text": [
            "/usr/local/lib/python3.6/dist-packages/ipykernel_launcher.py:2: SettingWithCopyWarning: \n",
            "A value is trying to be set on a copy of a slice from a DataFrame.\n",
            "Try using .loc[row_indexer,col_indexer] = value instead\n",
            "\n",
            "See the caveats in the documentation: http://pandas.pydata.org/pandas-docs/stable/indexing.html#indexing-view-versus-copy\n",
            "  \n"
          ],
          "name": "stderr"
        }
      ]
    },
    {
      "cell_type": "code",
      "metadata": {
        "id": "ZXtq48wF22qX",
        "colab_type": "code",
        "colab": {
          "base_uri": "https://localhost:8080/",
          "height": 206
        },
        "outputId": "523b232e-78e3-4bc9-ed93-02b3d7ef593c"
      },
      "source": [
        "# add this column so we now have LSOA code, local authority name and police force \n",
        "ONS_geo_ref1.head()"
      ],
      "execution_count": 26,
      "outputs": [
        {
          "output_type": "execute_result",
          "data": {
            "text/html": [
              "<div>\n",
              "<style scoped>\n",
              "    .dataframe tbody tr th:only-of-type {\n",
              "        vertical-align: middle;\n",
              "    }\n",
              "\n",
              "    .dataframe tbody tr th {\n",
              "        vertical-align: top;\n",
              "    }\n",
              "\n",
              "    .dataframe thead th {\n",
              "        text-align: right;\n",
              "    }\n",
              "</style>\n",
              "<table border=\"1\" class=\"dataframe\">\n",
              "  <thead>\n",
              "    <tr style=\"text-align: right;\">\n",
              "      <th></th>\n",
              "      <th>Region code</th>\n",
              "      <th>Region name</th>\n",
              "      <th>Local authority code</th>\n",
              "      <th>Local authority name</th>\n",
              "      <th>MSOA Code</th>\n",
              "      <th>MSOA Name</th>\n",
              "      <th>LSOA Code</th>\n",
              "      <th>LSOA Name</th>\n",
              "      <th>Police_force</th>\n",
              "    </tr>\n",
              "  </thead>\n",
              "  <tbody>\n",
              "    <tr>\n",
              "      <th>3</th>\n",
              "      <td>E12000001</td>\n",
              "      <td>NORTH EAST</td>\n",
              "      <td>E06000047</td>\n",
              "      <td>County Durham UA</td>\n",
              "      <td>E02004297</td>\n",
              "      <td>County Durham 001</td>\n",
              "      <td>E01020634</td>\n",
              "      <td>County Durham 001A</td>\n",
              "      <td>Durham</td>\n",
              "    </tr>\n",
              "    <tr>\n",
              "      <th>4</th>\n",
              "      <td>E12000001</td>\n",
              "      <td>NORTH EAST</td>\n",
              "      <td>E06000047</td>\n",
              "      <td>County Durham UA</td>\n",
              "      <td>E02004297</td>\n",
              "      <td>County Durham 001</td>\n",
              "      <td>E01020635</td>\n",
              "      <td>County Durham 001B</td>\n",
              "      <td>Durham</td>\n",
              "    </tr>\n",
              "    <tr>\n",
              "      <th>5</th>\n",
              "      <td>E12000001</td>\n",
              "      <td>NORTH EAST</td>\n",
              "      <td>E06000047</td>\n",
              "      <td>County Durham UA</td>\n",
              "      <td>E02004297</td>\n",
              "      <td>County Durham 001</td>\n",
              "      <td>E01020636</td>\n",
              "      <td>County Durham 001C</td>\n",
              "      <td>Durham</td>\n",
              "    </tr>\n",
              "    <tr>\n",
              "      <th>6</th>\n",
              "      <td>E12000001</td>\n",
              "      <td>NORTH EAST</td>\n",
              "      <td>E06000047</td>\n",
              "      <td>County Durham UA</td>\n",
              "      <td>E02004297</td>\n",
              "      <td>County Durham 001</td>\n",
              "      <td>E01020654</td>\n",
              "      <td>County Durham 001D</td>\n",
              "      <td>Durham</td>\n",
              "    </tr>\n",
              "    <tr>\n",
              "      <th>7</th>\n",
              "      <td>E12000001</td>\n",
              "      <td>NORTH EAST</td>\n",
              "      <td>E06000047</td>\n",
              "      <td>County Durham UA</td>\n",
              "      <td>E02004297</td>\n",
              "      <td>County Durham 001</td>\n",
              "      <td>E01020676</td>\n",
              "      <td>County Durham 001E</td>\n",
              "      <td>Durham</td>\n",
              "    </tr>\n",
              "  </tbody>\n",
              "</table>\n",
              "</div>"
            ],
            "text/plain": [
              "  Region code Region name  ...           LSOA Name Police_force\n",
              "3   E12000001  NORTH EAST  ...  County Durham 001A       Durham\n",
              "4   E12000001  NORTH EAST  ...  County Durham 001B       Durham\n",
              "5   E12000001  NORTH EAST  ...  County Durham 001C       Durham\n",
              "6   E12000001  NORTH EAST  ...  County Durham 001D       Durham\n",
              "7   E12000001  NORTH EAST  ...  County Durham 001E       Durham\n",
              "\n",
              "[5 rows x 9 columns]"
            ]
          },
          "metadata": {
            "tags": []
          },
          "execution_count": 26
        }
      ]
    },
    {
      "cell_type": "code",
      "metadata": {
        "id": "SwLjlj7hG9Em",
        "colab_type": "code",
        "colab": {}
      },
      "source": [
        "# now happy to proceed with saving this list to use as reference list between LSOA and police force\n",
        "ONS_geo_ref1.to_csv('PoliceforceLSOA.csv')"
      ],
      "execution_count": 0,
      "outputs": []
    },
    {
      "cell_type": "code",
      "metadata": {
        "id": "VH9PhWkFG-lL",
        "colab_type": "code",
        "colab": {}
      },
      "source": [
        "# prompt download from colab\n",
        "from google.colab import files\n",
        "\n",
        "files.download('PoliceforceLSOA.csv')"
      ],
      "execution_count": 0,
      "outputs": []
    },
    {
      "cell_type": "code",
      "metadata": {
        "id": "uNbhCIy-HPi2",
        "colab_type": "code",
        "colab": {}
      },
      "source": [
        ""
      ],
      "execution_count": 0,
      "outputs": []
    }
  ]
}