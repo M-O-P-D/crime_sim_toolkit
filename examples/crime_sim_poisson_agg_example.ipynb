{
  "nbformat": 4,
  "nbformat_minor": 0,
  "metadata": {
    "colab": {
      "name": "crime_sim_poisson_example.ipynb",
      "provenance": [],
      "collapsed_sections": [],
      "include_colab_link": true
    },
    "kernelspec": {
      "display_name": "Python [conda env:crime_sim]",
      "language": "python",
      "name": "conda-env-crime_sim-py"
    },
    "language_info": {
      "codemirror_mode": {
        "name": "ipython",
        "version": 3
      },
      "file_extension": ".py",
      "mimetype": "text/x-python",
      "name": "python",
      "nbconvert_exporter": "python",
      "pygments_lexer": "ipython3",
      "version": "3.7.3"
    }
  },
  "cells": [
    {
      "cell_type": "markdown",
      "metadata": {
        "id": "view-in-github",
        "colab_type": "text"
      },
      "source": [
        "<a href=\"https://colab.research.google.com/github/Sparrow0hawk/crime_sim_toolkit/blob/develop-refactor-populate-offence/examples/crime_sim_poisson_agg_example.ipynb\" target=\"_parent\"><img src=\"https://colab.research.google.com/assets/colab-badge.svg\" alt=\"Open In Colab\"/></a>"
      ]
    },
    {
      "cell_type": "markdown",
      "metadata": {
        "colab_type": "text",
        "id": "XgFA3CtTbiwQ"
      },
      "source": [
        "# Example notebook for using the crime_sim_toolkit\n",
        "\n",
        "Follow these steps to load your own data into the crime_sim_toolkit for generating new crime data using the Poisson Sampler function.\n",
        "\n",
        "## Notes on running\n",
        "For this to run successfully follow these steps:\n",
        "\n",
        "\n",
        "1.   Git clone the repo into the root dir\n",
        "2.   Run pip install within the downloaded repo\n",
        "3.   Reset the local runtime to allow for pip packages installed to work\n",
        "4.   Then run python setup.py install on downloaded repo\n",
        "\n",
        "The package should now be useable within the notebook.\n",
        "\n"
      ]
    },
    {
      "cell_type": "code",
      "metadata": {
        "colab_type": "code",
        "id": "Aha_nz-SRX56",
        "outputId": "77ddae8c-8f05-4b0a-8beb-431812085520",
        "colab": {
          "base_uri": "https://localhost:8080/",
          "height": 162
        }
      },
      "source": [
        "%cd ~/\n",
        "\n",
        "! git clone --single-branch --branch develop-refactor-populate-offence https://github.com/Sparrow0hawk/crime_sim_toolkit.git"
      ],
      "execution_count": 1,
      "outputs": [
        {
          "output_type": "stream",
          "text": [
            "/root\n",
            "Cloning into 'crime_sim_toolkit'...\n",
            "remote: Enumerating objects: 58, done.\u001b[K\n",
            "remote: Counting objects: 100% (58/58), done.\u001b[K\n",
            "remote: Compressing objects: 100% (43/43), done.\u001b[K\n",
            "remote: Total 1165 (delta 27), reused 33 (delta 14), pack-reused 1107\u001b[K\n",
            "Receiving objects: 100% (1165/1165), 49.24 MiB | 27.18 MiB/s, done.\n",
            "Resolving deltas: 100% (758/758), done.\n"
          ],
          "name": "stdout"
        }
      ]
    },
    {
      "cell_type": "code",
      "metadata": {
        "colab_type": "code",
        "id": "J6ezywTXRnbX",
        "outputId": "a18d520c-6b49-49e6-9e03-56c68e4fb7a2",
        "colab": {
          "base_uri": "https://localhost:8080/",
          "height": 453
        }
      },
      "source": [
        "%cd ~/crime_sim_toolkit\n",
        "\n",
        "!pip install -q -r requirements.txt"
      ],
      "execution_count": 2,
      "outputs": [
        {
          "output_type": "stream",
          "text": [
            "/root/crime_sim_toolkit\n",
            "\u001b[K     |████████████████████████████████| 163kB 7.5MB/s \n",
            "\u001b[K     |████████████████████████████████| 215kB 18.9MB/s \n",
            "\u001b[K     |████████████████████████████████| 92kB 8.7MB/s \n",
            "\u001b[K     |████████████████████████████████| 133kB 22.8MB/s \n",
            "\u001b[K     |████████████████████████████████| 286kB 19.5MB/s \n",
            "\u001b[K     |████████████████████████████████| 13.1MB 13.8MB/s \n",
            "\u001b[K     |████████████████████████████████| 20.4MB 194kB/s \n",
            "\u001b[K     |████████████████████████████████| 10.5MB 45.8MB/s \n",
            "\u001b[K     |████████████████████████████████| 71kB 9.8MB/s \n",
            "\u001b[K     |████████████████████████████████| 235kB 46.9MB/s \n",
            "\u001b[K     |████████████████████████████████| 512kB 53.9MB/s \n",
            "\u001b[K     |████████████████████████████████| 61kB 8.4MB/s \n",
            "\u001b[K     |████████████████████████████████| 6.7MB 35.0MB/s \n",
            "\u001b[K     |████████████████████████████████| 25.2MB 61.6MB/s \n",
            "\u001b[K     |████████████████████████████████| 153kB 51.1MB/s \n",
            "\u001b[31mERROR: tensorflow 2.2.0rc2 has requirement scipy==1.4.1; python_version >= \"3\", but you'll have scipy 1.3.0 which is incompatible.\u001b[0m\n",
            "\u001b[31mERROR: kaggle 1.5.6 has requirement urllib3<1.25,>=1.21.1, but you'll have urllib3 1.25.3 which is incompatible.\u001b[0m\n",
            "\u001b[31mERROR: google-colab 1.0.0 has requirement pandas~=1.0.0; python_version >= \"3.0\", but you'll have pandas 0.25.0 which is incompatible.\u001b[0m\n",
            "\u001b[31mERROR: google-colab 1.0.0 has requirement requests~=2.21.0, but you'll have requests 2.22.0 which is incompatible.\u001b[0m\n",
            "\u001b[31mERROR: datascience 0.10.6 has requirement coverage==3.7.1, but you'll have coverage 4.5.4 which is incompatible.\u001b[0m\n",
            "\u001b[31mERROR: datascience 0.10.6 has requirement folium==0.2.1, but you'll have folium 0.10.0 which is incompatible.\u001b[0m\n",
            "\u001b[31mERROR: coveralls 0.5 has requirement coverage<3.999,>=3.6, but you'll have coverage 4.5.4 which is incompatible.\u001b[0m\n",
            "\u001b[31mERROR: albumentations 0.1.12 has requirement imgaug<0.2.7,>=0.2.5, but you'll have imgaug 0.2.9 which is incompatible.\u001b[0m\n",
            "\u001b[?25h"
          ],
          "name": "stdout"
        }
      ]
    },
    {
      "cell_type": "markdown",
      "metadata": {
        "colab_type": "text",
        "id": "3Nf4DMs2YRkE"
      },
      "source": [
        "# RESTART RUNTIME"
      ]
    },
    {
      "cell_type": "code",
      "metadata": {
        "colab_type": "code",
        "id": "bD-ZF-Hya4Lq",
        "outputId": "c8bbfaa4-f058-4526-b83c-8dbae6e42ba9",
        "colab": {
          "base_uri": "https://localhost:8080/",
          "height": 35
        }
      },
      "source": [
        "%cd ~/crime_sim_toolkit\n",
        "\n",
        "!python setup.py -q install"
      ],
      "execution_count": 1,
      "outputs": [
        {
          "output_type": "stream",
          "text": [
            "/root/crime_sim_toolkit\n"
          ],
          "name": "stdout"
        }
      ]
    },
    {
      "cell_type": "markdown",
      "metadata": {
        "colab_type": "text",
        "id": "AFxm7U4JmFNy"
      },
      "source": [
        "## Loading data\n",
        "\n",
        "Using data from a [custom dowload](https://data.police.uk/data/) from Police Data UK we can load that data, covert it to counts by crime_type by LSOA by psuedo Week/Day by passing the directory to the Poisson_sim function.\n",
        "\n",
        "Sample data used here is included within the [github repository](https://github.com/Sparrow0hawk/crime_sim_toolkit/tree/master/sample_data) and covers January-June from 2017-2019.\n",
        "\n",
        "Here the aggregate function is set to true. Aggregating data up to the police force area."
      ]
    },
    {
      "cell_type": "code",
      "metadata": {
        "colab_type": "code",
        "id": "Ie_tNRIYSFTe",
        "outputId": "5a22e896-00e1-4dad-87a8-6a66d4e6a18f",
        "colab": {
          "base_uri": "https://localhost:8080/",
          "height": 144
        }
      },
      "source": [
        "import crime_sim_toolkit.poisson_sim as Poisson_sim\n",
        "\n",
        "\n",
        "sim_week = Poisson_sim.Poisson_sim(\n",
        "                               # because of the data passed these are the LA we want\n",
        "                               LA_names=['Kirklees','Calderdale','Leeds','Bradford','Wakefield'], \n",
        "                               directory='/root/crime_sim_toolkit/sample_data',\n",
        "                               # this can either be Day or Week\n",
        "                               timeframe='Day',\n",
        "                               aggregate=True)"
      ],
      "execution_count": 2,
      "outputs": [
        {
          "output_type": "stream",
          "text": [
            " \n",
            "Fetching count data from police reports.\n",
            "Sit back and have a brew, this may take sometime.\n",
            " \n",
            "Number of data files found:  18\n",
            "Psuedo days allocated to all reports.\n",
            "Datetime column configured.\n"
          ],
          "name": "stdout"
        }
      ]
    },
    {
      "cell_type": "code",
      "metadata": {
        "colab_type": "code",
        "id": "19KyR5ZObINn",
        "outputId": "f2f2acf2-9120-433a-9f40-03daeeeaf4a3",
        "colab": {
          "base_uri": "https://localhost:8080/",
          "height": 206
        }
      },
      "source": [
        "sim_week.data.head()"
      ],
      "execution_count": 3,
      "outputs": [
        {
          "output_type": "execute_result",
          "data": {
            "text/html": [
              "<div>\n",
              "<style scoped>\n",
              "    .dataframe tbody tr th:only-of-type {\n",
              "        vertical-align: middle;\n",
              "    }\n",
              "\n",
              "    .dataframe tbody tr th {\n",
              "        vertical-align: top;\n",
              "    }\n",
              "\n",
              "    .dataframe thead th {\n",
              "        text-align: right;\n",
              "    }\n",
              "</style>\n",
              "<table border=\"1\" class=\"dataframe\">\n",
              "  <thead>\n",
              "    <tr style=\"text-align: right;\">\n",
              "      <th></th>\n",
              "      <th>datetime</th>\n",
              "      <th>Crime_type</th>\n",
              "      <th>LSOA_code</th>\n",
              "      <th>Counts</th>\n",
              "    </tr>\n",
              "  </thead>\n",
              "  <tbody>\n",
              "    <tr>\n",
              "      <th>0</th>\n",
              "      <td>2017-01-01</td>\n",
              "      <td>Anti-social behaviour</td>\n",
              "      <td>West Yorkshire</td>\n",
              "      <td>153</td>\n",
              "    </tr>\n",
              "    <tr>\n",
              "      <th>1</th>\n",
              "      <td>2017-01-01</td>\n",
              "      <td>Bicycle theft</td>\n",
              "      <td>West Yorkshire</td>\n",
              "      <td>4</td>\n",
              "    </tr>\n",
              "    <tr>\n",
              "      <th>2</th>\n",
              "      <td>2017-01-01</td>\n",
              "      <td>Burglary</td>\n",
              "      <td>West Yorkshire</td>\n",
              "      <td>78</td>\n",
              "    </tr>\n",
              "    <tr>\n",
              "      <th>3</th>\n",
              "      <td>2017-01-01</td>\n",
              "      <td>Criminal damage and arson</td>\n",
              "      <td>West Yorkshire</td>\n",
              "      <td>76</td>\n",
              "    </tr>\n",
              "    <tr>\n",
              "      <th>4</th>\n",
              "      <td>2017-01-01</td>\n",
              "      <td>Drugs</td>\n",
              "      <td>West Yorkshire</td>\n",
              "      <td>14</td>\n",
              "    </tr>\n",
              "  </tbody>\n",
              "</table>\n",
              "</div>"
            ],
            "text/plain": [
              "    datetime                 Crime_type       LSOA_code  Counts\n",
              "0 2017-01-01      Anti-social behaviour  West Yorkshire     153\n",
              "1 2017-01-01              Bicycle theft  West Yorkshire       4\n",
              "2 2017-01-01                   Burglary  West Yorkshire      78\n",
              "3 2017-01-01  Criminal damage and arson  West Yorkshire      76\n",
              "4 2017-01-01                      Drugs  West Yorkshire      14"
            ]
          },
          "metadata": {
            "tags": []
          },
          "execution_count": 3
        }
      ]
    },
    {
      "cell_type": "markdown",
      "metadata": {
        "colab_type": "text",
        "id": "KDBak64uMxC1"
      },
      "source": [
        "## Sampling new data\n",
        "\n",
        "Based on the loaded data we can now create an out of bag sample and use the poisson sampler to generate crime reports based on historic reports to be compared to the out of bag sample."
      ]
    },
    {
      "cell_type": "code",
      "metadata": {
        "colab_type": "code",
        "id": "Q4b95m66HZoM",
        "outputId": "b57e6887-21a3-41eb-fba0-9e0ba9aeffb3",
        "colab": {
          "base_uri": "https://localhost:8080/",
          "height": 72
        }
      },
      "source": [
        "test_data = sim_week.out_of_bag_prep(sim_week.data)\n",
        "\n",
        "train_data = sim_week.oob_train_split(sim_week.data, test_data)"
      ],
      "execution_count": 4,
      "outputs": [
        {
          "output_type": "stream",
          "text": [
            "Datetime column configured.\n",
            "Datetime column configured.\n",
            "Datetime column configured.\n"
          ],
          "name": "stdout"
        }
      ]
    },
    {
      "cell_type": "code",
      "metadata": {
        "colab_type": "code",
        "id": "TfFrb8MghxuP",
        "outputId": "b1610570-f67b-4500-ca77-430b908eaa7d",
        "colab": {
          "base_uri": "https://localhost:8080/",
          "height": 1000
        }
      },
      "source": [
        "%%time\n",
        "\n",
        "datat = sim_week.SimplePoission(train_data, test_data, method='simple', mv_window=0)"
      ],
      "execution_count": 5,
      "outputs": [
        {
          "output_type": "stream",
          "text": [
            "Datetime column configured.\n",
            "Datetime column configured.\n",
            "Time resolution set to:  datetime\n",
            "Beginning sampling.\n",
            "Simulating datetime: 2019-01-01 00:00:00\n",
            "Simulating datetime: 2019-01-02 00:00:00\n",
            "Simulating datetime: 2019-01-03 00:00:00\n",
            "Simulating datetime: 2019-01-04 00:00:00\n",
            "Simulating datetime: 2019-01-05 00:00:00\n",
            "Simulating datetime: 2019-01-06 00:00:00\n",
            "Simulating datetime: 2019-01-07 00:00:00\n",
            "Simulating datetime: 2019-01-08 00:00:00\n",
            "Simulating datetime: 2019-01-09 00:00:00\n",
            "Simulating datetime: 2019-01-10 00:00:00\n",
            "Simulating datetime: 2019-01-11 00:00:00\n",
            "Simulating datetime: 2019-01-12 00:00:00\n",
            "Simulating datetime: 2019-01-13 00:00:00\n",
            "Simulating datetime: 2019-01-14 00:00:00\n",
            "Simulating datetime: 2019-01-15 00:00:00\n",
            "Simulating datetime: 2019-01-16 00:00:00\n",
            "Simulating datetime: 2019-01-17 00:00:00\n",
            "Simulating datetime: 2019-01-18 00:00:00\n",
            "Simulating datetime: 2019-01-19 00:00:00\n",
            "Simulating datetime: 2019-01-20 00:00:00\n",
            "Simulating datetime: 2019-01-21 00:00:00\n",
            "Simulating datetime: 2019-01-22 00:00:00\n",
            "Simulating datetime: 2019-01-23 00:00:00\n",
            "Simulating datetime: 2019-01-24 00:00:00\n",
            "Simulating datetime: 2019-01-25 00:00:00\n",
            "Simulating datetime: 2019-01-26 00:00:00\n",
            "Simulating datetime: 2019-01-27 00:00:00\n",
            "Simulating datetime: 2019-01-28 00:00:00\n",
            "Simulating datetime: 2019-01-29 00:00:00\n",
            "Simulating datetime: 2019-01-30 00:00:00\n",
            "Simulating datetime: 2019-01-31 00:00:00\n",
            "Simulating datetime: 2019-02-01 00:00:00\n",
            "Simulating datetime: 2019-02-02 00:00:00\n",
            "Simulating datetime: 2019-02-03 00:00:00\n",
            "Simulating datetime: 2019-02-04 00:00:00\n",
            "Simulating datetime: 2019-02-05 00:00:00\n",
            "Simulating datetime: 2019-02-06 00:00:00\n",
            "Simulating datetime: 2019-02-07 00:00:00\n",
            "Simulating datetime: 2019-02-08 00:00:00\n",
            "Simulating datetime: 2019-02-09 00:00:00\n",
            "Simulating datetime: 2019-02-10 00:00:00\n",
            "Simulating datetime: 2019-02-11 00:00:00\n",
            "Simulating datetime: 2019-02-12 00:00:00\n",
            "Simulating datetime: 2019-02-13 00:00:00\n",
            "Simulating datetime: 2019-02-14 00:00:00\n",
            "Simulating datetime: 2019-02-15 00:00:00\n",
            "Simulating datetime: 2019-02-16 00:00:00\n",
            "Simulating datetime: 2019-02-17 00:00:00\n",
            "Simulating datetime: 2019-02-18 00:00:00\n",
            "Simulating datetime: 2019-02-19 00:00:00\n",
            "Simulating datetime: 2019-02-20 00:00:00\n",
            "Simulating datetime: 2019-02-21 00:00:00\n",
            "Simulating datetime: 2019-02-22 00:00:00\n",
            "Simulating datetime: 2019-02-23 00:00:00\n",
            "Simulating datetime: 2019-02-24 00:00:00\n",
            "Simulating datetime: 2019-02-25 00:00:00\n",
            "Simulating datetime: 2019-02-26 00:00:00\n",
            "Simulating datetime: 2019-02-27 00:00:00\n",
            "Simulating datetime: 2019-02-28 00:00:00\n",
            "Simulating datetime: 2019-03-01 00:00:00\n",
            "Simulating datetime: 2019-03-02 00:00:00\n",
            "Simulating datetime: 2019-03-03 00:00:00\n",
            "Simulating datetime: 2019-03-04 00:00:00\n",
            "Simulating datetime: 2019-03-05 00:00:00\n",
            "Simulating datetime: 2019-03-06 00:00:00\n",
            "Simulating datetime: 2019-03-07 00:00:00\n",
            "Simulating datetime: 2019-03-08 00:00:00\n",
            "Simulating datetime: 2019-03-09 00:00:00\n",
            "Simulating datetime: 2019-03-10 00:00:00\n",
            "Simulating datetime: 2019-03-11 00:00:00\n",
            "Simulating datetime: 2019-03-12 00:00:00\n",
            "Simulating datetime: 2019-03-13 00:00:00\n",
            "Simulating datetime: 2019-03-14 00:00:00\n",
            "Simulating datetime: 2019-03-15 00:00:00\n",
            "Simulating datetime: 2019-03-16 00:00:00\n",
            "Simulating datetime: 2019-03-17 00:00:00\n",
            "Simulating datetime: 2019-03-18 00:00:00\n",
            "Simulating datetime: 2019-03-19 00:00:00\n",
            "Simulating datetime: 2019-03-20 00:00:00\n",
            "Simulating datetime: 2019-03-21 00:00:00\n",
            "Simulating datetime: 2019-03-22 00:00:00\n",
            "Simulating datetime: 2019-03-23 00:00:00\n",
            "Simulating datetime: 2019-03-24 00:00:00\n",
            "Simulating datetime: 2019-03-25 00:00:00\n",
            "Simulating datetime: 2019-03-26 00:00:00\n",
            "Simulating datetime: 2019-03-27 00:00:00\n",
            "Simulating datetime: 2019-03-28 00:00:00\n",
            "Simulating datetime: 2019-03-29 00:00:00\n",
            "Simulating datetime: 2019-03-30 00:00:00\n",
            "Simulating datetime: 2019-03-31 00:00:00\n",
            "Simulating datetime: 2019-04-01 00:00:00\n",
            "Simulating datetime: 2019-04-02 00:00:00\n",
            "Simulating datetime: 2019-04-03 00:00:00\n",
            "Simulating datetime: 2019-04-04 00:00:00\n",
            "Simulating datetime: 2019-04-05 00:00:00\n",
            "Simulating datetime: 2019-04-06 00:00:00\n",
            "Simulating datetime: 2019-04-07 00:00:00\n",
            "Simulating datetime: 2019-04-08 00:00:00\n",
            "Simulating datetime: 2019-04-09 00:00:00\n",
            "Simulating datetime: 2019-04-10 00:00:00\n",
            "Simulating datetime: 2019-04-11 00:00:00\n",
            "Simulating datetime: 2019-04-12 00:00:00\n",
            "Simulating datetime: 2019-04-13 00:00:00\n",
            "Simulating datetime: 2019-04-14 00:00:00\n",
            "Simulating datetime: 2019-04-15 00:00:00\n",
            "Simulating datetime: 2019-04-16 00:00:00\n",
            "Simulating datetime: 2019-04-17 00:00:00\n",
            "Simulating datetime: 2019-04-18 00:00:00\n",
            "Simulating datetime: 2019-04-19 00:00:00\n",
            "Simulating datetime: 2019-04-20 00:00:00\n",
            "Simulating datetime: 2019-04-21 00:00:00\n",
            "Simulating datetime: 2019-04-22 00:00:00\n",
            "Simulating datetime: 2019-04-23 00:00:00\n",
            "Simulating datetime: 2019-04-24 00:00:00\n",
            "Simulating datetime: 2019-04-25 00:00:00\n",
            "Simulating datetime: 2019-04-26 00:00:00\n",
            "Simulating datetime: 2019-04-27 00:00:00\n",
            "Simulating datetime: 2019-04-28 00:00:00\n",
            "Simulating datetime: 2019-04-29 00:00:00\n",
            "Simulating datetime: 2019-04-30 00:00:00\n",
            "Simulating datetime: 2019-05-01 00:00:00\n",
            "Simulating datetime: 2019-05-02 00:00:00\n",
            "Simulating datetime: 2019-05-03 00:00:00\n",
            "Simulating datetime: 2019-05-04 00:00:00\n",
            "Simulating datetime: 2019-05-05 00:00:00\n",
            "Simulating datetime: 2019-05-06 00:00:00\n",
            "Simulating datetime: 2019-05-07 00:00:00\n",
            "Simulating datetime: 2019-05-08 00:00:00\n",
            "Simulating datetime: 2019-05-09 00:00:00\n",
            "Simulating datetime: 2019-05-10 00:00:00\n",
            "Simulating datetime: 2019-05-11 00:00:00\n",
            "Simulating datetime: 2019-05-12 00:00:00\n",
            "Simulating datetime: 2019-05-13 00:00:00\n",
            "Simulating datetime: 2019-05-14 00:00:00\n",
            "Simulating datetime: 2019-05-15 00:00:00\n",
            "Simulating datetime: 2019-05-16 00:00:00\n",
            "Simulating datetime: 2019-05-17 00:00:00\n",
            "Simulating datetime: 2019-05-18 00:00:00\n",
            "Simulating datetime: 2019-05-19 00:00:00\n",
            "Simulating datetime: 2019-05-20 00:00:00\n",
            "Simulating datetime: 2019-05-21 00:00:00\n",
            "Simulating datetime: 2019-05-22 00:00:00\n",
            "Simulating datetime: 2019-05-23 00:00:00\n",
            "Simulating datetime: 2019-05-24 00:00:00\n",
            "Simulating datetime: 2019-05-25 00:00:00\n",
            "Simulating datetime: 2019-05-26 00:00:00\n",
            "Simulating datetime: 2019-05-27 00:00:00\n",
            "Simulating datetime: 2019-05-28 00:00:00\n",
            "Simulating datetime: 2019-05-29 00:00:00\n",
            "Simulating datetime: 2019-05-30 00:00:00\n",
            "Simulating datetime: 2019-05-31 00:00:00\n",
            "Simulating datetime: 2019-06-01 00:00:00\n",
            "Simulating datetime: 2019-06-02 00:00:00\n",
            "Simulating datetime: 2019-06-03 00:00:00\n",
            "Simulating datetime: 2019-06-04 00:00:00\n",
            "Simulating datetime: 2019-06-05 00:00:00\n",
            "Simulating datetime: 2019-06-06 00:00:00\n",
            "Simulating datetime: 2019-06-07 00:00:00\n",
            "Simulating datetime: 2019-06-08 00:00:00\n",
            "Simulating datetime: 2019-06-09 00:00:00\n",
            "Simulating datetime: 2019-06-10 00:00:00\n",
            "Simulating datetime: 2019-06-11 00:00:00\n",
            "Simulating datetime: 2019-06-12 00:00:00\n",
            "Simulating datetime: 2019-06-13 00:00:00\n",
            "Simulating datetime: 2019-06-14 00:00:00\n",
            "Simulating datetime: 2019-06-15 00:00:00\n",
            "Simulating datetime: 2019-06-16 00:00:00\n",
            "Simulating datetime: 2019-06-17 00:00:00\n",
            "Simulating datetime: 2019-06-18 00:00:00\n",
            "Simulating datetime: 2019-06-19 00:00:00\n",
            "Simulating datetime: 2019-06-20 00:00:00\n",
            "Simulating datetime: 2019-06-21 00:00:00\n",
            "Simulating datetime: 2019-06-22 00:00:00\n",
            "Simulating datetime: 2019-06-23 00:00:00\n",
            "Simulating datetime: 2019-06-24 00:00:00\n",
            "Simulating datetime: 2019-06-25 00:00:00\n",
            "Simulating datetime: 2019-06-26 00:00:00\n",
            "Simulating datetime: 2019-06-27 00:00:00\n",
            "Simulating datetime: 2019-06-28 00:00:00\n",
            "Simulating datetime: 2019-06-29 00:00:00\n",
            "Simulating datetime: 2019-06-30 00:00:00\n",
            "CPU times: user 13.7 s, sys: 69.2 ms, total: 13.8 s\n",
            "Wall time: 13.7 s\n"
          ],
          "name": "stdout"
        }
      ]
    },
    {
      "cell_type": "markdown",
      "metadata": {
        "colab_type": "text",
        "id": "fA-kCqogMkZO"
      },
      "source": [
        "## Model comparison\n",
        "\n",
        "We can compare our model to the hold out test set using the error_Reporting function."
      ]
    },
    {
      "cell_type": "code",
      "metadata": {
        "colab_type": "code",
        "id": "tWtX8gWA_LAZ",
        "outputId": "e664d3ae-9060-4701-fe66-33ad71b64029",
        "colab": {
          "base_uri": "https://localhost:8080/",
          "height": 461
        }
      },
      "source": [
        "diff_table = sim_week.error_Reporting(test_data=test_data, simulated_data=datat)"
      ],
      "execution_count": 6,
      "outputs": [
        {
          "output_type": "stream",
          "text": [
            "Datetime column configured.\n",
            "Datetime column configured.\n",
            "Root mean squared error of poisson sampler:  73.6\n",
            "Mean absolute error:  60.3\n",
            "Median absolute error:  51.0\n",
            "-----------\n",
            "Total simulated crime events:  153856\n",
            "Total crime events in holdout data:  161391\n",
            "Undersampling by:  -4.700000000000005 %\n",
            "-------\n"
          ],
          "name": "stdout"
        },
        {
          "output_type": "display_data",
          "data": {
            "image/png": "[encoded data removed]",
            "text/plain": [
              "<Figure size 432x288 with 1 Axes>"
            ]
          },
          "metadata": {
            "tags": []
          }
        }
      ]
    },
    {
      "cell_type": "code",
      "metadata": {
        "colab_type": "code",
        "id": "_wFWjYm__hKW",
        "outputId": "09ede641-23fe-492f-e24e-b150075206fe",
        "colab": {
          "base_uri": "https://localhost:8080/",
          "height": 237
        }
      },
      "source": [
        "diff_table.head()"
      ],
      "execution_count": 7,
      "outputs": [
        {
          "output_type": "execute_result",
          "data": {
            "text/html": [
              "<div>\n",
              "<style scoped>\n",
              "    .dataframe tbody tr th:only-of-type {\n",
              "        vertical-align: middle;\n",
              "    }\n",
              "\n",
              "    .dataframe tbody tr th {\n",
              "        vertical-align: top;\n",
              "    }\n",
              "\n",
              "    .dataframe thead th {\n",
              "        text-align: right;\n",
              "    }\n",
              "</style>\n",
              "<table border=\"1\" class=\"dataframe\">\n",
              "  <thead>\n",
              "    <tr style=\"text-align: right;\">\n",
              "      <th></th>\n",
              "      <th>datetime</th>\n",
              "      <th>Pred_counts</th>\n",
              "      <th>Actual</th>\n",
              "      <th>Difference</th>\n",
              "    </tr>\n",
              "    <tr>\n",
              "      <th>LSOA_code</th>\n",
              "      <th></th>\n",
              "      <th></th>\n",
              "      <th></th>\n",
              "      <th></th>\n",
              "    </tr>\n",
              "  </thead>\n",
              "  <tbody>\n",
              "    <tr>\n",
              "      <th>West Yorkshire</th>\n",
              "      <td>2019-01-01</td>\n",
              "      <td>811</td>\n",
              "      <td>870</td>\n",
              "      <td>59</td>\n",
              "    </tr>\n",
              "    <tr>\n",
              "      <th>West Yorkshire</th>\n",
              "      <td>2019-01-02</td>\n",
              "      <td>802</td>\n",
              "      <td>823</td>\n",
              "      <td>21</td>\n",
              "    </tr>\n",
              "    <tr>\n",
              "      <th>West Yorkshire</th>\n",
              "      <td>2019-01-03</td>\n",
              "      <td>790</td>\n",
              "      <td>891</td>\n",
              "      <td>101</td>\n",
              "    </tr>\n",
              "    <tr>\n",
              "      <th>West Yorkshire</th>\n",
              "      <td>2019-01-04</td>\n",
              "      <td>798</td>\n",
              "      <td>909</td>\n",
              "      <td>111</td>\n",
              "    </tr>\n",
              "    <tr>\n",
              "      <th>West Yorkshire</th>\n",
              "      <td>2019-01-05</td>\n",
              "      <td>775</td>\n",
              "      <td>889</td>\n",
              "      <td>114</td>\n",
              "    </tr>\n",
              "  </tbody>\n",
              "</table>\n",
              "</div>"
            ],
            "text/plain": [
              "                 datetime  Pred_counts  Actual  Difference\n",
              "LSOA_code                                                 \n",
              "West Yorkshire 2019-01-01          811     870          59\n",
              "West Yorkshire 2019-01-02          802     823          21\n",
              "West Yorkshire 2019-01-03          790     891         101\n",
              "West Yorkshire 2019-01-04          798     909         111\n",
              "West Yorkshire 2019-01-05          775     889         114"
            ]
          },
          "metadata": {
            "tags": []
          },
          "execution_count": 7
        }
      ]
    },
    {
      "cell_type": "markdown",
      "metadata": {
        "colab_type": "text",
        "id": "kQ_eSFdkL-XM"
      },
      "source": [
        "## Using utils to get counts to reports\n",
        "\n",
        "You can use utility functions within the toolkit to convert generated count data back into individual reports. And using the populate_offence function include a more specific crime description (randomly allocated from regional data)."
      ]
    },
    {
      "cell_type": "code",
      "metadata": {
        "id": "9oXeekh0_rez",
        "ype": "code",
        "colab_type": "code",
        "colab": {}
      },
      "source": [
        "from crime_sim_toolkit import utils"
      ],
      "execution_count": 0,
      "outputs": []
    },
    {
      "cell_type": "code",
      "metadata": {
        "colab_type": "code",
        "id": "EzBMRSl6_YdF",
        "outputId": "864c3b2f-5c87-4956-9aff-83b59760b519",
        "colab": {
          "base_uri": "https://localhost:8080/",
          "height": 72
        }
      },
      "source": [
        "%%time\n",
        "# generate additional crime descriptions\n",
        "\n",
        "synth_counts = utils.counts_to_reports(datat)"
      ],
      "execution_count": 9,
      "outputs": [
        {
          "output_type": "stream",
          "text": [
            "Datetime column configured.\n",
            "CPU times: user 1min 15s, sys: 120 ms, total: 1min 15s\n",
            "Wall time: 1min 15s\n"
          ],
          "name": "stdout"
        }
      ]
    },
    {
      "cell_type": "code",
      "metadata": {
        "colab_type": "code",
        "id": "U4BH3w7g_1GR",
        "outputId": "9f400f24-7eb0-4fe1-86d2-9a9c9cb2549b",
        "colab": {
          "base_uri": "https://localhost:8080/",
          "height": 53
        }
      },
      "source": [
        "%%time\n",
        "# generate additional crime descriptions\n",
        "\n",
        "synth_counts_des = utils.populate_offence(synth_counts)"
      ],
      "execution_count": 10,
      "outputs": [
        {
          "output_type": "stream",
          "text": [
            "CPU times: user 5min 56s, sys: 55.3 ms, total: 5min 56s\n",
            "Wall time: 5min 57s\n"
          ],
          "name": "stdout"
        }
      ]
    },
    {
      "cell_type": "code",
      "metadata": {
        "colab_type": "code",
        "id": "dH8VTkNu_obm",
        "outputId": "b2f0269e-b013-43a0-c9ab-aa2f3d701cfb",
        "colab": {
          "base_uri": "https://localhost:8080/",
          "height": 206
        }
      },
      "source": [
        "synth_counts_des.head()"
      ],
      "execution_count": 11,
      "outputs": [
        {
          "output_type": "execute_result",
          "data": {
            "text/html": [
              "<div>\n",
              "<style scoped>\n",
              "    .dataframe tbody tr th:only-of-type {\n",
              "        vertical-align: middle;\n",
              "    }\n",
              "\n",
              "    .dataframe tbody tr th {\n",
              "        vertical-align: top;\n",
              "    }\n",
              "\n",
              "    .dataframe thead th {\n",
              "        text-align: right;\n",
              "    }\n",
              "</style>\n",
              "<table border=\"1\" class=\"dataframe\">\n",
              "  <thead>\n",
              "    <tr style=\"text-align: right;\">\n",
              "      <th></th>\n",
              "      <th>UID</th>\n",
              "      <th>datetime</th>\n",
              "      <th>Crime_type</th>\n",
              "      <th>LSOA_code</th>\n",
              "      <th>Police_force</th>\n",
              "      <th>Crime_description</th>\n",
              "    </tr>\n",
              "  </thead>\n",
              "  <tbody>\n",
              "    <tr>\n",
              "      <th>0</th>\n",
              "      <td>West11AN0</td>\n",
              "      <td>2019-01-01</td>\n",
              "      <td>Anti-social behaviour</td>\n",
              "      <td>West Yorkshire</td>\n",
              "      <td>West Yorkshire</td>\n",
              "      <td>anti-social behaviour</td>\n",
              "    </tr>\n",
              "    <tr>\n",
              "      <th>1</th>\n",
              "      <td>West11AN1</td>\n",
              "      <td>2019-01-01</td>\n",
              "      <td>Anti-social behaviour</td>\n",
              "      <td>West Yorkshire</td>\n",
              "      <td>West Yorkshire</td>\n",
              "      <td>anti-social behaviour</td>\n",
              "    </tr>\n",
              "    <tr>\n",
              "      <th>2</th>\n",
              "      <td>West11AN2</td>\n",
              "      <td>2019-01-01</td>\n",
              "      <td>Anti-social behaviour</td>\n",
              "      <td>West Yorkshire</td>\n",
              "      <td>West Yorkshire</td>\n",
              "      <td>anti-social behaviour</td>\n",
              "    </tr>\n",
              "    <tr>\n",
              "      <th>3</th>\n",
              "      <td>West11AN3</td>\n",
              "      <td>2019-01-01</td>\n",
              "      <td>Anti-social behaviour</td>\n",
              "      <td>West Yorkshire</td>\n",
              "      <td>West Yorkshire</td>\n",
              "      <td>anti-social behaviour</td>\n",
              "    </tr>\n",
              "    <tr>\n",
              "      <th>4</th>\n",
              "      <td>West11AN4</td>\n",
              "      <td>2019-01-01</td>\n",
              "      <td>Anti-social behaviour</td>\n",
              "      <td>West Yorkshire</td>\n",
              "      <td>West Yorkshire</td>\n",
              "      <td>anti-social behaviour</td>\n",
              "    </tr>\n",
              "  </tbody>\n",
              "</table>\n",
              "</div>"
            ],
            "text/plain": [
              "         UID   datetime  ...    Police_force      Crime_description\n",
              "0  West11AN0 2019-01-01  ...  West Yorkshire  anti-social behaviour\n",
              "1  West11AN1 2019-01-01  ...  West Yorkshire  anti-social behaviour\n",
              "2  West11AN2 2019-01-01  ...  West Yorkshire  anti-social behaviour\n",
              "3  West11AN3 2019-01-01  ...  West Yorkshire  anti-social behaviour\n",
              "4  West11AN4 2019-01-01  ...  West Yorkshire  anti-social behaviour\n",
              "\n",
              "[5 rows x 6 columns]"
            ]
          },
          "metadata": {
            "tags": []
          },
          "execution_count": 11
        }
      ]
    },
    {
      "cell_type": "code",
      "metadata": {
        "id": "rIvn_7bboRtz",
        "colab_type": "code",
        "colab": {}
      },
      "source": [
        "# pull out specifically required columns for ABM\n",
        "\n",
        "synth_counts_des = synth_counts_des[['UID','datetime','Crime_description','Crime_type','LSOA_code','Police_force']]"
      ],
      "execution_count": 0,
      "outputs": []
    },
    {
      "cell_type": "markdown",
      "metadata": {
        "colab_type": "text",
        "id": "UX8CL9-RK5kv"
      },
      "source": [
        "## Adding in random hours\n",
        "\n",
        "The agent based models implements hours for shift allocation. We'll perform a simple frame apply function to add hour."
      ]
    },
    {
      "cell_type": "code",
      "metadata": {
        "colab_type": "code",
        "id": "RUZdeNEwK4_O",
        "colab": {}
      },
      "source": [
        "import numpy as np\n",
        "\n",
        "synth_counts_des['Hour'] = np.random.randint(0,24, synth_counts_des.shape[0])\n",
        "\n",
        "# reorder columns\n",
        "synth_counts_des = synth_counts_des[['UID','datetime','Hour','Crime_description','Crime_type','LSOA_code','Police_force']]"
      ],
      "execution_count": 0,
      "outputs": []
    },
    {
      "cell_type": "code",
      "metadata": {
        "colab_type": "code",
        "id": "nMkAFZ2OMx7g",
        "outputId": "80703c06-a498-45aa-c79b-1bbc98888e41",
        "colab": {
          "base_uri": "https://localhost:8080/",
          "height": 206
        }
      },
      "source": [
        "synth_counts_des.head()"
      ],
      "execution_count": 15,
      "outputs": [
        {
          "output_type": "execute_result",
          "data": {
            "text/html": [
              "<div>\n",
              "<style scoped>\n",
              "    .dataframe tbody tr th:only-of-type {\n",
              "        vertical-align: middle;\n",
              "    }\n",
              "\n",
              "    .dataframe tbody tr th {\n",
              "        vertical-align: top;\n",
              "    }\n",
              "\n",
              "    .dataframe thead th {\n",
              "        text-align: right;\n",
              "    }\n",
              "</style>\n",
              "<table border=\"1\" class=\"dataframe\">\n",
              "  <thead>\n",
              "    <tr style=\"text-align: right;\">\n",
              "      <th></th>\n",
              "      <th>UID</th>\n",
              "      <th>datetime</th>\n",
              "      <th>Hour</th>\n",
              "      <th>Crime_description</th>\n",
              "      <th>Crime_type</th>\n",
              "      <th>LSOA_code</th>\n",
              "      <th>Police_force</th>\n",
              "    </tr>\n",
              "  </thead>\n",
              "  <tbody>\n",
              "    <tr>\n",
              "      <th>0</th>\n",
              "      <td>West11AN0</td>\n",
              "      <td>2019-01-01</td>\n",
              "      <td>16</td>\n",
              "      <td>anti-social behaviour</td>\n",
              "      <td>Anti-social behaviour</td>\n",
              "      <td>West Yorkshire</td>\n",
              "      <td>West Yorkshire</td>\n",
              "    </tr>\n",
              "    <tr>\n",
              "      <th>1</th>\n",
              "      <td>West11AN1</td>\n",
              "      <td>2019-01-01</td>\n",
              "      <td>11</td>\n",
              "      <td>anti-social behaviour</td>\n",
              "      <td>Anti-social behaviour</td>\n",
              "      <td>West Yorkshire</td>\n",
              "      <td>West Yorkshire</td>\n",
              "    </tr>\n",
              "    <tr>\n",
              "      <th>2</th>\n",
              "      <td>West11AN2</td>\n",
              "      <td>2019-01-01</td>\n",
              "      <td>19</td>\n",
              "      <td>anti-social behaviour</td>\n",
              "      <td>Anti-social behaviour</td>\n",
              "      <td>West Yorkshire</td>\n",
              "      <td>West Yorkshire</td>\n",
              "    </tr>\n",
              "    <tr>\n",
              "      <th>3</th>\n",
              "      <td>West11AN3</td>\n",
              "      <td>2019-01-01</td>\n",
              "      <td>3</td>\n",
              "      <td>anti-social behaviour</td>\n",
              "      <td>Anti-social behaviour</td>\n",
              "      <td>West Yorkshire</td>\n",
              "      <td>West Yorkshire</td>\n",
              "    </tr>\n",
              "    <tr>\n",
              "      <th>4</th>\n",
              "      <td>West11AN4</td>\n",
              "      <td>2019-01-01</td>\n",
              "      <td>22</td>\n",
              "      <td>anti-social behaviour</td>\n",
              "      <td>Anti-social behaviour</td>\n",
              "      <td>West Yorkshire</td>\n",
              "      <td>West Yorkshire</td>\n",
              "    </tr>\n",
              "  </tbody>\n",
              "</table>\n",
              "</div>"
            ],
            "text/plain": [
              "         UID   datetime  ...       LSOA_code    Police_force\n",
              "0  West11AN0 2019-01-01  ...  West Yorkshire  West Yorkshire\n",
              "1  West11AN1 2019-01-01  ...  West Yorkshire  West Yorkshire\n",
              "2  West11AN2 2019-01-01  ...  West Yorkshire  West Yorkshire\n",
              "3  West11AN3 2019-01-01  ...  West Yorkshire  West Yorkshire\n",
              "4  West11AN4 2019-01-01  ...  West Yorkshire  West Yorkshire\n",
              "\n",
              "[5 rows x 7 columns]"
            ]
          },
          "metadata": {
            "tags": []
          },
          "execution_count": 15
        }
      ]
    },
    {
      "cell_type": "markdown",
      "metadata": {
        "colab_type": "text",
        "id": "MfNVpgUKMbv4"
      },
      "source": [
        "## Outputting from Colabs\n",
        "\n",
        "Data produced can now be exported as a .csv for use in the agent-based model."
      ]
    },
    {
      "cell_type": "code",
      "metadata": {
        "colab_type": "code",
        "id": "5vsuEZ0M_45L",
        "colab": {}
      },
      "source": [
        "synth_counts_des.to_csv('synthetic_day_reports.csv')"
      ],
      "execution_count": 0,
      "outputs": []
    },
    {
      "cell_type": "code",
      "metadata": {
        "colab_type": "code",
        "id": "qZoC_LCBL7Gn",
        "colab": {}
      },
      "source": [
        "from google.colab import files\n",
        "\n",
        "files.download('synthetic_day_reports.csv')"
      ],
      "execution_count": 0,
      "outputs": []
    }
  ]
}