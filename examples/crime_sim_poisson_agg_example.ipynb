{
 "cells": [
  {
   "cell_type": "markdown",
   "metadata": {
    "colab_type": "text",
    "id": "view-in-github"
   },
   "source": [
    "<a href=\"https://colab.research.google.com/github/Sparrow0hawk/crime_sim_toolkit/blob/develop/examples/crime_sim_poisson_example.ipynb\" target=\"_parent\"><img src=\"https://colab.research.google.com/assets/colab-badge.svg\" alt=\"Open In Colab\"/></a>"
   ]
  },
  {
   "cell_type": "markdown",
   "metadata": {
    "colab_type": "text",
    "id": "XgFA3CtTbiwQ"
   },
   "source": [
    "# Example notebook for using the crime_sim_toolkit\n",
    "\n",
    "Follow these steps to load your own data into the crime_sim_toolkit for generating new crime data using the Poisson Sampler function.\n",
    "\n",
    "## Notes on running\n",
    "For this to run successfully follow these steps:\n",
    "\n",
    "\n",
    "1.   Git clone the repo into the root dir\n",
    "2.   Run pip install within the downloaded repo\n",
    "3.   Reset the local runtime to allow for pip packages installed to work\n",
    "4.   Then run python setup.py install on downloaded repo\n",
    "\n",
    "The package should now be useable within the notebook.\n",
    "\n"
   ]
  },
  {
   "cell_type": "code",
   "execution_count": 1,
   "metadata": {
    "colab": {
     "base_uri": "https://localhost:8080/",
     "height": 167
    },
    "colab_type": "code",
    "id": "Aha_nz-SRX56",
    "outputId": "0a133df4-c8de-4255-ef2c-bbe534bd61b3"
   },
   "outputs": [
    {
     "name": "stdout",
     "output_type": "stream",
     "text": [
      "/root\n",
      "Cloning into 'crime_sim_toolkit'...\n",
      "remote: Enumerating objects: 42, done.\u001b[K\n",
      "remote: Counting objects: 100% (42/42), done.\u001b[K\n",
      "remote: Compressing objects: 100% (28/28), done.\u001b[K\n",
      "remote: Total 547 (delta 21), reused 23 (delta 14), pack-reused 505\u001b[K\n",
      "Receiving objects: 100% (547/547), 48.68 MiB | 29.78 MiB/s, done.\n",
      "Resolving deltas: 100% (300/300), done.\n"
     ]
    }
   ],
   "source": [
    "%cd ~/\n",
    "\n",
    "! git clone --single-branch --branch develop https://github.com/Sparrow0hawk/crime_sim_toolkit.git"
   ]
  },
  {
   "cell_type": "code",
   "execution_count": 2,
   "metadata": {
    "colab": {
     "base_uri": "https://localhost:8080/",
     "height": 354
    },
    "colab_type": "code",
    "id": "J6ezywTXRnbX",
    "outputId": "4914fc8c-02cd-4cfa-e3fd-2ef6be10015c"
   },
   "outputs": [
    {
     "name": "stdout",
     "output_type": "stream",
     "text": [
      "/root/crime_sim_toolkit\n",
      "\u001b[K     |████████████████████████████████| 215kB 4.1MB/s \n",
      "\u001b[K     |████████████████████████████████| 92kB 31.8MB/s \n",
      "\u001b[K     |████████████████████████████████| 13.1MB 60.0MB/s \n",
      "\u001b[K     |████████████████████████████████| 20.4MB 1.9MB/s \n",
      "\u001b[K     |████████████████████████████████| 10.5MB 42.2MB/s \n",
      "\u001b[K     |████████████████████████████████| 235kB 60.4MB/s \n",
      "\u001b[K     |████████████████████████████████| 512kB 59.0MB/s \n",
      "\u001b[K     |████████████████████████████████| 61kB 25.5MB/s \n",
      "\u001b[K     |████████████████████████████████| 25.2MB 1.2MB/s \n",
      "\u001b[K     |████████████████████████████████| 153kB 55.8MB/s \n",
      "\u001b[31mERROR: kaggle 1.5.5 has requirement urllib3<1.25,>=1.21.1, but you'll have urllib3 1.25.3 which is incompatible.\u001b[0m\n",
      "\u001b[31mERROR: google-colab 1.0.0 has requirement pandas~=0.24.0, but you'll have pandas 0.25.0 which is incompatible.\u001b[0m\n",
      "\u001b[31mERROR: google-colab 1.0.0 has requirement requests~=2.21.0, but you'll have requests 2.22.0 which is incompatible.\u001b[0m\n",
      "\u001b[31mERROR: datascience 0.10.6 has requirement coverage==3.7.1, but you'll have coverage 4.5.4 which is incompatible.\u001b[0m\n",
      "\u001b[31mERROR: datascience 0.10.6 has requirement folium==0.2.1, but you'll have folium 0.10.0 which is incompatible.\u001b[0m\n",
      "\u001b[31mERROR: coveralls 0.5 has requirement coverage<3.999,>=3.6, but you'll have coverage 4.5.4 which is incompatible.\u001b[0m\n",
      "\u001b[31mERROR: albumentations 0.1.12 has requirement imgaug<0.2.7,>=0.2.5, but you'll have imgaug 0.2.9 which is incompatible.\u001b[0m\n",
      "\u001b[?25h"
     ]
    }
   ],
   "source": [
    "%cd ~/crime_sim_toolkit\n",
    "\n",
    "!pip install -q -r requirements.txt"
   ]
  },
  {
   "cell_type": "markdown",
   "metadata": {
    "colab_type": "text",
    "id": "3Nf4DMs2YRkE"
   },
   "source": [
    "# RESTART RUNTIME"
   ]
  },
  {
   "cell_type": "code",
   "execution_count": 1,
   "metadata": {
    "colab": {
     "base_uri": "https://localhost:8080/",
     "height": 36
    },
    "colab_type": "code",
    "id": "bD-ZF-Hya4Lq",
    "outputId": "fcbc8b20-7410-467f-84e3-4644b3ab27bb"
   },
   "outputs": [
    {
     "name": "stdout",
     "output_type": "stream",
     "text": [
      "/root/crime_sim_toolkit\n"
     ]
    }
   ],
   "source": [
    "%cd ~/crime_sim_toolkit\n",
    "\n",
    "!python setup.py -q install"
   ]
  },
  {
   "cell_type": "markdown",
   "metadata": {
    "colab_type": "text",
    "id": "AFxm7U4JmFNy"
   },
   "source": [
    "## Loading data\n",
    "\n",
    "Using data from a [custom dowload](https://data.police.uk/data/) from Police Data UK we can load that data, covert it to counts by crime_type by LSOA by psuedo Week/Day by passing the directory to the Poisson_sim function.\n",
    "\n",
    "Sample data used here is included within the [github repository](https://github.com/Sparrow0hawk/crime_sim_toolkit/tree/master/sample_data) and covers January-June from 2017-2019.\n",
    "\n",
    "Here the aggregate function is set to true. Aggregating data up to the police force area."
   ]
  },
  {
   "cell_type": "code",
   "execution_count": 1,
   "metadata": {
    "colab": {
     "base_uri": "https://localhost:8080/",
     "height": 111
    },
    "colab_type": "code",
    "id": "Ie_tNRIYSFTe",
    "outputId": "a5bf5005-3d4e-4b27-c616-578e1bf4762a"
   },
   "outputs": [
    {
     "name": "stdout",
     "output_type": "stream",
     "text": [
      "Fetching count data from police reports.\n",
      "Sit back and have a brew, this may take sometime.\n",
      " \n",
      "Number of data files found:  0\n",
      "No directory passed.\n",
      "Defaulting to test data.\n",
      "Psuedo days allocated to all reports.\n"
     ]
    }
   ],
   "source": [
    "import crime_sim_toolkit.poisson_sim as Poisson_sim\n",
    "\n",
    "\n",
    "sim_week = Poisson_sim.Poisson_sim(\n",
    "                               # because of the data passed these are the LA we want\n",
    "                               LA_names=['Kirklees','Calderdale','Leeds','Bradford','Wakefield'], \n",
    "                               directory='/root/crime_sim_toolkit/sample_data',\n",
    "                               # this can either be Day or Week\n",
    "                               timeframe='Day',\n",
    "                               aggregate=True)"
   ]
  },
  {
   "cell_type": "code",
   "execution_count": 2,
   "metadata": {
    "colab": {
     "base_uri": "https://localhost:8080/",
     "height": 206
    },
    "colab_type": "code",
    "id": "19KyR5ZObINn",
    "outputId": "1a9594b5-c62f-46f6-d62a-11a3ad7e9777"
   },
   "outputs": [
    {
     "data": {
      "text/html": [
       "<div>\n",
       "<style scoped>\n",
       "    .dataframe tbody tr th:only-of-type {\n",
       "        vertical-align: middle;\n",
       "    }\n",
       "\n",
       "    .dataframe tbody tr th {\n",
       "        vertical-align: top;\n",
       "    }\n",
       "\n",
       "    .dataframe thead th {\n",
       "        text-align: right;\n",
       "    }\n",
       "</style>\n",
       "<table border=\"1\" class=\"dataframe\">\n",
       "  <thead>\n",
       "    <tr style=\"text-align: right;\">\n",
       "      <th></th>\n",
       "      <th>Day</th>\n",
       "      <th>Mon</th>\n",
       "      <th>Year</th>\n",
       "      <th>Crime_type</th>\n",
       "      <th>LSOA_code</th>\n",
       "      <th>Counts</th>\n",
       "    </tr>\n",
       "  </thead>\n",
       "  <tbody>\n",
       "    <tr>\n",
       "      <th>0</th>\n",
       "      <td>1</td>\n",
       "      <td>7</td>\n",
       "      <td>2016</td>\n",
       "      <td>Anti-social behaviour</td>\n",
       "      <td>West Yorkshire</td>\n",
       "      <td>237</td>\n",
       "    </tr>\n",
       "    <tr>\n",
       "      <th>1</th>\n",
       "      <td>1</td>\n",
       "      <td>7</td>\n",
       "      <td>2016</td>\n",
       "      <td>Bicycle theft</td>\n",
       "      <td>West Yorkshire</td>\n",
       "      <td>6</td>\n",
       "    </tr>\n",
       "    <tr>\n",
       "      <th>2</th>\n",
       "      <td>1</td>\n",
       "      <td>7</td>\n",
       "      <td>2016</td>\n",
       "      <td>Burglary</td>\n",
       "      <td>West Yorkshire</td>\n",
       "      <td>61</td>\n",
       "    </tr>\n",
       "    <tr>\n",
       "      <th>3</th>\n",
       "      <td>1</td>\n",
       "      <td>7</td>\n",
       "      <td>2016</td>\n",
       "      <td>Criminal damage and arson</td>\n",
       "      <td>West Yorkshire</td>\n",
       "      <td>82</td>\n",
       "    </tr>\n",
       "    <tr>\n",
       "      <th>4</th>\n",
       "      <td>1</td>\n",
       "      <td>7</td>\n",
       "      <td>2016</td>\n",
       "      <td>Drugs</td>\n",
       "      <td>West Yorkshire</td>\n",
       "      <td>13</td>\n",
       "    </tr>\n",
       "  </tbody>\n",
       "</table>\n",
       "</div>"
      ],
      "text/plain": [
       "   Day  Mon  Year                 Crime_type       LSOA_code  Counts\n",
       "0    1    7  2016      Anti-social behaviour  West Yorkshire     237\n",
       "1    1    7  2016              Bicycle theft  West Yorkshire       6\n",
       "2    1    7  2016                   Burglary  West Yorkshire      61\n",
       "3    1    7  2016  Criminal damage and arson  West Yorkshire      82\n",
       "4    1    7  2016                      Drugs  West Yorkshire      13"
      ]
     },
     "execution_count": 2,
     "metadata": {},
     "output_type": "execute_result"
    }
   ],
   "source": [
    "sim_week.data.head()"
   ]
  },
  {
   "cell_type": "markdown",
   "metadata": {
    "colab_type": "text",
    "id": "KDBak64uMxC1"
   },
   "source": [
    "## Sampling new data\n",
    "\n",
    "Based on the loaded data we can now create an out of bag sample and use the poisson sampler to generate crime reports based on historic reports to be compared to the out of bag sample."
   ]
  },
  {
   "cell_type": "code",
   "execution_count": 3,
   "metadata": {
    "colab": {
     "base_uri": "https://localhost:8080/",
     "height": 54
    },
    "colab_type": "code",
    "id": "Q4b95m66HZoM",
    "outputId": "781c1367-5850-405b-8a45-0913f5e35e8c"
   },
   "outputs": [
    {
     "name": "stdout",
     "output_type": "stream",
     "text": [
      "The passed data does not appear to have a full years (Jan-Dec) worth of data.\n",
      "Defaulting to select out-of-bag sample for most recent year.\n"
     ]
    }
   ],
   "source": [
    "test_data = sim_week.out_of_bag_prep(sim_week.data)\n",
    "\n",
    "train_data = sim_week.oob_train_split(sim_week.data, test_data)"
   ]
  },
  {
   "cell_type": "code",
   "execution_count": 7,
   "metadata": {
    "colab": {
     "base_uri": "https://localhost:8080/",
     "height": 1000
    },
    "colab_type": "code",
    "id": "TfFrb8MghxuP",
    "outputId": "c927f252-564e-47c2-f4c0-2d2c1d5b9236"
   },
   "outputs": [
    {
     "name": "stdout",
     "output_type": "stream",
     "text": [
      "Beginning sampling.\n",
      "Month: 7 Day: 1\n",
      "Month: 7 Day: 2\n",
      "Month: 7 Day: 3\n",
      "Month: 7 Day: 4\n",
      "Month: 7 Day: 5\n",
      "Month: 7 Day: 6\n",
      "Month: 7 Day: 7\n",
      "Month: 7 Day: 8\n",
      "Month: 7 Day: 9\n",
      "Month: 7 Day: 10\n",
      "Month: 7 Day: 11\n",
      "Month: 7 Day: 12\n",
      "Month: 7 Day: 13\n",
      "Month: 7 Day: 14\n",
      "Month: 7 Day: 15\n",
      "Month: 7 Day: 16\n",
      "Month: 7 Day: 17\n",
      "Month: 7 Day: 18\n",
      "Month: 7 Day: 19\n",
      "Month: 7 Day: 20\n",
      "Month: 7 Day: 21\n",
      "Month: 7 Day: 22\n",
      "Month: 7 Day: 23\n",
      "Month: 7 Day: 24\n",
      "Month: 7 Day: 25\n",
      "Month: 7 Day: 26\n",
      "Month: 7 Day: 27\n",
      "Month: 7 Day: 28\n",
      "Month: 7 Day: 29\n",
      "Month: 7 Day: 30\n",
      "Month: 7 Day: 31\n",
      "CPU times: user 2.43 s, sys: 76.9 ms, total: 2.5 s\n",
      "Wall time: 2.56 s\n"
     ]
    }
   ],
   "source": [
    "%%time\n",
    "\n",
    "datat = sim_week.SimplePoission(train_data, test_data, method='simple')"
   ]
  },
  {
   "cell_type": "markdown",
   "metadata": {
    "colab_type": "text",
    "id": "fA-kCqogMkZO"
   },
   "source": [
    "## Model comparison\n",
    "\n",
    "We can compare our model to the hold out test set using the error_Reporting function."
   ]
  },
  {
   "cell_type": "code",
   "execution_count": 8,
   "metadata": {
    "colab": {
     "base_uri": "https://localhost:8080/",
     "height": 429
    },
    "colab_type": "code",
    "id": "tWtX8gWA_LAZ",
    "outputId": "72f420f1-3ce7-421a-be9d-25355fadca7b"
   },
   "outputs": [
    {
     "name": "stdout",
     "output_type": "stream",
     "text": [
      "Root mean squared error of poisson sampler:  154.5\n",
      "Mean absolute error:  150.2\n",
      "Median absolute error:  153.0\n",
      "-----------\n",
      "Total simulated crime events:  26083\n",
      "Total crime events in holdout data:  30739\n",
      "Undersampling by:  -19.999999999999996 %\n",
      "-------\n"
     ]
    },
    {
     "data": {
      "image/png": "[encoded data removed]",
      "text/plain": [
       "<Figure size 432x288 with 1 Axes>"
      ]
     },
     "metadata": {
      "needs_background": "light"
     },
     "output_type": "display_data"
    }
   ],
   "source": [
    "diff_table = sim_week.error_Reporting(test_data=test_data, simulated_data=datat)"
   ]
  },
  {
   "cell_type": "code",
   "execution_count": 9,
   "metadata": {
    "colab": {
     "base_uri": "https://localhost:8080/",
     "height": 237
    },
    "colab_type": "code",
    "id": "_wFWjYm__hKW",
    "outputId": "2429edce-507a-4e39-9cac-dfb1923ca3d7"
   },
   "outputs": [
    {
     "data": {
      "text/html": [
       "<div>\n",
       "<style scoped>\n",
       "    .dataframe tbody tr th:only-of-type {\n",
       "        vertical-align: middle;\n",
       "    }\n",
       "\n",
       "    .dataframe tbody tr th {\n",
       "        vertical-align: top;\n",
       "    }\n",
       "\n",
       "    .dataframe thead th {\n",
       "        text-align: right;\n",
       "    }\n",
       "</style>\n",
       "<table border=\"1\" class=\"dataframe\">\n",
       "  <thead>\n",
       "    <tr style=\"text-align: right;\">\n",
       "      <th></th>\n",
       "      <th>Day</th>\n",
       "      <th>Pred_counts</th>\n",
       "      <th>Actual</th>\n",
       "      <th>Difference</th>\n",
       "    </tr>\n",
       "    <tr>\n",
       "      <th>LSOA_code</th>\n",
       "      <th></th>\n",
       "      <th></th>\n",
       "      <th></th>\n",
       "      <th></th>\n",
       "    </tr>\n",
       "  </thead>\n",
       "  <tbody>\n",
       "    <tr>\n",
       "      <th>West Yorkshire</th>\n",
       "      <td>1</td>\n",
       "      <td>823</td>\n",
       "      <td>947</td>\n",
       "      <td>124</td>\n",
       "    </tr>\n",
       "    <tr>\n",
       "      <th>West Yorkshire</th>\n",
       "      <td>2</td>\n",
       "      <td>849</td>\n",
       "      <td>975</td>\n",
       "      <td>126</td>\n",
       "    </tr>\n",
       "    <tr>\n",
       "      <th>West Yorkshire</th>\n",
       "      <td>3</td>\n",
       "      <td>860</td>\n",
       "      <td>1027</td>\n",
       "      <td>167</td>\n",
       "    </tr>\n",
       "    <tr>\n",
       "      <th>West Yorkshire</th>\n",
       "      <td>4</td>\n",
       "      <td>823</td>\n",
       "      <td>1010</td>\n",
       "      <td>187</td>\n",
       "    </tr>\n",
       "    <tr>\n",
       "      <th>West Yorkshire</th>\n",
       "      <td>5</td>\n",
       "      <td>867</td>\n",
       "      <td>979</td>\n",
       "      <td>112</td>\n",
       "    </tr>\n",
       "  </tbody>\n",
       "</table>\n",
       "</div>"
      ],
      "text/plain": [
       "                Day  Pred_counts  Actual  Difference\n",
       "LSOA_code                                           \n",
       "West Yorkshire    1          823     947         124\n",
       "West Yorkshire    2          849     975         126\n",
       "West Yorkshire    3          860    1027         167\n",
       "West Yorkshire    4          823    1010         187\n",
       "West Yorkshire    5          867     979         112"
      ]
     },
     "execution_count": 9,
     "metadata": {},
     "output_type": "execute_result"
    }
   ],
   "source": [
    "diff_table.head()"
   ]
  },
  {
   "cell_type": "markdown",
   "metadata": {
    "colab_type": "text",
    "id": "kQ_eSFdkL-XM"
   },
   "source": [
    "## Using utils to get counts to reports\n",
    "\n",
    "You can use utility functions within the toolkit to convert generated count data back into individual reports. And using the populate_offence function include a more specific crime description (randomly allocated from regional data)."
   ]
  },
  {
   "cell_type": "code",
   "execution_count": 10,
   "metadata": {
    "colab": {
     "base_uri": "https://localhost:8080/",
     "height": 54
    },
    "id": "9oXeekh0_rez",
    "outputId": "f0013e0b-751a-45da-a8d7-d30c220b59c5",
    "ype": "code"
   },
   "outputs": [],
   "source": [
    "from crime_sim_toolkit import utils"
   ]
  },
  {
   "cell_type": "code",
   "execution_count": 11,
   "metadata": {
    "colab": {
     "base_uri": "https://localhost:8080/",
     "height": 54
    },
    "colab_type": "code",
    "id": "EzBMRSl6_YdF",
    "outputId": "29e1a5ac-16de-4adf-9f10-d7f55f92e552"
   },
   "outputs": [
    {
     "name": "stdout",
     "output_type": "stream",
     "text": [
      "CPU times: user 18.3 s, sys: 87.8 ms, total: 18.4 s\n",
      "Wall time: 18.7 s\n"
     ]
    }
   ],
   "source": [
    "%%time\n",
    "# generate additional crime descriptions\n",
    "\n",
    "synth_counts = utils.counts_to_reports(datat)"
   ]
  },
  {
   "cell_type": "code",
   "execution_count": 12,
   "metadata": {
    "colab": {
     "base_uri": "https://localhost:8080/",
     "height": 54
    },
    "colab_type": "code",
    "id": "U4BH3w7g_1GR",
    "outputId": "b7b70204-9ba4-4ecc-ee40-b0b1083a00ed"
   },
   "outputs": [
    {
     "name": "stdout",
     "output_type": "stream",
     "text": [
      "CPU times: user 1min 20s, sys: 2.43 s, total: 1min 23s\n",
      "Wall time: 1min 23s\n"
     ]
    }
   ],
   "source": [
    "%%time\n",
    "# generate additional crime descriptions\n",
    "\n",
    "synth_counts_des = utils.populate_offence(synth_counts)"
   ]
  },
  {
   "cell_type": "code",
   "execution_count": 13,
   "metadata": {
    "colab": {
     "base_uri": "https://localhost:8080/",
     "height": 206
    },
    "colab_type": "code",
    "id": "dH8VTkNu_obm",
    "outputId": "3960b5e3-b5e3-4eed-9251-cbc9deb87ed5"
   },
   "outputs": [
    {
     "data": {
      "text/html": [
       "<div>\n",
       "<style scoped>\n",
       "    .dataframe tbody tr th:only-of-type {\n",
       "        vertical-align: middle;\n",
       "    }\n",
       "\n",
       "    .dataframe tbody tr th {\n",
       "        vertical-align: top;\n",
       "    }\n",
       "\n",
       "    .dataframe thead th {\n",
       "        text-align: right;\n",
       "    }\n",
       "</style>\n",
       "<table border=\"1\" class=\"dataframe\">\n",
       "  <thead>\n",
       "    <tr style=\"text-align: right;\">\n",
       "      <th></th>\n",
       "      <th>UID</th>\n",
       "      <th>Year</th>\n",
       "      <th>Mon</th>\n",
       "      <th>Day</th>\n",
       "      <th>Crime_description</th>\n",
       "      <th>Crime_type</th>\n",
       "      <th>LSOA_code</th>\n",
       "      <th>Police_force</th>\n",
       "    </tr>\n",
       "  </thead>\n",
       "  <tbody>\n",
       "    <tr>\n",
       "      <th>0</th>\n",
       "      <td>West17AN0</td>\n",
       "      <td>2018</td>\n",
       "      <td>7</td>\n",
       "      <td>1</td>\n",
       "      <td>Anti-social behaviour</td>\n",
       "      <td>Anti-social behaviour</td>\n",
       "      <td>West Yorkshire</td>\n",
       "      <td>West Yorkshire</td>\n",
       "    </tr>\n",
       "    <tr>\n",
       "      <th>1</th>\n",
       "      <td>West17AN1</td>\n",
       "      <td>2018</td>\n",
       "      <td>7</td>\n",
       "      <td>1</td>\n",
       "      <td>Anti-social behaviour</td>\n",
       "      <td>Anti-social behaviour</td>\n",
       "      <td>West Yorkshire</td>\n",
       "      <td>West Yorkshire</td>\n",
       "    </tr>\n",
       "    <tr>\n",
       "      <th>2</th>\n",
       "      <td>West17AN2</td>\n",
       "      <td>2018</td>\n",
       "      <td>7</td>\n",
       "      <td>1</td>\n",
       "      <td>Anti-social behaviour</td>\n",
       "      <td>Anti-social behaviour</td>\n",
       "      <td>West Yorkshire</td>\n",
       "      <td>West Yorkshire</td>\n",
       "    </tr>\n",
       "    <tr>\n",
       "      <th>3</th>\n",
       "      <td>West17AN3</td>\n",
       "      <td>2018</td>\n",
       "      <td>7</td>\n",
       "      <td>1</td>\n",
       "      <td>Anti-social behaviour</td>\n",
       "      <td>Anti-social behaviour</td>\n",
       "      <td>West Yorkshire</td>\n",
       "      <td>West Yorkshire</td>\n",
       "    </tr>\n",
       "    <tr>\n",
       "      <th>4</th>\n",
       "      <td>West17AN4</td>\n",
       "      <td>2018</td>\n",
       "      <td>7</td>\n",
       "      <td>1</td>\n",
       "      <td>Anti-social behaviour</td>\n",
       "      <td>Anti-social behaviour</td>\n",
       "      <td>West Yorkshire</td>\n",
       "      <td>West Yorkshire</td>\n",
       "    </tr>\n",
       "  </tbody>\n",
       "</table>\n",
       "</div>"
      ],
      "text/plain": [
       "         UID  Year Mon Day      Crime_description             Crime_type  \\\n",
       "0  West17AN0  2018   7   1  Anti-social behaviour  Anti-social behaviour   \n",
       "1  West17AN1  2018   7   1  Anti-social behaviour  Anti-social behaviour   \n",
       "2  West17AN2  2018   7   1  Anti-social behaviour  Anti-social behaviour   \n",
       "3  West17AN3  2018   7   1  Anti-social behaviour  Anti-social behaviour   \n",
       "4  West17AN4  2018   7   1  Anti-social behaviour  Anti-social behaviour   \n",
       "\n",
       "        LSOA_code    Police_force  \n",
       "0  West Yorkshire  West Yorkshire  \n",
       "1  West Yorkshire  West Yorkshire  \n",
       "2  West Yorkshire  West Yorkshire  \n",
       "3  West Yorkshire  West Yorkshire  \n",
       "4  West Yorkshire  West Yorkshire  "
      ]
     },
     "execution_count": 13,
     "metadata": {},
     "output_type": "execute_result"
    }
   ],
   "source": [
    "synth_counts_des.head()"
   ]
  },
  {
   "cell_type": "markdown",
   "metadata": {
    "colab_type": "text",
    "id": "UX8CL9-RK5kv"
   },
   "source": [
    "## Adding in random hours\n",
    "\n",
    "The agent based models implements hours for shift allocation. We'll perform a simple frame apply function to add hour."
   ]
  },
  {
   "cell_type": "code",
   "execution_count": 14,
   "metadata": {
    "colab": {},
    "colab_type": "code",
    "id": "RUZdeNEwK4_O"
   },
   "outputs": [],
   "source": [
    "import numpy as np\n",
    "\n",
    "synth_counts_des['Hour'] = np.random.randint(0,24, synth_counts_des.shape[0])\n",
    "\n",
    "# reorder columns\n",
    "synth_counts_des = synth_counts_des[['UID','Year','Mon','Day','Hour','Crime_description','Crime_type','LSOA_code','Police_force']]"
   ]
  },
  {
   "cell_type": "code",
   "execution_count": 15,
   "metadata": {
    "colab": {
     "base_uri": "https://localhost:8080/",
     "height": 206
    },
    "colab_type": "code",
    "id": "nMkAFZ2OMx7g",
    "outputId": "f4256ee8-a4ce-4543-ef9d-a15705e63eff"
   },
   "outputs": [
    {
     "data": {
      "text/html": [
       "<div>\n",
       "<style scoped>\n",
       "    .dataframe tbody tr th:only-of-type {\n",
       "        vertical-align: middle;\n",
       "    }\n",
       "\n",
       "    .dataframe tbody tr th {\n",
       "        vertical-align: top;\n",
       "    }\n",
       "\n",
       "    .dataframe thead th {\n",
       "        text-align: right;\n",
       "    }\n",
       "</style>\n",
       "<table border=\"1\" class=\"dataframe\">\n",
       "  <thead>\n",
       "    <tr style=\"text-align: right;\">\n",
       "      <th></th>\n",
       "      <th>UID</th>\n",
       "      <th>Year</th>\n",
       "      <th>Mon</th>\n",
       "      <th>Day</th>\n",
       "      <th>Hour</th>\n",
       "      <th>Crime_description</th>\n",
       "      <th>Crime_type</th>\n",
       "      <th>LSOA_code</th>\n",
       "      <th>Police_force</th>\n",
       "    </tr>\n",
       "  </thead>\n",
       "  <tbody>\n",
       "    <tr>\n",
       "      <th>0</th>\n",
       "      <td>West17AN0</td>\n",
       "      <td>2018</td>\n",
       "      <td>7</td>\n",
       "      <td>1</td>\n",
       "      <td>14</td>\n",
       "      <td>Anti-social behaviour</td>\n",
       "      <td>Anti-social behaviour</td>\n",
       "      <td>West Yorkshire</td>\n",
       "      <td>West Yorkshire</td>\n",
       "    </tr>\n",
       "    <tr>\n",
       "      <th>1</th>\n",
       "      <td>West17AN1</td>\n",
       "      <td>2018</td>\n",
       "      <td>7</td>\n",
       "      <td>1</td>\n",
       "      <td>22</td>\n",
       "      <td>Anti-social behaviour</td>\n",
       "      <td>Anti-social behaviour</td>\n",
       "      <td>West Yorkshire</td>\n",
       "      <td>West Yorkshire</td>\n",
       "    </tr>\n",
       "    <tr>\n",
       "      <th>2</th>\n",
       "      <td>West17AN2</td>\n",
       "      <td>2018</td>\n",
       "      <td>7</td>\n",
       "      <td>1</td>\n",
       "      <td>14</td>\n",
       "      <td>Anti-social behaviour</td>\n",
       "      <td>Anti-social behaviour</td>\n",
       "      <td>West Yorkshire</td>\n",
       "      <td>West Yorkshire</td>\n",
       "    </tr>\n",
       "    <tr>\n",
       "      <th>3</th>\n",
       "      <td>West17AN3</td>\n",
       "      <td>2018</td>\n",
       "      <td>7</td>\n",
       "      <td>1</td>\n",
       "      <td>2</td>\n",
       "      <td>Anti-social behaviour</td>\n",
       "      <td>Anti-social behaviour</td>\n",
       "      <td>West Yorkshire</td>\n",
       "      <td>West Yorkshire</td>\n",
       "    </tr>\n",
       "    <tr>\n",
       "      <th>4</th>\n",
       "      <td>West17AN4</td>\n",
       "      <td>2018</td>\n",
       "      <td>7</td>\n",
       "      <td>1</td>\n",
       "      <td>4</td>\n",
       "      <td>Anti-social behaviour</td>\n",
       "      <td>Anti-social behaviour</td>\n",
       "      <td>West Yorkshire</td>\n",
       "      <td>West Yorkshire</td>\n",
       "    </tr>\n",
       "  </tbody>\n",
       "</table>\n",
       "</div>"
      ],
      "text/plain": [
       "         UID  Year Mon Day  Hour      Crime_description  \\\n",
       "0  West17AN0  2018   7   1    14  Anti-social behaviour   \n",
       "1  West17AN1  2018   7   1    22  Anti-social behaviour   \n",
       "2  West17AN2  2018   7   1    14  Anti-social behaviour   \n",
       "3  West17AN3  2018   7   1     2  Anti-social behaviour   \n",
       "4  West17AN4  2018   7   1     4  Anti-social behaviour   \n",
       "\n",
       "              Crime_type       LSOA_code    Police_force  \n",
       "0  Anti-social behaviour  West Yorkshire  West Yorkshire  \n",
       "1  Anti-social behaviour  West Yorkshire  West Yorkshire  \n",
       "2  Anti-social behaviour  West Yorkshire  West Yorkshire  \n",
       "3  Anti-social behaviour  West Yorkshire  West Yorkshire  \n",
       "4  Anti-social behaviour  West Yorkshire  West Yorkshire  "
      ]
     },
     "execution_count": 15,
     "metadata": {},
     "output_type": "execute_result"
    }
   ],
   "source": [
    "synth_counts_des.head()"
   ]
  },
  {
   "cell_type": "markdown",
   "metadata": {
    "colab_type": "text",
    "id": "MfNVpgUKMbv4"
   },
   "source": [
    "## Outputting from Colabs\n",
    "\n",
    "Data produced can now be exported as a .csv for use in the agent-based model."
   ]
  },
  {
   "cell_type": "code",
   "execution_count": null,
   "metadata": {
    "colab": {},
    "colab_type": "code",
    "id": "5vsuEZ0M_45L"
   },
   "outputs": [],
   "source": [
    "synth_counts_des.to_csv('synthetic_day_reports.csv')"
   ]
  },
  {
   "cell_type": "code",
   "execution_count": null,
   "metadata": {
    "colab": {},
    "colab_type": "code",
    "id": "qZoC_LCBL7Gn"
   },
   "outputs": [],
   "source": [
    "from google.colab import files\n",
    "\n",
    "files.download('synthetic_day_reports.csv')"
   ]
  }
 ],
 "metadata": {
  "colab": {
   "collapsed_sections": [],
   "include_colab_link": true,
   "name": "crime_sim_poisson_example.ipynb",
   "provenance": [],
   "version": "0.3.2"
  },
  "kernelspec": {
   "display_name": "Python [conda env:crime_sim]",
   "language": "python",
   "name": "conda-env-crime_sim-py"
  },
  "language_info": {
   "codemirror_mode": {
    "name": "ipython",
    "version": 3
   },
   "file_extension": ".py",
   "mimetype": "text/x-python",
   "name": "python",
   "nbconvert_exporter": "python",
   "pygments_lexer": "ipython3",
   "version": "3.7.3"
  }
 },
 "nbformat": 4,
 "nbformat_minor": 4
}
