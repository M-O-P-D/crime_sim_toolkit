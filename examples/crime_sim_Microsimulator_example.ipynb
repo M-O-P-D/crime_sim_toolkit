{
  "nbformat": 4,
  "nbformat_minor": 0,
  "metadata": {
    "colab": {
      "name": "crime_sim_poisson_example.ipynb",
      "provenance": [],
      "collapsed_sections": [],
      "toc_visible": true,
      "include_colab_link": true
    },
    "kernelspec": {
      "display_name": "Python 3",
      "language": "python",
      "name": "python3"
    },
    "language_info": {
      "codemirror_mode": {
        "name": "ipython",
        "version": 3
      },
      "file_extension": ".py",
      "mimetype": "text/x-python",
      "name": "python",
      "nbconvert_exporter": "python",
      "pygments_lexer": "ipython3",
      "version": "3.7.6"
    }
  },
  "cells": [
    {
      "cell_type": "markdown",
      "metadata": {
        "id": "view-in-github",
        "colab_type": "text"
      },
      "source": [
        "<a href=\"https://colab.research.google.com/github/Sparrow0hawk/crime_sim_toolkit/blob/master/examples/crime_sim_Microsimulator_example.ipynb\" target=\"_parent\"><img src=\"https://colab.research.google.com/assets/colab-badge.svg\" alt=\"Open In Colab\"/></a>"
      ]
    },
    {
      "cell_type": "markdown",
      "metadata": {
        "colab_type": "text",
        "id": "XgFA3CtTbiwQ"
      },
      "source": [
        "# Example notebook for using the crime_sim_toolkit Microsimulator Class\n",
        "\n",
        "Follow these steps to load your own data into the crime_sim_toolkit for simulating crime demand using the Microsimulator Class.\n",
        "\n",
        "This simulation class aims to model police demand by using victimisation data collected by police forces to estimate person level probabilities of experiencing crime. These probabilities are then used along side a synthetic population (generated using [ukpopulation](https://github.com/nismod/ukpopulation) package, a part of [SPENSER](https://www.turing.ac.uk/research/research-projects/synthetic-population-estimation-and-scenario-projection)) to simulate crime events each day, for each individual over one year.\n",
        "\n",
        "## Notes on running\n",
        "For this to run successfully follow these steps:\n",
        "\n",
        "\n",
        "1.   Git clone the repo into the root dir\n",
        "2.   Run pip install within the downloaded repo\n",
        "3.   Reset the local runtime to allow for pip packages installed to work\n",
        "4.   Then run python setup.py install on downloaded repo\n",
        "\n",
        "The package should now be useable within the notebook.\n",
        "\n"
      ]
    },
    {
      "cell_type": "code",
      "metadata": {
        "colab_type": "code",
        "id": "Aha_nz-SRX56",
        "outputId": "b3d19e41-905b-4daa-bb4c-ef554a1d8e56",
        "colab": {
          "base_uri": "https://localhost:8080/",
          "height": 162
        }
      },
      "source": [
        "%cd ~/\n",
        "\n",
        "! git clone --single-branch --branch release-1.5 https://github.com/Sparrow0hawk/crime_sim_toolkit.git"
      ],
      "execution_count": 1,
      "outputs": [
        {
          "output_type": "stream",
          "text": [
            "/root\n",
            "Cloning into 'crime_sim_toolkit'...\n",
            "remote: Enumerating objects: 563, done.\u001b[K\n",
            "remote: Counting objects: 100% (563/563), done.\u001b[K\n",
            "remote: Compressing objects: 100% (169/169), done.\u001b[K\n",
            "remote: Total 1600 (delta 437), reused 499 (delta 386), pack-reused 1037\u001b[K\n",
            "Receiving objects: 100% (1600/1600), 50.34 MiB | 27.76 MiB/s, done.\n",
            "Resolving deltas: 100% (1058/1058), done.\n"
          ],
          "name": "stdout"
        }
      ]
    },
    {
      "cell_type": "code",
      "metadata": {
        "colab_type": "code",
        "id": "J6ezywTXRnbX",
        "outputId": "2f1c03de-913d-4a62-b5d4-7bb33a423a29",
        "colab": {
          "base_uri": "https://localhost:8080/",
          "height": 491
        }
      },
      "source": [
        "%cd ~/crime_sim_toolkit\n",
        "\n",
        "!pip install -q -r requirements.txt"
      ],
      "execution_count": 2,
      "outputs": [
        {
          "output_type": "stream",
          "text": [
            "/root/crime_sim_toolkit\n",
            "\u001b[K     |████████████████████████████████| 163kB 8.0MB/s \n",
            "\u001b[K     |████████████████████████████████| 215kB 51.5MB/s \n",
            "\u001b[K     |████████████████████████████████| 92kB 10.9MB/s \n",
            "\u001b[K     |████████████████████████████████| 133kB 53.1MB/s \n",
            "\u001b[K     |████████████████████████████████| 286kB 53.8MB/s \n",
            "\u001b[K     |████████████████████████████████| 92kB 11.4MB/s \n",
            "\u001b[K     |████████████████████████████████| 13.1MB 53.7MB/s \n",
            "\u001b[K     |████████████████████████████████| 20.4MB 1.3MB/s \n",
            "\u001b[K     |████████████████████████████████| 10.5MB 40.4MB/s \n",
            "\u001b[K     |████████████████████████████████| 71kB 8.7MB/s \n",
            "\u001b[K     |████████████████████████████████| 235kB 48.8MB/s \n",
            "\u001b[K     |████████████████████████████████| 512kB 53.3MB/s \n",
            "\u001b[K     |████████████████████████████████| 61kB 7.8MB/s \n",
            "\u001b[K     |████████████████████████████████| 6.7MB 40.3MB/s \n",
            "\u001b[K     |████████████████████████████████| 25.2MB 112kB/s \n",
            "\u001b[K     |████████████████████████████████| 153kB 52.9MB/s \n",
            "\u001b[31mERROR: tensorflow 2.2.0rc3 has requirement scipy==1.4.1; python_version >= \"3\", but you'll have scipy 1.3.0 which is incompatible.\u001b[0m\n",
            "\u001b[31mERROR: kaggle 1.5.6 has requirement urllib3<1.25,>=1.21.1, but you'll have urllib3 1.25.3 which is incompatible.\u001b[0m\n",
            "\u001b[31mERROR: google-colab 1.0.0 has requirement pandas~=1.0.0; python_version >= \"3.0\", but you'll have pandas 0.25.0 which is incompatible.\u001b[0m\n",
            "\u001b[31mERROR: google-colab 1.0.0 has requirement requests~=2.21.0, but you'll have requests 2.22.0 which is incompatible.\u001b[0m\n",
            "\u001b[31mERROR: datascience 0.10.6 has requirement coverage==3.7.1, but you'll have coverage 4.5.4 which is incompatible.\u001b[0m\n",
            "\u001b[31mERROR: datascience 0.10.6 has requirement folium==0.2.1, but you'll have folium 0.10.0 which is incompatible.\u001b[0m\n",
            "\u001b[31mERROR: coveralls 0.5 has requirement coverage<3.999,>=3.6, but you'll have coverage 4.5.4 which is incompatible.\u001b[0m\n",
            "\u001b[31mERROR: albumentations 0.1.12 has requirement imgaug<0.2.7,>=0.2.5, but you'll have imgaug 0.2.9 which is incompatible.\u001b[0m\n",
            "\u001b[?25h"
          ],
          "name": "stdout"
        }
      ]
    },
    {
      "cell_type": "markdown",
      "metadata": {
        "colab_type": "text",
        "id": "3Nf4DMs2YRkE"
      },
      "source": [
        "# RESTART RUNTIME"
      ]
    },
    {
      "cell_type": "code",
      "metadata": {
        "colab_type": "code",
        "id": "bD-ZF-Hya4Lq",
        "outputId": "0138b793-2fab-41fb-d127-0bb6613b2682",
        "colab": {
          "base_uri": "https://localhost:8080/",
          "height": 35
        }
      },
      "source": [
        "%cd ~/crime_sim_toolkit\n",
        "\n",
        "!python setup.py -q install"
      ],
      "execution_count": 1,
      "outputs": [
        {
          "output_type": "stream",
          "text": [
            "/root/crime_sim_toolkit\n"
          ],
          "name": "stdout"
        }
      ]
    },
    {
      "cell_type": "markdown",
      "metadata": {
        "colab_type": "text",
        "id": "AFxm7U4JmFNy"
      },
      "source": [
        "## Initialising a Microsimulator object\n",
        "\n",
        "To get started we initialise a Microsimulator object. This object will contain all the data required for a given simulation and allows us to instantiate multiple microsimulator objects for different sets of data."
      ]
    },
    {
      "cell_type": "code",
      "metadata": {
        "colab_type": "code",
        "id": "Ie_tNRIYSFTe",
        "colab": {}
      },
      "source": [
        "import os\n",
        "import crime_sim_toolkit.microsim as Microsim\n",
        "\n",
        "\n",
        "simulation_0 = Microsim.Microsimulator()"
      ],
      "execution_count": 0,
      "outputs": []
    },
    {
      "cell_type": "markdown",
      "metadata": {
        "id": "1EOi7vpUBHF1",
        "colab_type": "text"
      },
      "source": [
        "## Loading data into the Microsimulator object \n",
        "This example is built using dummy data that was built using the example notebook in the [data_manipulation directory](https://github.com/Sparrow0hawk/crime_sim_toolkit/tree/master/data_manipulation) which has randomly added age, gender and ethnicity categories to each crime report (crime reports downloaded from https://data.police.uk/data/ for West Yorkshire).\n",
        "\n"
      ]
    },
    {
      "cell_type": "code",
      "metadata": {
        "id": "5yz1-QblCfXx",
        "colab_type": "code",
        "colab": {}
      },
      "source": [
        "# specifing the directory path to where the test data is for this example\n",
        "data_dir = '/root/crime_sim_toolkit/crime_sim_toolkit/tests/'"
      ],
      "execution_count": 0,
      "outputs": []
    },
    {
      "cell_type": "code",
      "metadata": {
        "id": "RfrfkbzYAEWb",
        "colab_type": "code",
        "colab": {}
      },
      "source": [
        "simulation_0.load_data(\n",
        "                       # we specify the seed year, this is the year from which crime probabilities are determined\n",
        "                       seed_year = 2017,\n",
        "                       # a string to the directory where your police data is (police data explained above)\n",
        "                       police_data_dir = os.path.join(data_dir,'testing_data/test_microsim/sample_vic_data_WY2017.csv'),\n",
        "                       # a string to the directory where the population for the seed year is\n",
        "                       # this is a synthetic population generated using SPENSER \n",
        "                       seed_pop_dir = os.path.join(data_dir,'testing_data/test_microsim/sample_seed_pop.csv'),\n",
        "                       # the demographic columns for the seed synthetic population\n",
        "                       spenser_demographic_cols = ['DC1117EW_C_SEX','DC1117EW_C_AGE','DC2101EW_C_ETHPUK11'],\n",
        "                       # the columns that correspond to the demographic data in the police data\n",
        "                       police_demographic_cols = ['sex','age','ethnicity']\n",
        "                       )"
      ],
      "execution_count": 0,
      "outputs": []
    },
    {
      "cell_type": "code",
      "metadata": {
        "id": "MY7l4i4_JLCH",
        "colab_type": "code",
        "outputId": "0e03533e-8a01-4e11-f728-df42d8c77627",
        "colab": {
          "base_uri": "https://localhost:8080/",
          "height": 206
        }
      },
      "source": [
        "# the object now has a seed population attribute of a pandas dataframe\n",
        "simulation_0.seed_population.head()"
      ],
      "execution_count": 5,
      "outputs": [
        {
          "output_type": "execute_result",
          "data": {
            "text/html": [
              "<div>\n",
              "<style scoped>\n",
              "    .dataframe tbody tr th:only-of-type {\n",
              "        vertical-align: middle;\n",
              "    }\n",
              "\n",
              "    .dataframe tbody tr th {\n",
              "        vertical-align: top;\n",
              "    }\n",
              "\n",
              "    .dataframe thead th {\n",
              "        text-align: right;\n",
              "    }\n",
              "</style>\n",
              "<table border=\"1\" class=\"dataframe\">\n",
              "  <thead>\n",
              "    <tr style=\"text-align: right;\">\n",
              "      <th></th>\n",
              "      <th>PID</th>\n",
              "      <th>Area</th>\n",
              "      <th>DC1117EW_C_SEX</th>\n",
              "      <th>DC1117EW_C_AGE</th>\n",
              "      <th>DC2101EW_C_ETHPUK11</th>\n",
              "      <th>demographic_profile</th>\n",
              "    </tr>\n",
              "  </thead>\n",
              "  <tbody>\n",
              "    <tr>\n",
              "      <th>0</th>\n",
              "      <td>604227</td>\n",
              "      <td>E02002419</td>\n",
              "      <td>1</td>\n",
              "      <td>84</td>\n",
              "      <td>5</td>\n",
              "      <td>1-84-5</td>\n",
              "    </tr>\n",
              "    <tr>\n",
              "      <th>1</th>\n",
              "      <td>768139</td>\n",
              "      <td>E02006861</td>\n",
              "      <td>2</td>\n",
              "      <td>42</td>\n",
              "      <td>2</td>\n",
              "      <td>2-42-2</td>\n",
              "    </tr>\n",
              "    <tr>\n",
              "      <th>2</th>\n",
              "      <td>450602</td>\n",
              "      <td>E02002396</td>\n",
              "      <td>2</td>\n",
              "      <td>62</td>\n",
              "      <td>2</td>\n",
              "      <td>2-62-2</td>\n",
              "    </tr>\n",
              "    <tr>\n",
              "      <th>3</th>\n",
              "      <td>625142</td>\n",
              "      <td>E02002422</td>\n",
              "      <td>1</td>\n",
              "      <td>57</td>\n",
              "      <td>2</td>\n",
              "      <td>1-57-2</td>\n",
              "    </tr>\n",
              "    <tr>\n",
              "      <th>4</th>\n",
              "      <td>628015</td>\n",
              "      <td>E02002422</td>\n",
              "      <td>2</td>\n",
              "      <td>50</td>\n",
              "      <td>2</td>\n",
              "      <td>2-50-2</td>\n",
              "    </tr>\n",
              "  </tbody>\n",
              "</table>\n",
              "</div>"
            ],
            "text/plain": [
              "      PID       Area  ...  DC2101EW_C_ETHPUK11  demographic_profile\n",
              "0  604227  E02002419  ...                    5               1-84-5\n",
              "1  768139  E02006861  ...                    2               2-42-2\n",
              "2  450602  E02002396  ...                    2               2-62-2\n",
              "3  625142  E02002422  ...                    2               1-57-2\n",
              "4  628015  E02002422  ...                    2               2-50-2\n",
              "\n",
              "[5 rows x 6 columns]"
            ]
          },
          "metadata": {
            "tags": []
          },
          "execution_count": 5
        }
      ]
    },
    {
      "cell_type": "code",
      "metadata": {
        "id": "mv3O5gPbJWHc",
        "colab_type": "code",
        "outputId": "2918570e-dcf2-4ff5-9d13-072f55ab07bf",
        "colab": {
          "base_uri": "https://localhost:8080/",
          "height": 400
        }
      },
      "source": [
        "# the object also has a crime data attribute (also a pandas dataframe)\n",
        "simulation_0.crime_data.head()"
      ],
      "execution_count": 6,
      "outputs": [
        {
          "output_type": "execute_result",
          "data": {
            "text/html": [
              "<div>\n",
              "<style scoped>\n",
              "    .dataframe tbody tr th:only-of-type {\n",
              "        vertical-align: middle;\n",
              "    }\n",
              "\n",
              "    .dataframe tbody tr th {\n",
              "        vertical-align: top;\n",
              "    }\n",
              "\n",
              "    .dataframe thead th {\n",
              "        text-align: right;\n",
              "    }\n",
              "</style>\n",
              "<table border=\"1\" class=\"dataframe\">\n",
              "  <thead>\n",
              "    <tr style=\"text-align: right;\">\n",
              "      <th></th>\n",
              "      <th>Crime_ID</th>\n",
              "      <th>Month</th>\n",
              "      <th>Reported_by</th>\n",
              "      <th>Falls_within</th>\n",
              "      <th>Longitude</th>\n",
              "      <th>Latitude</th>\n",
              "      <th>Location</th>\n",
              "      <th>LSOA_name</th>\n",
              "      <th>Crime_type</th>\n",
              "      <th>Last_outcome_category</th>\n",
              "      <th>LSOA_code</th>\n",
              "      <th>MSOA11CD</th>\n",
              "      <th>victim_profile</th>\n",
              "      <th>sex</th>\n",
              "      <th>age</th>\n",
              "      <th>ethnicity</th>\n",
              "      <th>Police_force</th>\n",
              "      <th>Crime_description</th>\n",
              "      <th>demographic_profile</th>\n",
              "    </tr>\n",
              "  </thead>\n",
              "  <tbody>\n",
              "    <tr>\n",
              "      <th>0</th>\n",
              "      <td>e396faffa45e277e01cfd1ece4abf4be49395e8c628a13...</td>\n",
              "      <td>2017-08</td>\n",
              "      <td>West Yorkshire Police</td>\n",
              "      <td>West Yorkshire Police</td>\n",
              "      <td>-1.391752</td>\n",
              "      <td>53.753535</td>\n",
              "      <td>On or near Queen Street</td>\n",
              "      <td>Leeds 087C</td>\n",
              "      <td>Burglary</td>\n",
              "      <td>Unable to prosecute suspect</td>\n",
              "      <td>E01011392</td>\n",
              "      <td>E02002416</td>\n",
              "      <td>1-30-2</td>\n",
              "      <td>1</td>\n",
              "      <td>30</td>\n",
              "      <td>2</td>\n",
              "      <td>West Yorkshire</td>\n",
              "      <td>burglary business and community</td>\n",
              "      <td>1-30-2</td>\n",
              "    </tr>\n",
              "    <tr>\n",
              "      <th>1</th>\n",
              "      <td>63ec15793d588bfe0be854579fd1ea2e64ec9a03847116...</td>\n",
              "      <td>2017-10</td>\n",
              "      <td>West Yorkshire Police</td>\n",
              "      <td>West Yorkshire Police</td>\n",
              "      <td>-1.541890</td>\n",
              "      <td>53.794406</td>\n",
              "      <td>On or near Pitfall Street</td>\n",
              "      <td>Leeds 111C</td>\n",
              "      <td>Drugs</td>\n",
              "      <td>Offender given a caution</td>\n",
              "      <td>E01033011</td>\n",
              "      <td>E02006875</td>\n",
              "      <td>1-63-2</td>\n",
              "      <td>1</td>\n",
              "      <td>63</td>\n",
              "      <td>2</td>\n",
              "      <td>West Yorkshire</td>\n",
              "      <td>possession of controlled drugs (cannabis)</td>\n",
              "      <td>1-63-2</td>\n",
              "    </tr>\n",
              "    <tr>\n",
              "      <th>2</th>\n",
              "      <td>49d5989438aeb2badc7639c8900dde4257155665d1d47a...</td>\n",
              "      <td>2017-12</td>\n",
              "      <td>West Yorkshire Police</td>\n",
              "      <td>West Yorkshire Police</td>\n",
              "      <td>-1.579941</td>\n",
              "      <td>53.801233</td>\n",
              "      <td>On or near Forge Lane</td>\n",
              "      <td>Leeds 071A</td>\n",
              "      <td>Other theft</td>\n",
              "      <td>Unable to prosecute suspect</td>\n",
              "      <td>E01011284</td>\n",
              "      <td>E02002400</td>\n",
              "      <td>1-42-2</td>\n",
              "      <td>1</td>\n",
              "      <td>42</td>\n",
              "      <td>2</td>\n",
              "      <td>West Yorkshire</td>\n",
              "      <td>theft in a dwelling other than from an automat...</td>\n",
              "      <td>1-42-2</td>\n",
              "    </tr>\n",
              "    <tr>\n",
              "      <th>3</th>\n",
              "      <td>206cbc5513dec3940961c1d6d1fd0c37a9446b4c1335d8...</td>\n",
              "      <td>2017-05</td>\n",
              "      <td>West Yorkshire Police</td>\n",
              "      <td>West Yorkshire Police</td>\n",
              "      <td>-1.689763</td>\n",
              "      <td>53.905710</td>\n",
              "      <td>On or near Manchester Square</td>\n",
              "      <td>Leeds 004E</td>\n",
              "      <td>Other theft</td>\n",
              "      <td>Investigation complete; no suspect identified</td>\n",
              "      <td>E01011574</td>\n",
              "      <td>E02002333</td>\n",
              "      <td>2-24-5</td>\n",
              "      <td>2</td>\n",
              "      <td>24</td>\n",
              "      <td>5</td>\n",
              "      <td>West Yorkshire</td>\n",
              "      <td>other theft</td>\n",
              "      <td>2-24-5</td>\n",
              "    </tr>\n",
              "    <tr>\n",
              "      <th>4</th>\n",
              "      <td>62a3e7978f3178fede6fbff7a73615f11f4f9332fb0b8b...</td>\n",
              "      <td>2017-07</td>\n",
              "      <td>West Yorkshire Police</td>\n",
              "      <td>West Yorkshire Police</td>\n",
              "      <td>-1.474077</td>\n",
              "      <td>53.713136</td>\n",
              "      <td>On or near Beaumont Street</td>\n",
              "      <td>Wakefield 007B</td>\n",
              "      <td>Violence and sexual offences</td>\n",
              "      <td>Status update unavailable</td>\n",
              "      <td>E01011876</td>\n",
              "      <td>E02002444</td>\n",
              "      <td>2-42-2</td>\n",
              "      <td>2</td>\n",
              "      <td>42</td>\n",
              "      <td>2</td>\n",
              "      <td>West Yorkshire</td>\n",
              "      <td>sexual grooming</td>\n",
              "      <td>2-42-2</td>\n",
              "    </tr>\n",
              "  </tbody>\n",
              "</table>\n",
              "</div>"
            ],
            "text/plain": [
              "                                            Crime_ID  ... demographic_profile\n",
              "0  e396faffa45e277e01cfd1ece4abf4be49395e8c628a13...  ...              1-30-2\n",
              "1  63ec15793d588bfe0be854579fd1ea2e64ec9a03847116...  ...              1-63-2\n",
              "2  49d5989438aeb2badc7639c8900dde4257155665d1d47a...  ...              1-42-2\n",
              "3  206cbc5513dec3940961c1d6d1fd0c37a9446b4c1335d8...  ...              2-24-5\n",
              "4  62a3e7978f3178fede6fbff7a73615f11f4f9332fb0b8b...  ...              2-42-2\n",
              "\n",
              "[5 rows x 19 columns]"
            ]
          },
          "metadata": {
            "tags": []
          },
          "execution_count": 6
        }
      ]
    },
    {
      "cell_type": "markdown",
      "metadata": {
        "id": "_Qfl8PtvJFdy",
        "colab_type": "text"
      },
      "source": [
        "## Loading the future synthetic population to simulate against\n",
        "We then use the __load_future_pop function__ to load a synthetic population approximated for a given future year. SPENSER creates a large series of populations for consecutive years so this function expects a __directory of synthetic populations__ and will open the population for a given __year__."
      ]
    },
    {
      "cell_type": "code",
      "metadata": {
        "id": "ZALH0XD3AEWf",
        "colab_type": "code",
        "colab": {}
      },
      "source": [
        "simulation_0.load_future_pop(\n",
        "                             # the directory to where synthetic populations are\n",
        "                             synthetic_population_dir=os.path.join(data_dir, 'testing_data/test_microsim/test_future_pop'),\n",
        "                             # which years population the user wishes to load\n",
        "                             year=2019,\n",
        "                             # the demographic columns within the dataset\n",
        "                             demographic_cols=['DC1117EW_C_SEX','DC1117EW_C_AGE','DC2101EW_C_ETHPUK11'])\n",
        "\n"
      ],
      "execution_count": 0,
      "outputs": []
    },
    {
      "cell_type": "markdown",
      "metadata": {
        "id": "6wWl4KDrKVR1",
        "colab_type": "text"
      },
      "source": [
        "## Creating the probability table from the crime data\n",
        "Now that we have all the data loaded we can now create the probability table. This calculates the probability of victimisation for a given crime for a person within a given demographic group. \n",
        "\n",
        "We call this function on the Microsimulator object and this creates a transition table attribute (a pandas dataframe object). The most important column (that is used for the simulation itself) is __chance_crime_per_day_demo__."
      ]
    },
    {
      "cell_type": "code",
      "metadata": {
        "id": "QA8471SVJG2d",
        "colab_type": "code",
        "colab": {}
      },
      "source": [
        "simulation_0.generate_probability_table()"
      ],
      "execution_count": 0,
      "outputs": []
    },
    {
      "cell_type": "code",
      "metadata": {
        "id": "h0J0fippJIQN",
        "colab_type": "code",
        "outputId": "988c85f2-dcaf-4936-bffe-5e8672af959b",
        "colab": {
          "base_uri": "https://localhost:8080/",
          "height": 206
        }
      },
      "source": [
        "simulation_0.transition_table.head()"
      ],
      "execution_count": 9,
      "outputs": [
        {
          "output_type": "execute_result",
          "data": {
            "text/html": [
              "<div>\n",
              "<style scoped>\n",
              "    .dataframe tbody tr th:only-of-type {\n",
              "        vertical-align: middle;\n",
              "    }\n",
              "\n",
              "    .dataframe tbody tr th {\n",
              "        vertical-align: top;\n",
              "    }\n",
              "\n",
              "    .dataframe thead th {\n",
              "        text-align: right;\n",
              "    }\n",
              "</style>\n",
              "<table border=\"1\" class=\"dataframe\">\n",
              "  <thead>\n",
              "    <tr style=\"text-align: right;\">\n",
              "      <th></th>\n",
              "      <th>Crime_description</th>\n",
              "      <th>Month</th>\n",
              "      <th>day_in_month</th>\n",
              "      <th>demographic_profile</th>\n",
              "      <th>crime_counts</th>\n",
              "      <th>chance_crime_per_day_demo</th>\n",
              "    </tr>\n",
              "  </thead>\n",
              "  <tbody>\n",
              "    <tr>\n",
              "      <th>0</th>\n",
              "      <td>burglary residential</td>\n",
              "      <td>2017-01</td>\n",
              "      <td>31</td>\n",
              "      <td>1-1-2</td>\n",
              "      <td>1</td>\n",
              "      <td>0.000597</td>\n",
              "    </tr>\n",
              "    <tr>\n",
              "      <th>1</th>\n",
              "      <td>shoplifting</td>\n",
              "      <td>2017-01</td>\n",
              "      <td>31</td>\n",
              "      <td>1-1-2</td>\n",
              "      <td>1</td>\n",
              "      <td>0.000597</td>\n",
              "    </tr>\n",
              "    <tr>\n",
              "      <th>2</th>\n",
              "      <td>criminal damage to a vehicle</td>\n",
              "      <td>2017-01</td>\n",
              "      <td>31</td>\n",
              "      <td>1-10-2</td>\n",
              "      <td>1</td>\n",
              "      <td>0.000529</td>\n",
              "    </tr>\n",
              "    <tr>\n",
              "      <th>3</th>\n",
              "      <td>criminal damage to a dwelling</td>\n",
              "      <td>2017-01</td>\n",
              "      <td>31</td>\n",
              "      <td>1-11-2</td>\n",
              "      <td>1</td>\n",
              "      <td>0.000556</td>\n",
              "    </tr>\n",
              "    <tr>\n",
              "      <th>4</th>\n",
              "      <td>burglary residential</td>\n",
              "      <td>2017-01</td>\n",
              "      <td>31</td>\n",
              "      <td>1-13-2</td>\n",
              "      <td>1</td>\n",
              "      <td>0.000686</td>\n",
              "    </tr>\n",
              "  </tbody>\n",
              "</table>\n",
              "</div>"
            ],
            "text/plain": [
              "               Crime_description  ... chance_crime_per_day_demo\n",
              "0           burglary residential  ...                  0.000597\n",
              "1                    shoplifting  ...                  0.000597\n",
              "2   criminal damage to a vehicle  ...                  0.000529\n",
              "3  criminal damage to a dwelling  ...                  0.000556\n",
              "4           burglary residential  ...                  0.000686\n",
              "\n",
              "[5 rows x 6 columns]"
            ]
          },
          "metadata": {
            "tags": []
          },
          "execution_count": 9
        }
      ]
    },
    {
      "cell_type": "markdown",
      "metadata": {
        "id": "qS-VUjCTT5wE",
        "colab_type": "text"
      },
      "source": [
        "## Running a simulation\n",
        "Once the data is loaded, and the probability table has been generated we can now perform a simulation and generate crime data for a simulated year.\n",
        "\n",
        "This will, for each individual in the synthetic population, for each day in a year simulate if they are victimised based on their demographic profile and the probabiltiy of victimisation for a given demography  for a given crime in a given month.\n",
        "\n",
        "The `run_simulation` function takes one argument `future_population` which should be the objects own future_population attribute (as shown below). Running the function will then return a pandas DataFrame containing the simulation results."
      ]
    },
    {
      "cell_type": "code",
      "metadata": {
        "id": "86qTaPp1K6Iv",
        "colab_type": "code",
        "colab": {
          "base_uri": "https://localhost:8080/",
          "height": 206
        },
        "outputId": "d5acf0c6-66d9-4261-8f34-59010febf6c2"
      },
      "source": [
        "simulation_output = simulation_0.run_simulation(future_population = simulation_0.future_population)\n",
        "\n",
        "simulation_output.head()"
      ],
      "execution_count": 16,
      "outputs": [
        {
          "output_type": "execute_result",
          "data": {
            "text/html": [
              "<div>\n",
              "<style scoped>\n",
              "    .dataframe tbody tr th:only-of-type {\n",
              "        vertical-align: middle;\n",
              "    }\n",
              "\n",
              "    .dataframe tbody tr th {\n",
              "        vertical-align: top;\n",
              "    }\n",
              "\n",
              "    .dataframe thead th {\n",
              "        text-align: right;\n",
              "    }\n",
              "</style>\n",
              "<table border=\"1\" class=\"dataframe\">\n",
              "  <thead>\n",
              "    <tr style=\"text-align: right;\">\n",
              "      <th></th>\n",
              "      <th>Month</th>\n",
              "      <th>Day</th>\n",
              "      <th>Person</th>\n",
              "      <th>crime</th>\n",
              "    </tr>\n",
              "  </thead>\n",
              "  <tbody>\n",
              "    <tr>\n",
              "      <th>0</th>\n",
              "      <td>01</td>\n",
              "      <td>2</td>\n",
              "      <td>246575</td>\n",
              "      <td>burglary residential</td>\n",
              "    </tr>\n",
              "    <tr>\n",
              "      <th>0</th>\n",
              "      <td>01</td>\n",
              "      <td>2</td>\n",
              "      <td>280540</td>\n",
              "      <td>burglary residential</td>\n",
              "    </tr>\n",
              "    <tr>\n",
              "      <th>1</th>\n",
              "      <td>01</td>\n",
              "      <td>3</td>\n",
              "      <td>375253</td>\n",
              "      <td>burglary residential</td>\n",
              "    </tr>\n",
              "    <tr>\n",
              "      <th>2</th>\n",
              "      <td>01</td>\n",
              "      <td>4</td>\n",
              "      <td>353483</td>\n",
              "      <td>burglary residential</td>\n",
              "    </tr>\n",
              "    <tr>\n",
              "      <th>3</th>\n",
              "      <td>01</td>\n",
              "      <td>5</td>\n",
              "      <td>314092</td>\n",
              "      <td>burglary residential</td>\n",
              "    </tr>\n",
              "  </tbody>\n",
              "</table>\n",
              "</div>"
            ],
            "text/plain": [
              "  Month  Day  Person                 crime\n",
              "0    01    2  246575  burglary residential\n",
              "0    01    2  280540  burglary residential\n",
              "1    01    3  375253  burglary residential\n",
              "2    01    4  353483  burglary residential\n",
              "3    01    5  314092  burglary residential"
            ]
          },
          "metadata": {
            "tags": []
          },
          "execution_count": 16
        }
      ]
    }
  ]
}