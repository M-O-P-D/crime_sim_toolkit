{
  "nbformat": 4,
  "nbformat_minor": 0,
  "metadata": {
    "colab": {
      "name": "crime_sim_poisson_example.ipynb",
      "version": "0.3.2",
      "provenance": [],
      "collapsed_sections": [],
      "include_colab_link": true
    },
    "kernelspec": {
      "name": "python3",
      "display_name": "Python 3"
    }
  },
  "cells": [
    {
      "cell_type": "markdown",
      "metadata": {
        "id": "view-in-github",
        "colab_type": "text"
      },
      "source": [
        "<a href=\"https://colab.research.google.com/github/Sparrow0hawk/crime_sim_toolkit/blob/minor_refactor/examples/crime_sim_poisson_example.ipynb\" target=\"_parent\"><img src=\"https://colab.research.google.com/assets/colab-badge.svg\" alt=\"Open In Colab\"/></a>"
      ]
    },
    {
      "cell_type": "code",
      "metadata": {
        "id": "kCsrkCddRUpi",
        "colab_type": "code",
        "colab": {}
      },
      "source": [
        "# notebook for import our crime sim module and running some tests"
      ],
      "execution_count": 0,
      "outputs": []
    },
    {
      "cell_type": "markdown",
      "metadata": {
        "id": "XgFA3CtTbiwQ",
        "colab_type": "text"
      },
      "source": [
        "## Notes on running\n",
        "\n",
        "For this to run successfully follow these steps:\n",
        "\n",
        "\n",
        "1.   Git clone the repo into the root dir\n",
        "2.   Run pip install within the downloaded repo\n",
        "3.   Reset the local runtime to allow for pip packages installed to work\n",
        "4.   Then run python setup.py install on downloaded repo\n",
        "\n",
        "The package should now be useable within the notebook.\n",
        "\n"
      ]
    },
    {
      "cell_type": "code",
      "metadata": {
        "id": "Aha_nz-SRX56",
        "colab_type": "code",
        "outputId": "0f0a3d6c-d844-4350-b44e-db6f98c355d7",
        "colab": {
          "base_uri": "https://localhost:8080/",
          "height": 167
        }
      },
      "source": [
        "%cd ~/\n",
        "\n",
        "! git clone --single-branch --branch minor_refactor https://github.com/Sparrow0hawk/crime_sim_toolkit.git"
      ],
      "execution_count": 3,
      "outputs": [
        {
          "output_type": "stream",
          "text": [
            "/root\n",
            "Cloning into 'crime_sim_toolkit'...\n",
            "remote: Enumerating objects: 243, done.\u001b[K\n",
            "remote: Counting objects: 100% (243/243), done.\u001b[K\n",
            "remote: Compressing objects: 100% (161/161), done.\u001b[K\n",
            "remote: Total 243 (delta 130), reused 185 (delta 76), pack-reused 0\u001b[K\n",
            "Receiving objects: 100% (243/243), 19.67 MiB | 21.97 MiB/s, done.\n",
            "Resolving deltas: 100% (130/130), done.\n"
          ],
          "name": "stdout"
        }
      ]
    },
    {
      "cell_type": "code",
      "metadata": {
        "id": "J6ezywTXRnbX",
        "colab_type": "code",
        "outputId": "fcd57245-839b-43fa-d7b0-6a0bb7a7f761",
        "colab": {
          "base_uri": "https://localhost:8080/",
          "height": 335
        }
      },
      "source": [
        "%cd ~/crime_sim_toolkit\n",
        "\n",
        "!pip install -q -r requirements.txt"
      ],
      "execution_count": 4,
      "outputs": [
        {
          "output_type": "stream",
          "text": [
            "/root/crime_sim_toolkit\n",
            "\u001b[K     |████████████████████████████████| 215kB 7.1MB/s \n",
            "\u001b[K     |████████████████████████████████| 92kB 26.6MB/s \n",
            "\u001b[K     |████████████████████████████████| 13.1MB 41.8MB/s \n",
            "\u001b[K     |████████████████████████████████| 20.4MB 34.7MB/s \n",
            "\u001b[K     |████████████████████████████████| 10.5MB 37.7MB/s \n",
            "\u001b[K     |████████████████████████████████| 235kB 43.4MB/s \n",
            "\u001b[K     |████████████████████████████████| 512kB 44.6MB/s \n",
            "\u001b[K     |████████████████████████████████| 61kB 22.0MB/s \n",
            "\u001b[K     |████████████████████████████████| 153kB 47.7MB/s \n",
            "\u001b[31mERROR: kaggle 1.5.5 has requirement urllib3<1.25,>=1.21.1, but you'll have urllib3 1.25.3 which is incompatible.\u001b[0m\n",
            "\u001b[31mERROR: google-colab 1.0.0 has requirement pandas~=0.24.0, but you'll have pandas 0.25.0 which is incompatible.\u001b[0m\n",
            "\u001b[31mERROR: google-colab 1.0.0 has requirement requests~=2.21.0, but you'll have requests 2.22.0 which is incompatible.\u001b[0m\n",
            "\u001b[31mERROR: datascience 0.10.6 has requirement coverage==3.7.1, but you'll have coverage 4.5.4 which is incompatible.\u001b[0m\n",
            "\u001b[31mERROR: datascience 0.10.6 has requirement folium==0.2.1, but you'll have folium 0.10.0 which is incompatible.\u001b[0m\n",
            "\u001b[31mERROR: coveralls 0.5 has requirement coverage<3.999,>=3.6, but you'll have coverage 4.5.4 which is incompatible.\u001b[0m\n",
            "\u001b[31mERROR: albumentations 0.1.12 has requirement imgaug<0.2.7,>=0.2.5, but you'll have imgaug 0.2.9 which is incompatible.\u001b[0m\n",
            "\u001b[?25h"
          ],
          "name": "stdout"
        }
      ]
    },
    {
      "cell_type": "markdown",
      "metadata": {
        "id": "3Nf4DMs2YRkE",
        "colab_type": "text"
      },
      "source": [
        "# RESTART RUNTIME"
      ]
    },
    {
      "cell_type": "code",
      "metadata": {
        "id": "bD-ZF-Hya4Lq",
        "colab_type": "code",
        "colab": {
          "base_uri": "https://localhost:8080/",
          "height": 54
        },
        "outputId": "d3fd4748-e7f7-47d0-f812-e492ce4cd83d"
      },
      "source": [
        "%cd ~/crime_sim_toolkit\n",
        "\n",
        "!python setup.py -q install"
      ],
      "execution_count": 2,
      "outputs": [
        {
          "output_type": "stream",
          "text": [
            "/root/crime_sim_toolkit\n",
            "zip_safe flag not set; analyzing archive contents...\n"
          ],
          "name": "stdout"
        }
      ]
    },
    {
      "cell_type": "code",
      "metadata": {
        "id": "Ie_tNRIYSFTe",
        "colab_type": "code",
        "outputId": "668db6c9-f0c3-47ea-8880-3b8b403200e2",
        "colab": {
          "base_uri": "https://localhost:8080/",
          "height": 148
        }
      },
      "source": [
        "import crime_sim_toolkit.poisson_sim as Poisson_sim\n",
        "import os\n",
        "import sys\n",
        "\n",
        "\n",
        "sim1 = Poisson_sim.Poisson_sim(LA_names=['Kirklees','Calderdale','Leeds','Bradford','Wakefield'], timeframe='Day')"
      ],
      "execution_count": 44,
      "outputs": [
        {
          "output_type": "stream",
          "text": [
            "Fetching count data from police reports.\n",
            "Sit back and have a brew, this may take sometime.\n",
            " \n",
            "Number of data files found:  0\n",
            "No files found in data folder.\n",
            "Defaulting to test data.\n",
            "Psuedo days allocated to all reports.\n"
          ],
          "name": "stdout"
        }
      ]
    },
    {
      "cell_type": "code",
      "metadata": {
        "id": "19KyR5ZObINn",
        "colab_type": "code",
        "colab": {
          "base_uri": "https://localhost:8080/",
          "height": 206
        },
        "outputId": "c6988e9f-5e62-47d9-9cee-479757d0ef11"
      },
      "source": [
        "sim1.data.head()"
      ],
      "execution_count": 45,
      "outputs": [
        {
          "output_type": "execute_result",
          "data": {
            "text/html": [
              "<div>\n",
              "<style scoped>\n",
              "    .dataframe tbody tr th:only-of-type {\n",
              "        vertical-align: middle;\n",
              "    }\n",
              "\n",
              "    .dataframe tbody tr th {\n",
              "        vertical-align: top;\n",
              "    }\n",
              "\n",
              "    .dataframe thead th {\n",
              "        text-align: right;\n",
              "    }\n",
              "</style>\n",
              "<table border=\"1\" class=\"dataframe\">\n",
              "  <thead>\n",
              "    <tr style=\"text-align: right;\">\n",
              "      <th></th>\n",
              "      <th>Counts</th>\n",
              "      <th>Crime_type</th>\n",
              "      <th>Day</th>\n",
              "      <th>LSOA_code</th>\n",
              "      <th>Mon</th>\n",
              "      <th>Year</th>\n",
              "    </tr>\n",
              "  </thead>\n",
              "  <tbody>\n",
              "    <tr>\n",
              "      <th>0</th>\n",
              "      <td>1</td>\n",
              "      <td>Anti-social behaviour</td>\n",
              "      <td>6</td>\n",
              "      <td>E01010568</td>\n",
              "      <td>7</td>\n",
              "      <td>2016</td>\n",
              "    </tr>\n",
              "    <tr>\n",
              "      <th>1</th>\n",
              "      <td>3</td>\n",
              "      <td>Anti-social behaviour</td>\n",
              "      <td>31</td>\n",
              "      <td>E01010569</td>\n",
              "      <td>7</td>\n",
              "      <td>2016</td>\n",
              "    </tr>\n",
              "    <tr>\n",
              "      <th>2</th>\n",
              "      <td>2</td>\n",
              "      <td>Anti-social behaviour</td>\n",
              "      <td>9</td>\n",
              "      <td>E01010569</td>\n",
              "      <td>7</td>\n",
              "      <td>2016</td>\n",
              "    </tr>\n",
              "    <tr>\n",
              "      <th>3</th>\n",
              "      <td>2</td>\n",
              "      <td>Anti-social behaviour</td>\n",
              "      <td>13</td>\n",
              "      <td>E01010569</td>\n",
              "      <td>7</td>\n",
              "      <td>2016</td>\n",
              "    </tr>\n",
              "    <tr>\n",
              "      <th>4</th>\n",
              "      <td>2</td>\n",
              "      <td>Anti-social behaviour</td>\n",
              "      <td>14</td>\n",
              "      <td>E01010569</td>\n",
              "      <td>7</td>\n",
              "      <td>2016</td>\n",
              "    </tr>\n",
              "  </tbody>\n",
              "</table>\n",
              "</div>"
            ],
            "text/plain": [
              "   Counts             Crime_type  Day  LSOA_code  Mon  Year\n",
              "0       1  Anti-social behaviour    6  E01010568    7  2016\n",
              "1       3  Anti-social behaviour   31  E01010569    7  2016\n",
              "2       2  Anti-social behaviour    9  E01010569    7  2016\n",
              "3       2  Anti-social behaviour   13  E01010569    7  2016\n",
              "4       2  Anti-social behaviour   14  E01010569    7  2016"
            ]
          },
          "metadata": {
            "tags": []
          },
          "execution_count": 45
        }
      ]
    },
    {
      "cell_type": "code",
      "metadata": {
        "id": "Q4b95m66HZoM",
        "colab_type": "code",
        "colab": {
          "base_uri": "https://localhost:8080/",
          "height": 54
        },
        "outputId": "4422d091-d071-4bac-983e-3c994ead5258"
      },
      "source": [
        "test_data = sim1.out_of_bag_prep(sim1.data)\n",
        "\n",
        "train_data = sim1.oob_train_split(sim1.data, test_data)\n"
      ],
      "execution_count": 46,
      "outputs": [
        {
          "output_type": "stream",
          "text": [
            "The passed data does not appear to have a full years (Jan-Dec) worth of data.\n",
            "Defaulting to select out-of-bag sample for most recent year.\n"
          ],
          "name": "stdout"
        }
      ]
    },
    {
      "cell_type": "code",
      "metadata": {
        "id": "TfFrb8MghxuP",
        "colab_type": "code",
        "outputId": "c8a5b507-1aff-4682-d388-a571420f2a5d",
        "colab": {
          "base_uri": "https://localhost:8080/",
          "height": 654
        }
      },
      "source": [
        "%%time\n",
        "\n",
        "datat = sim1.SimplePoission(train_data, test_data)"
      ],
      "execution_count": 47,
      "outputs": [
        {
          "output_type": "stream",
          "text": [
            "Beginning sampling.\n",
            "Month: 7 Day: 1\n",
            "Month: 7 Day: 2\n",
            "Month: 7 Day: 3\n",
            "Month: 7 Day: 4\n",
            "Month: 7 Day: 5\n",
            "Month: 7 Day: 6\n",
            "Month: 7 Day: 7\n",
            "Month: 7 Day: 8\n",
            "Month: 7 Day: 9\n",
            "Month: 7 Day: 10\n",
            "Month: 7 Day: 11\n",
            "Month: 7 Day: 12\n",
            "Month: 7 Day: 13\n",
            "Month: 7 Day: 14\n",
            "Month: 7 Day: 15\n",
            "Month: 7 Day: 16\n",
            "Month: 7 Day: 17\n",
            "Month: 7 Day: 18\n",
            "Month: 7 Day: 19\n",
            "Month: 7 Day: 20\n",
            "Month: 7 Day: 21\n",
            "Month: 7 Day: 22\n",
            "Month: 7 Day: 23\n",
            "Month: 7 Day: 24\n",
            "Month: 7 Day: 25\n",
            "Month: 7 Day: 26\n",
            "Month: 7 Day: 27\n",
            "Month: 7 Day: 28\n",
            "Month: 7 Day: 29\n",
            "Month: 7 Day: 30\n",
            "Month: 7 Day: 31\n",
            "CPU times: user 17min 32s, sys: 11.1 s, total: 17min 43s\n",
            "Wall time: 17min 25s\n"
          ],
          "name": "stdout"
        }
      ]
    },
    {
      "cell_type": "code",
      "metadata": {
        "id": "3qwlSGBjMdSf",
        "colab_type": "code",
        "colab": {
          "base_uri": "https://localhost:8080/",
          "height": 206
        },
        "outputId": "c4797713-df04-4c2c-db55-6f8c063030f9"
      },
      "source": [
        "datat.head()"
      ],
      "execution_count": 48,
      "outputs": [
        {
          "output_type": "execute_result",
          "data": {
            "text/html": [
              "<div>\n",
              "<style scoped>\n",
              "    .dataframe tbody tr th:only-of-type {\n",
              "        vertical-align: middle;\n",
              "    }\n",
              "\n",
              "    .dataframe tbody tr th {\n",
              "        vertical-align: top;\n",
              "    }\n",
              "\n",
              "    .dataframe thead th {\n",
              "        text-align: right;\n",
              "    }\n",
              "</style>\n",
              "<table border=\"1\" class=\"dataframe\">\n",
              "  <thead>\n",
              "    <tr style=\"text-align: right;\">\n",
              "      <th></th>\n",
              "      <th>Day</th>\n",
              "      <th>Mon</th>\n",
              "      <th>Crime type</th>\n",
              "      <th>Counts</th>\n",
              "      <th>LSOA_code</th>\n",
              "    </tr>\n",
              "  </thead>\n",
              "  <tbody>\n",
              "    <tr>\n",
              "      <th>0</th>\n",
              "      <td>1</td>\n",
              "      <td>7</td>\n",
              "      <td>Anti-social behaviour</td>\n",
              "      <td>0</td>\n",
              "      <td>E01010573</td>\n",
              "    </tr>\n",
              "    <tr>\n",
              "      <th>1</th>\n",
              "      <td>1</td>\n",
              "      <td>7</td>\n",
              "      <td>Anti-social behaviour</td>\n",
              "      <td>1</td>\n",
              "      <td>E01010578</td>\n",
              "    </tr>\n",
              "    <tr>\n",
              "      <th>2</th>\n",
              "      <td>1</td>\n",
              "      <td>7</td>\n",
              "      <td>Anti-social behaviour</td>\n",
              "      <td>0</td>\n",
              "      <td>E01010598</td>\n",
              "    </tr>\n",
              "    <tr>\n",
              "      <th>3</th>\n",
              "      <td>1</td>\n",
              "      <td>7</td>\n",
              "      <td>Anti-social behaviour</td>\n",
              "      <td>1</td>\n",
              "      <td>E01010609</td>\n",
              "    </tr>\n",
              "    <tr>\n",
              "      <th>4</th>\n",
              "      <td>1</td>\n",
              "      <td>7</td>\n",
              "      <td>Anti-social behaviour</td>\n",
              "      <td>2</td>\n",
              "      <td>E01010610</td>\n",
              "    </tr>\n",
              "  </tbody>\n",
              "</table>\n",
              "</div>"
            ],
            "text/plain": [
              "   Day  Mon             Crime type  Counts  LSOA_code\n",
              "0    1    7  Anti-social behaviour       0  E01010573\n",
              "1    1    7  Anti-social behaviour       1  E01010578\n",
              "2    1    7  Anti-social behaviour       0  E01010598\n",
              "3    1    7  Anti-social behaviour       1  E01010609\n",
              "4    1    7  Anti-social behaviour       2  E01010610"
            ]
          },
          "metadata": {
            "tags": []
          },
          "execution_count": 48
        }
      ]
    },
    {
      "cell_type": "code",
      "metadata": {
        "id": "T6h29Ht-o37e",
        "colab_type": "code",
        "colab": {
          "base_uri": "https://localhost:8080/",
          "height": 335
        },
        "outputId": "e670e31b-2ce0-4a2e-ec27-305c61d87549"
      },
      "source": [
        "diff_table = sim1.error_Reporting(test_data=test_data, simulated_data=datat)"
      ],
      "execution_count": 49,
      "outputs": [
        {
          "output_type": "stream",
          "text": [
            "Root mean squared error of poisson sampler:  1.2\n",
            "Mean absolute error:  0.7\n",
            "Median absolute error:  0.0\n"
          ],
          "name": "stdout"
        },
        {
          "output_type": "display_data",
          "data": {
            "image/png": "[encoded data removed]",
            "text/plain": [
              "<Figure size 432x288 with 1 Axes>"
            ]
          },
          "metadata": {
            "tags": []
          }
        }
      ]
    },
    {
      "cell_type": "code",
      "metadata": {
        "id": "0sHnTd34k4nD",
        "colab_type": "code",
        "colab": {
          "base_uri": "https://localhost:8080/",
          "height": 237
        },
        "outputId": "be99b4e9-97bb-43e9-89e4-01950ada78cd"
      },
      "source": [
        "diff_table.head()"
      ],
      "execution_count": 50,
      "outputs": [
        {
          "output_type": "execute_result",
          "data": {
            "text/html": [
              "<div>\n",
              "<style scoped>\n",
              "    .dataframe tbody tr th:only-of-type {\n",
              "        vertical-align: middle;\n",
              "    }\n",
              "\n",
              "    .dataframe tbody tr th {\n",
              "        vertical-align: top;\n",
              "    }\n",
              "\n",
              "    .dataframe thead th {\n",
              "        text-align: right;\n",
              "    }\n",
              "</style>\n",
              "<table border=\"1\" class=\"dataframe\">\n",
              "  <thead>\n",
              "    <tr style=\"text-align: right;\">\n",
              "      <th></th>\n",
              "      <th>Day</th>\n",
              "      <th>Pred_counts</th>\n",
              "      <th>Actual</th>\n",
              "      <th>Difference</th>\n",
              "    </tr>\n",
              "    <tr>\n",
              "      <th>LSOA_code</th>\n",
              "      <th></th>\n",
              "      <th></th>\n",
              "      <th></th>\n",
              "      <th></th>\n",
              "    </tr>\n",
              "  </thead>\n",
              "  <tbody>\n",
              "    <tr>\n",
              "      <th>E01010568</th>\n",
              "      <td>1</td>\n",
              "      <td>0</td>\n",
              "      <td>0</td>\n",
              "      <td>0</td>\n",
              "    </tr>\n",
              "    <tr>\n",
              "      <th>E01010569</th>\n",
              "      <td>1</td>\n",
              "      <td>0</td>\n",
              "      <td>1</td>\n",
              "      <td>1</td>\n",
              "    </tr>\n",
              "    <tr>\n",
              "      <th>E01010570</th>\n",
              "      <td>1</td>\n",
              "      <td>0</td>\n",
              "      <td>0</td>\n",
              "      <td>0</td>\n",
              "    </tr>\n",
              "    <tr>\n",
              "      <th>E01010571</th>\n",
              "      <td>1</td>\n",
              "      <td>0</td>\n",
              "      <td>3</td>\n",
              "      <td>3</td>\n",
              "    </tr>\n",
              "    <tr>\n",
              "      <th>E01010572</th>\n",
              "      <td>1</td>\n",
              "      <td>0</td>\n",
              "      <td>0</td>\n",
              "      <td>0</td>\n",
              "    </tr>\n",
              "  </tbody>\n",
              "</table>\n",
              "</div>"
            ],
            "text/plain": [
              "           Day  Pred_counts  Actual  Difference\n",
              "LSOA_code                                      \n",
              "E01010568    1            0       0           0\n",
              "E01010569    1            0       1           1\n",
              "E01010570    1            0       0           0\n",
              "E01010571    1            0       3           3\n",
              "E01010572    1            0       0           0"
            ]
          },
          "metadata": {
            "tags": []
          },
          "execution_count": 50
        }
      ]
    },
    {
      "cell_type": "code",
      "metadata": {
        "id": "zD1q1lURf8te",
        "colab_type": "code",
        "colab": {}
      },
      "source": [
        "from crime_sim_toolkit import utils"
      ],
      "execution_count": 0,
      "outputs": []
    },
    {
      "cell_type": "code",
      "metadata": {
        "id": "2nTd12X2kIpj",
        "colab_type": "code",
        "colab": {}
      },
      "source": [
        "# TODO: correct simulated data output so that Crime type --> Crime_type\n",
        "\n",
        "datat.columns = ['Day','Mon','Crime_type','Counts','LSOA_code']"
      ],
      "execution_count": 0,
      "outputs": []
    },
    {
      "cell_type": "code",
      "metadata": {
        "id": "76tV_gPmjGGu",
        "colab_type": "code",
        "colab": {
          "base_uri": "https://localhost:8080/",
          "height": 54
        },
        "outputId": "616a2ca6-f31d-4a44-cb16-d0cad5bc696f"
      },
      "source": [
        "%%time\n",
        "\n",
        "synth_counts = utils.counts_to_reports(datat)"
      ],
      "execution_count": 53,
      "outputs": [
        {
          "output_type": "stream",
          "text": [
            "CPU times: user 4.87 s, sys: 3.38 ms, total: 4.87 s\n",
            "Wall time: 4.88 s\n"
          ],
          "name": "stdout"
        }
      ]
    },
    {
      "cell_type": "code",
      "metadata": {
        "id": "QBy0mVPEjNs9",
        "colab_type": "code",
        "colab": {
          "base_uri": "https://localhost:8080/",
          "height": 206
        },
        "outputId": "adb083ce-b3ac-4129-cc23-93ba43e829dd"
      },
      "source": [
        "synth_counts.head()"
      ],
      "execution_count": 54,
      "outputs": [
        {
          "output_type": "execute_result",
          "data": {
            "text/html": [
              "<div>\n",
              "<style scoped>\n",
              "    .dataframe tbody tr th:only-of-type {\n",
              "        vertical-align: middle;\n",
              "    }\n",
              "\n",
              "    .dataframe tbody tr th {\n",
              "        vertical-align: top;\n",
              "    }\n",
              "\n",
              "    .dataframe thead th {\n",
              "        text-align: right;\n",
              "    }\n",
              "</style>\n",
              "<table border=\"1\" class=\"dataframe\">\n",
              "  <thead>\n",
              "    <tr style=\"text-align: right;\">\n",
              "      <th></th>\n",
              "      <th>Day</th>\n",
              "      <th>Mon</th>\n",
              "      <th>Crime_type</th>\n",
              "      <th>LSOA_code</th>\n",
              "      <th>UID</th>\n",
              "    </tr>\n",
              "  </thead>\n",
              "  <tbody>\n",
              "    <tr>\n",
              "      <th>0</th>\n",
              "      <td>1</td>\n",
              "      <td>7</td>\n",
              "      <td>Anti-social behaviour</td>\n",
              "      <td>E01010578</td>\n",
              "      <td>E010117A0</td>\n",
              "    </tr>\n",
              "    <tr>\n",
              "      <th>1</th>\n",
              "      <td>1</td>\n",
              "      <td>7</td>\n",
              "      <td>Anti-social behaviour</td>\n",
              "      <td>E01010609</td>\n",
              "      <td>E010117A0</td>\n",
              "    </tr>\n",
              "    <tr>\n",
              "      <th>2</th>\n",
              "      <td>1</td>\n",
              "      <td>7</td>\n",
              "      <td>Anti-social behaviour</td>\n",
              "      <td>E01010610</td>\n",
              "      <td>E010117A0</td>\n",
              "    </tr>\n",
              "    <tr>\n",
              "      <th>3</th>\n",
              "      <td>1</td>\n",
              "      <td>7</td>\n",
              "      <td>Anti-social behaviour</td>\n",
              "      <td>E01010610</td>\n",
              "      <td>E010117A1</td>\n",
              "    </tr>\n",
              "    <tr>\n",
              "      <th>4</th>\n",
              "      <td>1</td>\n",
              "      <td>7</td>\n",
              "      <td>Anti-social behaviour</td>\n",
              "      <td>E01010665</td>\n",
              "      <td>E010117A0</td>\n",
              "    </tr>\n",
              "  </tbody>\n",
              "</table>\n",
              "</div>"
            ],
            "text/plain": [
              "  Day Mon             Crime_type  LSOA_code        UID\n",
              "0   1   7  Anti-social behaviour  E01010578  E010117A0\n",
              "1   1   7  Anti-social behaviour  E01010609  E010117A0\n",
              "2   1   7  Anti-social behaviour  E01010610  E010117A0\n",
              "3   1   7  Anti-social behaviour  E01010610  E010117A1\n",
              "4   1   7  Anti-social behaviour  E01010665  E010117A0"
            ]
          },
          "metadata": {
            "tags": []
          },
          "execution_count": 54
        }
      ]
    },
    {
      "cell_type": "code",
      "metadata": {
        "id": "ggd_rNV6oPPb",
        "colab_type": "code",
        "colab": {}
      },
      "source": [
        "synth_counts.to_csv('synthetic_day_reports.csv')"
      ],
      "execution_count": 0,
      "outputs": []
    },
    {
      "cell_type": "code",
      "metadata": {
        "id": "egmuVHW4p0NQ",
        "colab_type": "code",
        "colab": {}
      },
      "source": [
        "from google.colab import files\n",
        "\n",
        "files.download('synthetic_day_reports.csv')"
      ],
      "execution_count": 0,
      "outputs": []
    },
    {
      "cell_type": "code",
      "metadata": {
        "id": "ioTKciyBlkjN",
        "colab_type": "code",
        "colab": {}
      },
      "source": [
        "# big undersampling evident from comparing size of synthetic counts frame and counts in test data"
      ],
      "execution_count": 0,
      "outputs": []
    },
    {
      "cell_type": "code",
      "metadata": {
        "id": "HBSVpNsCjbuT",
        "colab_type": "code",
        "colab": {
          "base_uri": "https://localhost:8080/",
          "height": 36
        },
        "outputId": "0032af0b-9d2e-4d7b-e01e-0dab23177e1f"
      },
      "source": [
        "synth_counts.shape"
      ],
      "execution_count": 14,
      "outputs": [
        {
          "output_type": "execute_result",
          "data": {
            "text/plain": [
              "(7653, 5)"
            ]
          },
          "metadata": {
            "tags": []
          },
          "execution_count": 14
        }
      ]
    },
    {
      "cell_type": "code",
      "metadata": {
        "id": "q1Ojdba_kVdy",
        "colab_type": "code",
        "colab": {
          "base_uri": "https://localhost:8080/",
          "height": 36
        },
        "outputId": "89e517b3-6b3f-4b58-a765-1cc147258e5a"
      },
      "source": [
        "test_data.Counts.sum()"
      ],
      "execution_count": 16,
      "outputs": [
        {
          "output_type": "execute_result",
          "data": {
            "text/plain": [
              "30739"
            ]
          },
          "metadata": {
            "tags": []
          },
          "execution_count": 16
        }
      ]
    },
    {
      "cell_type": "markdown",
      "metadata": {
        "id": "S2Pk-KU7lxuT",
        "colab_type": "text"
      },
      "source": [
        "## Example with Week timeframe dimension"
      ]
    },
    {
      "cell_type": "code",
      "metadata": {
        "id": "Da0g_gXcl7C7",
        "colab_type": "code",
        "colab": {
          "base_uri": "https://localhost:8080/",
          "height": 167
        },
        "outputId": "2282dc56-6d09-4a32-881f-5367a751983c"
      },
      "source": [
        "import crime_sim_toolkit.poisson_sim as Poisson_sim\n",
        "import os\n",
        "import sys\n",
        "\n",
        "\n",
        "sim1 = Poisson_sim.Poisson_sim(LA_names=['Kirklees','Calderdale','Leeds','Bradford','Wakefield'], timeframe='Week')"
      ],
      "execution_count": 27,
      "outputs": [
        {
          "output_type": "stream",
          "text": [
            "Fetching count data from police reports.\n",
            "Sit back and have a brew, this may take sometime.\n",
            " \n",
            "Number of data files found:  0\n",
            "No files found in data folder.\n",
            "Defaulting to test data.\n",
            "Psuedo days allocated to all reports.\n",
            "Week numbers allocated.\n"
          ],
          "name": "stdout"
        }
      ]
    },
    {
      "cell_type": "code",
      "metadata": {
        "id": "tXfK35W2l89B",
        "colab_type": "code",
        "colab": {
          "base_uri": "https://localhost:8080/",
          "height": 54
        },
        "outputId": "634682d4-aca2-438f-dd08-cd2e0db19018"
      },
      "source": [
        "test_data = sim1.out_of_bag_prep(sim1.data)\n",
        "\n",
        "train_data = sim1.oob_train_split(sim1.data, test_data)\n"
      ],
      "execution_count": 28,
      "outputs": [
        {
          "output_type": "stream",
          "text": [
            "The passed data does not appear to have a full years (Jan-Dec) worth of data.\n",
            "Defaulting to select out-of-bag sample for most recent year.\n"
          ],
          "name": "stdout"
        }
      ]
    },
    {
      "cell_type": "code",
      "metadata": {
        "id": "2VqP2n0emBid",
        "colab_type": "code",
        "colab": {
          "base_uri": "https://localhost:8080/",
          "height": 186
        },
        "outputId": "6944e384-85d9-43c1-87dd-619c3a66bddc"
      },
      "source": [
        "%%time\n",
        "\n",
        "datat = sim1.SimplePoission(train_data, test_data)"
      ],
      "execution_count": 29,
      "outputs": [
        {
          "output_type": "stream",
          "text": [
            "Beginning sampling.\n",
            "Month: 7 Week: 26\n",
            "Month: 7 Week: 27\n",
            "Month: 7 Week: 28\n",
            "Month: 7 Week: 29\n",
            "Month: 7 Week: 30\n",
            "Month: 7 Week: 31\n",
            "CPU times: user 3min 20s, sys: 2.07 s, total: 3min 22s\n",
            "Wall time: 3min 19s\n"
          ],
          "name": "stdout"
        }
      ]
    },
    {
      "cell_type": "code",
      "metadata": {
        "id": "q1EMBF-inSJT",
        "colab_type": "code",
        "colab": {}
      },
      "source": [
        "datat.columns = ['Week','Mon','Crime_type','Counts','LSOA_code']"
      ],
      "execution_count": 0,
      "outputs": []
    },
    {
      "cell_type": "code",
      "metadata": {
        "id": "RP6DCW6TmDcV",
        "colab_type": "code",
        "colab": {
          "base_uri": "https://localhost:8080/",
          "height": 335
        },
        "outputId": "01aa3d11-e61b-4282-c6e8-e45967c5e027"
      },
      "source": [
        "diff_table = sim1.error_Reporting(test_data=test_data, simulated_data=datat)"
      ],
      "execution_count": 39,
      "outputs": [
        {
          "output_type": "stream",
          "text": [
            "Root mean squared error of poisson sampler:  3.6\n",
            "Mean absolute error:  2.4\n",
            "Median absolute error:  2.0\n"
          ],
          "name": "stdout"
        },
        {
          "output_type": "display_data",
          "data": {
            "image/png": "[encoded data removed]",
            "text/plain": [
              "<Figure size 432x288 with 1 Axes>"
            ]
          },
          "metadata": {
            "tags": []
          }
        }
      ]
    },
    {
      "cell_type": "code",
      "metadata": {
        "id": "D1LhjU9kmFc7",
        "colab_type": "code",
        "colab": {
          "base_uri": "https://localhost:8080/",
          "height": 54
        },
        "outputId": "026c0dfe-68ee-4c7a-e015-d2e057899966"
      },
      "source": [
        "%%time\n",
        "\n",
        "synth_counts = utils.counts_to_reports(datat)"
      ],
      "execution_count": 40,
      "outputs": [
        {
          "output_type": "stream",
          "text": [
            "CPU times: user 12.5 s, sys: 5.4 ms, total: 12.5 s\n",
            "Wall time: 12.5 s\n"
          ],
          "name": "stdout"
        }
      ]
    },
    {
      "cell_type": "code",
      "metadata": {
        "id": "R4RWQeaimHT8",
        "colab_type": "code",
        "colab": {
          "base_uri": "https://localhost:8080/",
          "height": 206
        },
        "outputId": "4ec3f310-c170-43af-ab71-54e76b0bd238"
      },
      "source": [
        "synth_counts.head()"
      ],
      "execution_count": 41,
      "outputs": [
        {
          "output_type": "execute_result",
          "data": {
            "text/html": [
              "<div>\n",
              "<style scoped>\n",
              "    .dataframe tbody tr th:only-of-type {\n",
              "        vertical-align: middle;\n",
              "    }\n",
              "\n",
              "    .dataframe tbody tr th {\n",
              "        vertical-align: top;\n",
              "    }\n",
              "\n",
              "    .dataframe thead th {\n",
              "        text-align: right;\n",
              "    }\n",
              "</style>\n",
              "<table border=\"1\" class=\"dataframe\">\n",
              "  <thead>\n",
              "    <tr style=\"text-align: right;\">\n",
              "      <th></th>\n",
              "      <th>Week</th>\n",
              "      <th>Mon</th>\n",
              "      <th>Crime_type</th>\n",
              "      <th>LSOA_code</th>\n",
              "      <th>UID</th>\n",
              "    </tr>\n",
              "  </thead>\n",
              "  <tbody>\n",
              "    <tr>\n",
              "      <th>0</th>\n",
              "      <td>26</td>\n",
              "      <td>7</td>\n",
              "      <td>Anti-social behaviour</td>\n",
              "      <td>E01010575</td>\n",
              "      <td>E0101267A0</td>\n",
              "    </tr>\n",
              "    <tr>\n",
              "      <th>1</th>\n",
              "      <td>26</td>\n",
              "      <td>7</td>\n",
              "      <td>Anti-social behaviour</td>\n",
              "      <td>E01010575</td>\n",
              "      <td>E0101267A1</td>\n",
              "    </tr>\n",
              "    <tr>\n",
              "      <th>2</th>\n",
              "      <td>26</td>\n",
              "      <td>7</td>\n",
              "      <td>Anti-social behaviour</td>\n",
              "      <td>E01010578</td>\n",
              "      <td>E0101267A0</td>\n",
              "    </tr>\n",
              "    <tr>\n",
              "      <th>3</th>\n",
              "      <td>26</td>\n",
              "      <td>7</td>\n",
              "      <td>Anti-social behaviour</td>\n",
              "      <td>E01010582</td>\n",
              "      <td>E0101267A0</td>\n",
              "    </tr>\n",
              "    <tr>\n",
              "      <th>4</th>\n",
              "      <td>26</td>\n",
              "      <td>7</td>\n",
              "      <td>Anti-social behaviour</td>\n",
              "      <td>E01010582</td>\n",
              "      <td>E0101267A1</td>\n",
              "    </tr>\n",
              "  </tbody>\n",
              "</table>\n",
              "</div>"
            ],
            "text/plain": [
              "  Week Mon             Crime_type  LSOA_code         UID\n",
              "0   26   7  Anti-social behaviour  E01010575  E0101267A0\n",
              "1   26   7  Anti-social behaviour  E01010575  E0101267A1\n",
              "2   26   7  Anti-social behaviour  E01010578  E0101267A0\n",
              "3   26   7  Anti-social behaviour  E01010582  E0101267A0\n",
              "4   26   7  Anti-social behaviour  E01010582  E0101267A1"
            ]
          },
          "metadata": {
            "tags": []
          },
          "execution_count": 41
        }
      ]
    },
    {
      "cell_type": "code",
      "metadata": {
        "id": "jWdQM3armIjx",
        "colab_type": "code",
        "colab": {
          "base_uri": "https://localhost:8080/",
          "height": 36
        },
        "outputId": "5eb51320-ce5c-4d07-f117-efb4d40ebda2"
      },
      "source": [
        "synth_counts.shape"
      ],
      "execution_count": 42,
      "outputs": [
        {
          "output_type": "execute_result",
          "data": {
            "text/plain": [
              "(20389, 5)"
            ]
          },
          "metadata": {
            "tags": []
          },
          "execution_count": 42
        }
      ]
    },
    {
      "cell_type": "code",
      "metadata": {
        "id": "K-WpkyVTneLx",
        "colab_type": "code",
        "colab": {
          "base_uri": "https://localhost:8080/",
          "height": 36
        },
        "outputId": "fbb384f9-1bba-489a-a401-3b7226d766e3"
      },
      "source": [
        "test_data.Counts.sum()"
      ],
      "execution_count": 43,
      "outputs": [
        {
          "output_type": "execute_result",
          "data": {
            "text/plain": [
              "30739"
            ]
          },
          "metadata": {
            "tags": []
          },
          "execution_count": 43
        }
      ]
    },
    {
      "cell_type": "code",
      "metadata": {
        "id": "ANCynMFlnglI",
        "colab_type": "code",
        "colab": {}
      },
      "source": [
        "# undersamples but not as significantly as Day sampler"
      ],
      "execution_count": 0,
      "outputs": []
    }
  ]
}