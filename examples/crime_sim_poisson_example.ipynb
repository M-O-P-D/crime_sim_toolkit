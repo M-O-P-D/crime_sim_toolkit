{
  "nbformat": 4,
  "nbformat_minor": 0,
  "metadata": {
    "colab": {
      "name": "crime_sim_poisson_example.ipynb",
      "version": "0.3.2",
      "provenance": [],
      "collapsed_sections": [],
      "include_colab_link": true
    },
    "kernelspec": {
      "name": "python3",
      "display_name": "Python 3"
    }
  },
  "cells": [
    {
      "cell_type": "markdown",
      "metadata": {
        "id": "view-in-github",
        "colab_type": "text"
      },
      "source": [
        "<a href=\"https://colab.research.google.com/github/Sparrow0hawk/crime_sim_toolkit/blob/develop/examples/crime_sim_poisson_example.ipynb\" target=\"_parent\"><img src=\"https://colab.research.google.com/assets/colab-badge.svg\" alt=\"Open In Colab\"/></a>"
      ]
    },
    {
      "cell_type": "markdown",
      "metadata": {
        "id": "XgFA3CtTbiwQ",
        "colab_type": "text"
      },
      "source": [
        "# Example notebook for using the crime_sim_toolkit\n",
        "\n",
        "Follow these steps to load your own data into the crime_sim_toolkit for generating new crime data using the Poisson Sampler function.\n",
        "\n",
        "## Notes on running\n",
        "For this to run successfully follow these steps:\n",
        "\n",
        "\n",
        "1.   Git clone the repo into the root dir\n",
        "2.   Run pip install within the downloaded repo\n",
        "3.   Reset the local runtime to allow for pip packages installed to work\n",
        "4.   Then run python setup.py install on downloaded repo\n",
        "\n",
        "The package should now be useable within the notebook.\n",
        "\n"
      ]
    },
    {
      "cell_type": "code",
      "metadata": {
        "id": "Aha_nz-SRX56",
        "colab_type": "code",

        "outputId": "0a133df4-c8de-4255-ef2c-bbe534bd61b3",

        "colab": {
          "base_uri": "https://localhost:8080/",
          "height": 167
        }
      },
      "source": [
        "%cd ~/\n",
        "\n",

        "! git clone --single-branch --branch develop https://github.com/Sparrow0hawk/crime_sim_toolkit.git"

      ],
      "execution_count": 1,
      "outputs": [
        {
          "output_type": "stream",
          "text": [
            "/root\n",
            "Cloning into 'crime_sim_toolkit'...\n",

            "remote: Enumerating objects: 42, done.\u001b[K\n",
            "remote: Counting objects: 100% (42/42), done.\u001b[K\n",
            "remote: Compressing objects: 100% (28/28), done.\u001b[K\n",
            "remote: Total 547 (delta 21), reused 23 (delta 14), pack-reused 505\u001b[K\n",
            "Receiving objects: 100% (547/547), 48.68 MiB | 29.78 MiB/s, done.\n",
            "Resolving deltas: 100% (300/300), done.\n"
          ],
          "name": "stdout"
        }
      ]
    },
    {
      "cell_type": "code",
      "metadata": {
        "id": "J6ezywTXRnbX",
        "colab_type": "code",
        "outputId": "4914fc8c-02cd-4cfa-e3fd-2ef6be10015c",
        "colab": {
          "base_uri": "https://localhost:8080/",
          "height": 354
        }
      },
      "source": [
        "%cd ~/crime_sim_toolkit\n",
        "\n",
        "!pip install -q -r requirements.txt"
      ],
      "execution_count": 2,
      "outputs": [
        {
          "output_type": "stream",
          "text": [
            "/root/crime_sim_toolkit\n",

            "\u001b[K     |████████████████████████████████| 215kB 4.1MB/s \n",
            "\u001b[K     |████████████████████████████████| 92kB 31.8MB/s \n",
            "\u001b[K     |████████████████████████████████| 13.1MB 60.0MB/s \n",
            "\u001b[K     |████████████████████████████████| 20.4MB 1.9MB/s \n",
            "\u001b[K     |████████████████████████████████| 10.5MB 42.2MB/s \n",
            "\u001b[K     |████████████████████████████████| 235kB 60.4MB/s \n",
            "\u001b[K     |████████████████████████████████| 512kB 59.0MB/s \n",
            "\u001b[K     |████████████████████████████████| 61kB 25.5MB/s \n",
            "\u001b[K     |████████████████████████████████| 25.2MB 1.2MB/s \n",
            "\u001b[K     |████████████████████████████████| 153kB 55.8MB/s \n",
            "\u001b[31mERROR: kaggle 1.5.5 has requirement urllib3<1.25,>=1.21.1, but you'll have urllib3 1.25.3 which is incompatible.\u001b[0m\n",
            "\u001b[31mERROR: google-colab 1.0.0 has requirement pandas~=0.24.0, but you'll have pandas 0.25.0 which is incompatible.\u001b[0m\n",
            "\u001b[31mERROR: google-colab 1.0.0 has requirement requests~=2.21.0, but you'll have requests 2.22.0 which is incompatible.\u001b[0m\n",
            "\u001b[31mERROR: datascience 0.10.6 has requirement coverage==3.7.1, but you'll have coverage 4.5.4 which is incompatible.\u001b[0m\n",
            "\u001b[31mERROR: datascience 0.10.6 has requirement folium==0.2.1, but you'll have folium 0.10.0 which is incompatible.\u001b[0m\n",
            "\u001b[31mERROR: coveralls 0.5 has requirement coverage<3.999,>=3.6, but you'll have coverage 4.5.4 which is incompatible.\u001b[0m\n",
            "\u001b[31mERROR: albumentations 0.1.12 has requirement imgaug<0.2.7,>=0.2.5, but you'll have imgaug 0.2.9 which is incompatible.\u001b[0m\n",
            "\u001b[?25h"
          ],
          "name": "stdout"
        }
      ]
    },
    {
      "cell_type": "markdown",
      "metadata": {
        "id": "3Nf4DMs2YRkE",
        "colab_type": "text"
      },
      "source": [
        "# RESTART RUNTIME"
      ]
    },
    {
      "cell_type": "code",
      "metadata": {
        "id": "bD-ZF-Hya4Lq",
        "colab_type": "code",
        "outputId": "fcbc8b20-7410-467f-84e3-4644b3ab27bb",
        "colab": {
          "base_uri": "https://localhost:8080/",
          "height": 36
        }
      },
      "source": [
        "%cd ~/crime_sim_toolkit\n",
        "\n",
        "!python setup.py -q install"
      ],
      "execution_count": 1,
      "outputs": [
        {
          "output_type": "stream",
          "text": [
            "/root/crime_sim_toolkit\n"
          ],
          "name": "stdout"
        }
      ]
    },
    {
      "cell_type": "markdown",
      "metadata": {
        "id": "AFxm7U4JmFNy",
        "colab_type": "text"
      },
      "source": [
        "## Loading data\n",
        "\n",
        "Using data from a [custom dowload](https://data.police.uk/data/) from Police Data UK we can load that data, covert it to counts by crime_type by LSOA by psuedo Week/Day by passing the directory to the Poisson_sim function.\n",
        "\n",
        "Sample data used here is included within the [github repository](https://github.com/Sparrow0hawk/crime_sim_toolkit/tree/master/sample_data) and covers January-June from 2017-2019."
      ]
    },
    {
      "cell_type": "code",
      "metadata": {
        "id": "Ie_tNRIYSFTe",
        "colab_type": "code",
        "outputId": "a5bf5005-3d4e-4b27-c616-578e1bf4762a",
        "colab": {
          "base_uri": "https://localhost:8080/",
          "height": 111
        }
      },
      "source": [
        "import crime_sim_toolkit.poisson_sim as Poisson_sim\n",
        "\n",
        "\n",
        "sim_week = Poisson_sim.Poisson_sim(\n",
        "                               # because of the data passed these are the LA we want\n",
        "                               LA_names=['Kirklees','Calderdale','Leeds','Bradford','Wakefield'], \n",
        "                               directory='/root/crime_sim_toolkit/sample_data',\n",
        "                               # this can either be Day or Week\n",
        "                               timeframe='Day')"
      ],
      "execution_count": 2,
      "outputs": [
        {
          "output_type": "stream",
          "text": [
            "Fetching count data from police reports.\n",
            "Sit back and have a brew, this may take sometime.\n",
            " \n",
            "Number of data files found:  18\n",
            "Psuedo days allocated to all reports.\n"
          ],
          "name": "stdout"
        }
      ]
    },
    {
      "cell_type": "code",
      "metadata": {
        "id": "19KyR5ZObINn",
        "colab_type": "code",
        "outputId": "1a9594b5-c62f-46f6-d62a-11a3ad7e9777",
        "colab": {
          "base_uri": "https://localhost:8080/",
          "height": 206
        }
      },
      "source": [
        "sim_week.data.head()"
      ],
      "execution_count": 3,
      "outputs": [
        {
          "output_type": "execute_result",
          "data": {
            "text/html": [
              "<div>\n",
              "<style scoped>\n",
              "    .dataframe tbody tr th:only-of-type {\n",
              "        vertical-align: middle;\n",
              "    }\n",
              "\n",
              "    .dataframe tbody tr th {\n",
              "        vertical-align: top;\n",
              "    }\n",
              "\n",
              "    .dataframe thead th {\n",
              "        text-align: right;\n",
              "    }\n",
              "</style>\n",
              "<table border=\"1\" class=\"dataframe\">\n",
              "  <thead>\n",
              "    <tr style=\"text-align: right;\">\n",
              "      <th></th>\n",
              "      <th>Counts</th>\n",
              "      <th>Crime_type</th>\n",
              "      <th>LSOA_code</th>\n",
              "      <th>Mon</th>\n",
              "      <th>Week</th>\n",
              "      <th>Year</th>\n",
              "    </tr>\n",
              "  </thead>\n",
              "  <tbody>\n",
              "    <tr>\n",
              "      <th>0</th>\n",
              "      <td>1</td>\n",
              "      <td>Anti-social behaviour</td>\n",
              "      <td>17</td>\n",
              "      <td>E01010568</td>\n",
              "      <td>1</td>\n",
              "      <td>2017</td>\n",
              "    </tr>\n",
              "    <tr>\n",
              "      <th>1</th>\n",
              "      <td>1</td>\n",
              "      <td>Anti-social behaviour</td>\n",
              "      <td>8</td>\n",
              "      <td>E01010569</td>\n",
              "      <td>1</td>\n",
              "      <td>2017</td>\n",
              "    </tr>\n",
              "    <tr>\n",
              "      <th>2</th>\n",
              "      <td>1</td>\n",
              "      <td>Anti-social behaviour</td>\n",
              "      <td>18</td>\n",
              "      <td>E01010569</td>\n",
              "      <td>1</td>\n",
              "      <td>2017</td>\n",
              "    </tr>\n",
              "    <tr>\n",
              "      <th>3</th>\n",
              "      <td>1</td>\n",
              "      <td>Anti-social behaviour</td>\n",
              "      <td>30</td>\n",
              "      <td>E01010569</td>\n",
              "      <td>1</td>\n",
              "      <td>2017</td>\n",
              "    </tr>\n",
              "    <tr>\n",
              "      <th>4</th>\n",
              "      <td>1</td>\n",
              "      <td>Anti-social behaviour</td>\n",
              "      <td>9</td>\n",
              "      <td>E01010571</td>\n",
              "      <td>1</td>\n",
              "      <td>2017</td>\n",
              "    </tr>\n",
              "  </tbody>\n",
              "</table>\n",
              "</div>"
            ],
            "text/plain": [
              "   Counts             Crime_type  Day  LSOA_code  Mon  Year\n",
              "0       1  Anti-social behaviour   17  E01010568    1  2017\n",
              "1       1  Anti-social behaviour    8  E01010569    1  2017\n",
              "2       1  Anti-social behaviour   18  E01010569    1  2017\n",
              "3       1  Anti-social behaviour   30  E01010569    1  2017\n",
              "4       1  Anti-social behaviour    9  E01010571    1  2017"
            ]
          },
          "metadata": {
            "tags": []
          },
          "execution_count": 3
        }
      ]
    },
    {
      "cell_type": "markdown",
      "metadata": {
        "id": "KDBak64uMxC1",
        "colab_type": "text"
      },
      "source": [
        "## Sampling new data\n",
        "\n",
        "Based on the loaded data we can now create an out of bag sample and use the poisson sampler to generate crime reports based on historic reports to be compared to the out of bag sample."
      ]
    },
    {
      "cell_type": "code",
      "metadata": {
        "id": "Q4b95m66HZoM",
        "colab_type": "code",
        "outputId": "781c1367-5850-405b-8a45-0913f5e35e8c",
        "colab": {
          "base_uri": "https://localhost:8080/",
          "height": 54
        }
      },
      "source": [
        "test_data = sim_week.out_of_bag_prep(sim_week.data)\n",
        "\n",
        "train_data = sim_week.oob_train_split(sim_week.data, test_data)\n"
      ],
      "execution_count": 4,
      "outputs": [
        {
          "output_type": "stream",
          "text": [
            "The passed data does not appear to have a full years (Jan-Dec) worth of data.\n",
            "Defaulting to select out-of-bag sample for most recent year.\n"
          ],
          "name": "stdout"
        }
      ]
    },
    {
      "cell_type": "code",
      "metadata": {
        "id": "TfFrb8MghxuP",
        "colab_type": "code",
        "outputId": "c927f252-564e-47c2-f4c0-2d2c1d5b9236",
        "colab": {
          "base_uri": "https://localhost:8080/",
          "height": 1000
        }
      },
      "source": [
        "%%time\n",
        "\n",
        "datat = sim_week.SimplePoission(train_data, test_data)"
      ],
      "execution_count": 5,
      "outputs": [
        {
          "output_type": "stream",
          "text": [
            "Beginning sampling.\n",
            "Month: 1 Day: 1\n",
            "Month: 1 Day: 2\n",
            "Month: 1 Day: 3\n",
            "Month: 1 Day: 4\n",
            "Month: 1 Day: 5\n",
            "Month: 1 Day: 6\n",
            "Month: 1 Day: 7\n",
            "Month: 1 Day: 8\n",
            "Month: 1 Day: 9\n",
            "Month: 1 Day: 10\n",
            "Month: 1 Day: 11\n",
            "Month: 1 Day: 12\n",
            "Month: 1 Day: 13\n",
            "Month: 1 Day: 14\n",
            "Month: 1 Day: 15\n",
            "Month: 1 Day: 16\n",
            "Month: 1 Day: 17\n",
            "Month: 1 Day: 18\n",
            "Month: 1 Day: 19\n",
            "Month: 1 Day: 20\n",
            "Month: 1 Day: 21\n",
            "Month: 1 Day: 22\n",
            "Month: 1 Day: 23\n",
            "Month: 1 Day: 24\n",
            "Month: 1 Day: 25\n",
            "Month: 1 Day: 26\n",
            "Month: 1 Day: 27\n",
            "Month: 1 Day: 28\n",
            "Month: 1 Day: 29\n",
            "Month: 1 Day: 30\n",
            "Month: 1 Day: 31\n",
            "Month: 2 Day: 1\n",
            "Month: 2 Day: 2\n",
            "Month: 2 Day: 3\n",
            "Month: 2 Day: 4\n",
            "Month: 2 Day: 5\n",
            "Month: 2 Day: 6\n",
            "Month: 2 Day: 7\n",
            "Month: 2 Day: 8\n",
            "Month: 2 Day: 9\n",
            "Month: 2 Day: 10\n",
            "Month: 2 Day: 11\n",
            "Month: 2 Day: 12\n",
            "Month: 2 Day: 13\n",
            "Month: 2 Day: 14\n",
            "Month: 2 Day: 15\n",
            "Month: 2 Day: 16\n",
            "Month: 2 Day: 17\n",
            "Month: 2 Day: 18\n",
            "Month: 2 Day: 19\n",
            "Month: 2 Day: 20\n",
            "Month: 2 Day: 21\n",
            "Month: 2 Day: 22\n",
            "Month: 2 Day: 23\n",
            "Month: 2 Day: 24\n",
            "Month: 2 Day: 25\n",
            "Month: 2 Day: 26\n",
            "Month: 2 Day: 27\n",
            "Month: 2 Day: 28\n",
            "Month: 3 Day: 1\n",
            "Month: 3 Day: 2\n",
            "Month: 3 Day: 3\n",
            "Month: 3 Day: 4\n",
            "Month: 3 Day: 5\n",
            "Month: 3 Day: 6\n",
            "Month: 3 Day: 7\n",
            "Month: 3 Day: 8\n",
            "Month: 3 Day: 9\n",
            "Month: 3 Day: 10\n",
            "Month: 3 Day: 11\n",
            "Month: 3 Day: 12\n",
            "Month: 3 Day: 13\n",
            "Month: 3 Day: 14\n",
            "Month: 3 Day: 15\n",
            "Month: 3 Day: 16\n",
            "Month: 3 Day: 17\n",
            "Month: 3 Day: 18\n",
            "Month: 3 Day: 19\n",
            "Month: 3 Day: 20\n",
            "Month: 3 Day: 21\n",
            "Month: 3 Day: 22\n",
            "Month: 3 Day: 23\n",
            "Month: 3 Day: 24\n",
            "Month: 3 Day: 25\n",
            "Month: 3 Day: 26\n",
            "Month: 3 Day: 27\n",
            "Month: 3 Day: 28\n",
            "Month: 3 Day: 29\n",
            "Month: 3 Day: 30\n",
            "Month: 3 Day: 31\n",
            "Month: 4 Day: 1\n",
            "Month: 4 Day: 2\n",
            "Month: 4 Day: 3\n",
            "Month: 4 Day: 4\n",
            "Month: 4 Day: 5\n",
            "Month: 4 Day: 6\n",
            "Month: 4 Day: 7\n",
            "Month: 4 Day: 8\n",
            "Month: 4 Day: 9\n",
            "Month: 4 Day: 10\n",
            "Month: 4 Day: 11\n",
            "Month: 4 Day: 12\n",
            "Month: 4 Day: 13\n",
            "Month: 4 Day: 14\n",
            "Month: 4 Day: 15\n",
            "Month: 4 Day: 16\n",
            "Month: 4 Day: 17\n",
            "Month: 4 Day: 18\n",
            "Month: 4 Day: 19\n",
            "Month: 4 Day: 20\n",
            "Month: 4 Day: 21\n",
            "Month: 4 Day: 22\n",
            "Month: 4 Day: 23\n",
            "Month: 4 Day: 24\n",
            "Month: 4 Day: 25\n",
            "Month: 4 Day: 26\n",
            "Month: 4 Day: 27\n",
            "Month: 4 Day: 28\n",
            "Month: 4 Day: 29\n",
            "Month: 4 Day: 30\n",
            "Month: 5 Day: 1\n",
            "Month: 5 Day: 2\n",
            "Month: 5 Day: 3\n",
            "Month: 5 Day: 4\n",
            "Month: 5 Day: 5\n",
            "Month: 5 Day: 6\n",
            "Month: 5 Day: 7\n",
            "Month: 5 Day: 8\n",
            "Month: 5 Day: 9\n",
            "Month: 5 Day: 10\n",
            "Month: 5 Day: 11\n",
            "Month: 5 Day: 12\n",
            "Month: 5 Day: 13\n",
            "Month: 5 Day: 14\n",
            "Month: 5 Day: 15\n",
            "Month: 5 Day: 16\n",
            "Month: 5 Day: 17\n",
            "Month: 5 Day: 18\n",
            "Month: 5 Day: 19\n",
            "Month: 5 Day: 20\n",
            "Month: 5 Day: 21\n",
            "Month: 5 Day: 22\n",
            "Month: 5 Day: 23\n",
            "Month: 5 Day: 24\n",
            "Month: 5 Day: 25\n",
            "Month: 5 Day: 26\n",
            "Month: 5 Day: 27\n",
            "Month: 5 Day: 28\n",
            "Month: 5 Day: 29\n",
            "Month: 5 Day: 30\n",
            "Month: 5 Day: 31\n",
            "Month: 6 Day: 1\n",
            "Month: 6 Day: 2\n",
            "Month: 6 Day: 3\n",
            "Month: 6 Day: 4\n",
            "Month: 6 Day: 5\n",
            "Month: 6 Day: 6\n",
            "Month: 6 Day: 7\n",
            "Month: 6 Day: 8\n",
            "Month: 6 Day: 9\n",
            "Month: 6 Day: 10\n",
            "Month: 6 Day: 11\n",
            "Month: 6 Day: 12\n",
            "Month: 6 Day: 13\n",
            "Month: 6 Day: 14\n",
            "Month: 6 Day: 15\n",
            "Month: 6 Day: 16\n",
            "Month: 6 Day: 17\n",
            "Month: 6 Day: 18\n",
            "Month: 6 Day: 19\n",
            "Month: 6 Day: 20\n",
            "Month: 6 Day: 21\n",
            "Month: 6 Day: 22\n",
            "Month: 6 Day: 23\n",
            "Month: 6 Day: 24\n",
            "Month: 6 Day: 25\n",
            "Month: 6 Day: 26\n",
            "Month: 6 Day: 27\n",
            "Month: 6 Day: 28\n",
            "Month: 6 Day: 29\n",
            "Month: 6 Day: 30\n",
            "CPU times: user 1h 35min 5s, sys: 37.6 s, total: 1h 35min 42s\n",
            "Wall time: 1h 34min 46s\n"

          ],
          "name": "stdout"
        }
      ]
    },
    {
      "cell_type": "markdown",
      "metadata": {
        "id": "fA-kCqogMkZO",
        "colab_type": "text"
      },
      "source": [
        "## Model comparison\n",
        "\n",
        "We can compare our model to the hold out test set using the error_Reporting function."
      ]
    },
    {
      "cell_type": "code",
      "metadata": {
        "id": "tWtX8gWA_LAZ",
        "colab_type": "code",
        "outputId": "72f420f1-3ce7-421a-be9d-25355fadca7b",
        "colab": {
          "base_uri": "https://localhost:8080/",
          "height": 429
        }
      },
      "source": [
        "diff_table = sim_week.error_Reporting(test_data=test_data, simulated_data=datat)"
      ],
      "execution_count": 6,
      "outputs": [
        {
          "output_type": "stream",
          "text": [
            "Root mean squared error of poisson sampler:  4.0\n",
            "Mean absolute error:  2.9\n",
            "Median absolute error:  2.0\n",
            "-----------\n",
            "Total simulated crime events:  45825\n",
            "Total crime events in holdout data:  161391\n",
            "Undersampling by:  70.0 %\n",
            "-------\n"
          ],
          "name": "stdout"
        },
        {
          "output_type": "display_data",
          "data": {
            "image/png": "[encoded data removed]",
            "text/plain": [
              "161391"
            ]
          },
          "metadata": {
            "tags": []
          },
          "execution_count": 8
        }
      ]
    },
    {
      "cell_type": "code",
      "metadata": {
        "id": "_wFWjYm__hKW",
        "colab_type": "code",
        "outputId": "63e5ef9b-27a8-4875-d7c1-08586d275b0f",
        "colab": {
          "base_uri": "https://localhost:8080/",
          "height": 237
        },
        "outputId": "2429edce-507a-4e39-9cac-dfb1923ca3d7"
      },
      "source": [
        "diff_table.head()"
      ],
      "execution_count": 9,
      "outputs": [
        {
          "output_type": "execute_result",
          "data": {
            "text/html": [
              "<div>\n",
              "<style scoped>\n",
              "    .dataframe tbody tr th:only-of-type {\n",
              "        vertical-align: middle;\n",
              "    }\n",
              "\n",
              "    .dataframe tbody tr th {\n",
              "        vertical-align: top;\n",
              "    }\n",
              "\n",
              "    .dataframe thead th {\n",
              "        text-align: right;\n",
              "    }\n",
              "</style>\n",
              "<table border=\"1\" class=\"dataframe\">\n",
              "  <thead>\n",
              "    <tr style=\"text-align: right;\">\n",
              "      <th></th>\n",
              "      <th>Week</th>\n",
              "      <th>Pred_counts</th>\n",
              "      <th>Actual</th>\n",
              "      <th>Difference</th>\n",
              "    </tr>\n",
              "    <tr>\n",
              "      <th>LSOA_code</th>\n",
              "      <th></th>\n",
              "      <th></th>\n",
              "      <th></th>\n",
              "      <th></th>\n",
              "    </tr>\n",
              "  </thead>\n",
              "  <tbody>\n",
              "    <tr>\n",
              "      <th>E01010568</th>\n",
              "      <td>1</td>\n",
              "      <td>1</td>\n",
              "      <td>2</td>\n",
              "      <td>1</td>\n",
              "    </tr>\n",
              "    <tr>\n",
              "      <th>E01010569</th>\n",
              "      <td>1</td>\n",
              "      <td>0</td>\n",
              "      <td>4</td>\n",
              "      <td>4</td>\n",
              "    </tr>\n",
              "    <tr>\n",
              "      <th>E01010570</th>\n",
              "      <td>1</td>\n",
              "      <td>0</td>\n",
              "      <td>1</td>\n",
              "      <td>1</td>\n",
              "    </tr>\n",
              "    <tr>\n",
              "      <th>E01010571</th>\n",
              "      <td>1</td>\n",
              "      <td>0</td>\n",
              "      <td>5</td>\n",
              "      <td>5</td>\n",
              "    </tr>\n",
              "    <tr>\n",
              "      <th>E01010572</th>\n",
              "      <td>1</td>\n",
              "      <td>0</td>\n",
              "      <td>3</td>\n",
              "      <td>3</td>\n",
              "    </tr>\n",
              "  </tbody>\n",
              "</table>\n",
              "</div>"
            ],
            "text/plain": [
              "           Day  Pred_counts  Actual  Difference\n",
              "LSOA_code                                      \n",
              "E01010568    1            1       2           1\n",
              "E01010569    1            0       4           4\n",
              "E01010570    1            0       1           1\n",
              "E01010571    1            0       5           5\n",
              "E01010572    1            0       3           3"
            ]
          },
          "metadata": {
            "tags": []
          },
          "execution_count": 9
        }
      ]
    },
    {
      "cell_type": "markdown",
      "metadata": {
        "id": "kQ_eSFdkL-XM",
        "colab_type": "text"
      },
      "source": [
        "## Using utils to get counts to reports\n",
        "\n",
        "You can use utility functions within the toolkit to convert generated count data back into individual reports. And using the populate_offence function include a more specific crime description (randomly allocated from regional data)."
      ]
    },
    {
      "cell_type": "code",
      "metadata": {
        "id": "9oXeekh0_rez",
        "ype": "code",
        "colab": {
          "base_uri": "https://localhost:8080/",
          "height": 54
        },
        "outputId": "f0013e0b-751a-45da-a8d7-d30c220b59c5"
      },
      "source": [
        "from crime_sim_toolkit import utils"
      ],
      "execution_count": 11,
      "outputs": [
        {
          "output_type": "stream",
          "text": [
            "CPU times: user 1min 47s, sys: 161 ms, total: 1min 47s\n",
            "Wall time: 1min 48s\n"
          ],
          "name": "stdout"
        }
      ]
    },
    {
      "cell_type": "code",
      "metadata": {
        "id": "EzBMRSl6_YdF",
        "colab_type": "code",
        "outputId": "29e1a5ac-16de-4adf-9f10-d7f55f92e552",
        "colab": {
          "base_uri": "https://localhost:8080/",
          "height": 54
        }
      },
      "source": [
        "%%time\n",
        "# generate additional crime descriptions\n",
        "\n",
        "synth_counts = utils.counts_to_reports(datat)"
      ],
      "execution_count": 11,
      "outputs": [
        {
          "output_type": "stream",
          "text": [
            "CPU times: user 25.4 s, sys: 10.7 ms, total: 25.4 s\n",
            "Wall time: 25.4 s\n"
          ],
          "name": "stdout"
        }
      ]
    },
    {
      "cell_type": "code",
      "metadata": {
        "id": "U4BH3w7g_1GR",
        "colab_type": "code",
        "outputId": "b7b70204-9ba4-4ecc-ee40-b0b1083a00ed",
        "colab": {
          "base_uri": "https://localhost:8080/",
          "height": 54
        }
      },
      "source": [
        "%%time\n",
        "# generate additional crime descriptions\n",
        "\n",
        "synth_counts_des = utils.populate_offence(synth_counts)"
      ],
      "execution_count": 12,
      "outputs": [
        {
          "output_type": "stream",
          "text": [
            "CPU times: user 2min 42s, sys: 172 ms, total: 2min 42s\n",
            "Wall time: 2min 42s\n"
          ],
          "name": "stdout"
        }
      ]
    },
    {
      "cell_type": "code",
      "metadata": {
        "id": "dH8VTkNu_obm",
        "colab_type": "code",
        "outputId": "3960b5e3-b5e3-4eed-9251-cbc9deb87ed5",
        "colab": {
          "base_uri": "https://localhost:8080/",
          "height": 206
        }
      },
      "source": [
        "synth_counts_des.head()"
      ],
      "execution_count": 13,
      "outputs": [
        {
          "output_type": "execute_result",
          "data": {
            "text/html": [
              "<div>\n",
              "<style scoped>\n",
              "    .dataframe tbody tr th:only-of-type {\n",
              "        vertical-align: middle;\n",
              "    }\n",
              "\n",
              "    .dataframe tbody tr th {\n",
              "        vertical-align: top;\n",
              "    }\n",
              "\n",
              "    .dataframe thead th {\n",
              "        text-align: right;\n",
              "    }\n",
              "</style>\n",
              "<table border=\"1\" class=\"dataframe\">\n",
              "  <thead>\n",
              "    <tr style=\"text-align: right;\">\n",
              "      <th></th>\n",
              "      <th>UID</th>\n",
              "      <th>Year</th>\n",
              "      <th>Mon</th>\n",
              "      <th>Day</th>\n",
              "      <th>Crime_description</th>\n",
              "      <th>Crime_type</th>\n",
              "      <th>LSOA_code</th>\n",
              "      <th>Police_force</th>\n",

              "    </tr>\n",
              "  </thead>\n",
              "  <tbody>\n",
              "    <tr>\n",
              "      <th>0</th>\n",
              "      <td>E010111A0</td>\n",
              "      <td>2019</td>\n",
              "      <td>1</td>\n",
              "      <td>1</td>\n",
              "      <td>Anti-social behaviour</td>\n",
              "      <td>Anti-social behaviour</td>\n",
              "      <td>E01010650</td>\n",
              "      <td>West Yorkshire</td>\n",
              "    </tr>\n",
              "    <tr>\n",
              "      <th>1</th>\n",
              "      <td>E010111A0</td>\n",
              "      <td>2019</td>\n",
              "      <td>1</td>\n",
              "      <td>1</td>\n",
              "      <td>Anti-social behaviour</td>\n",
              "      <td>Anti-social behaviour</td>\n",
              "      <td>E01010654</td>\n",
              "      <td>West Yorkshire</td>\n",
              "    </tr>\n",
              "    <tr>\n",
              "      <th>2</th>\n",
              "      <td>E010111A0</td>\n",
              "      <td>2019</td>\n",
              "      <td>1</td>\n",
              "      <td>1</td>\n",
              "      <td>Anti-social behaviour</td>\n",
              "      <td>Anti-social behaviour</td>\n",
              "      <td>E01010718</td>\n",
              "      <td>West Yorkshire</td>\n",
              "    </tr>\n",
              "    <tr>\n",
              "      <th>3</th>\n",
              "      <td>E010111A1</td>\n",
              "      <td>2019</td>\n",
              "      <td>1</td>\n",
              "      <td>1</td>\n",
              "      <td>Anti-social behaviour</td>\n",
              "      <td>Anti-social behaviour</td>\n",
              "      <td>E01010718</td>\n",
              "      <td>West Yorkshire</td>\n",
              "    </tr>\n",
              "    <tr>\n",
              "      <th>4</th>\n",
              "      <td>E010111A2</td>\n",
              "      <td>2019</td>\n",
              "      <td>1</td>\n",
              "      <td>1</td>\n",
              "      <td>Anti-social behaviour</td>\n",
              "      <td>Anti-social behaviour</td>\n",
              "      <td>E01010718</td>\n",
              "      <td>West Yorkshire</td>\n",
              "    </tr>\n",
              "  </tbody>\n",
              "</table>\n",
              "</div>"
            ],
            "text/plain": [
              "         UID  Year Mon  ...             Crime_type  LSOA_code    Police_force\n",
              "0  E010111A0  2019   1  ...  Anti-social behaviour  E01010650  West Yorkshire\n",
              "1  E010111A0  2019   1  ...  Anti-social behaviour  E01010654  West Yorkshire\n",
              "2  E010111A0  2019   1  ...  Anti-social behaviour  E01010718  West Yorkshire\n",
              "3  E010111A1  2019   1  ...  Anti-social behaviour  E01010718  West Yorkshire\n",
              "4  E010111A2  2019   1  ...  Anti-social behaviour  E01010718  West Yorkshire\n",
              "\n",
              "[5 rows x 8 columns]"
            ]
          },
          "metadata": {
            "tags": []
          },
          "execution_count": 13
        }
      ]
    },
    {
      "cell_type": "markdown",
      "metadata": {
        "id": "UX8CL9-RK5kv",
        "colab_type": "text"
      },
      "source": [
        "## Adding in random hours\n",
        "\n",
        "The agent based models implements hours for shift allocation. We'll perform a simple frame apply function to add hour."
      ]
    },
    {
      "cell_type": "code",
      "metadata": {
        "id": "RUZdeNEwK4_O",
        "colab_type": "code",
        "colab": {}
      },
      "source": [
        "import numpy as np\n",
        "\n",
        "synth_counts_des['Hour'] = np.random.randint(0,24, synth_counts_des.shape[0])\n",
        "\n",
        "# reorder columns\n",
        "synth_counts_des = synth_counts_des[['UID','Year','Mon','Day','Hour','Crime_description','Crime_type','LSOA_code','Police_force']]"
      ],
      "execution_count": 0,
      "outputs": []
    },
    {
      "cell_type": "code",
      "metadata": {
        "id": "nMkAFZ2OMx7g",
        "colab_type": "code",
        "colab": {
          "base_uri": "https://localhost:8080/",
          "height": 206
        },
        "outputId": "f4256ee8-a4ce-4543-ef9d-a15705e63eff"
      },
      "source": [
        "synth_counts_des.head()"
      ],
      "execution_count": 27,
      "outputs": [
        {
          "output_type": "execute_result",
          "data": {
            "text/html": [
              "<div>\n",
              "<style scoped>\n",
              "    .dataframe tbody tr th:only-of-type {\n",
              "        vertical-align: middle;\n",
              "    }\n",
              "\n",
              "    .dataframe tbody tr th {\n",
              "        vertical-align: top;\n",
              "    }\n",
              "\n",
              "    .dataframe thead th {\n",
              "        text-align: right;\n",
              "    }\n",
              "</style>\n",
              "<table border=\"1\" class=\"dataframe\">\n",
              "  <thead>\n",
              "    <tr style=\"text-align: right;\">\n",
              "      <th></th>\n",
              "      <th>UID</th>\n",
              "      <th>Year</th>\n",
              "      <th>Mon</th>\n",
              "      <th>Day</th>\n",
              "      <th>Hour</th>\n",
              "      <th>Crime_description</th>\n",
              "      <th>Crime_type</th>\n",
              "      <th>LSOA_code</th>\n",
              "      <th>Police_force</th>\n",
              "    </tr>\n",
              "  </thead>\n",
              "  <tbody>\n",
              "    <tr>\n",
              "      <th>0</th>\n",
              "      <td>E010111A0</td>\n",
              "      <td>2019</td>\n",
              "      <td>1</td>\n",
              "      <td>1</td>\n",
              "      <td>22</td>\n",
              "      <td>Anti-social behaviour</td>\n",
              "      <td>Anti-social behaviour</td>\n",
              "      <td>E01010650</td>\n",
              "      <td>West Yorkshire</td>\n",
              "    </tr>\n",
              "    <tr>\n",
              "      <th>1</th>\n",
              "      <td>E010111A0</td>\n",
              "      <td>2019</td>\n",
              "      <td>1</td>\n",
              "      <td>1</td>\n",
              "      <td>4</td>\n",
              "      <td>Anti-social behaviour</td>\n",
              "      <td>Anti-social behaviour</td>\n",
              "      <td>E01010654</td>\n",
              "      <td>West Yorkshire</td>\n",
              "    </tr>\n",
              "    <tr>\n",
              "      <th>2</th>\n",
              "      <td>E010111A0</td>\n",
              "      <td>2019</td>\n",
              "      <td>1</td>\n",
              "      <td>1</td>\n",
              "      <td>9</td>\n",
              "      <td>Anti-social behaviour</td>\n",
              "      <td>Anti-social behaviour</td>\n",
              "      <td>E01010718</td>\n",
              "      <td>West Yorkshire</td>\n",
              "    </tr>\n",
              "    <tr>\n",
              "      <th>3</th>\n",
              "      <td>E010111A1</td>\n",
              "      <td>2019</td>\n",
              "      <td>1</td>\n",
              "      <td>1</td>\n",
              "      <td>0</td>\n",
              "      <td>Anti-social behaviour</td>\n",
              "      <td>Anti-social behaviour</td>\n",
              "      <td>E01010718</td>\n",
              "      <td>West Yorkshire</td>\n",
              "    </tr>\n",
              "    <tr>\n",
              "      <th>4</th>\n",
              "      <td>E010111A2</td>\n",
              "      <td>2019</td>\n",
              "      <td>1</td>\n",
              "      <td>1</td>\n",
              "      <td>20</td>\n",
              "      <td>Anti-social behaviour</td>\n",
              "      <td>Anti-social behaviour</td>\n",
              "      <td>E01010718</td>\n",
              "      <td>West Yorkshire</td>\n",

              "    </tr>\n",
              "  </tbody>\n",
              "</table>\n",
              "</div>"
            ],
            "text/plain": [
              "         UID  Year Mon  ...             Crime_type  LSOA_code    Police_force\n",
              "0  E010111A0  2019   1  ...  Anti-social behaviour  E01010650  West Yorkshire\n",
              "1  E010111A0  2019   1  ...  Anti-social behaviour  E01010654  West Yorkshire\n",
              "2  E010111A0  2019   1  ...  Anti-social behaviour  E01010718  West Yorkshire\n",
              "3  E010111A1  2019   1  ...  Anti-social behaviour  E01010718  West Yorkshire\n",
              "4  E010111A2  2019   1  ...  Anti-social behaviour  E01010718  West Yorkshire\n",
              "\n",
              "[5 rows x 9 columns]"
            ]
          },
          "metadata": {
            "tags": []
          },
          "execution_count": 27
        }
      ]
    },
    {
      "cell_type": "markdown",
      "metadata": {
        "id": "MfNVpgUKMbv4",
        "colab_type": "text"
      },
      "source": [
        "## Outputting from Colabs\n",
        "\n",
        "Data produced can now be exported as a .csv for use in the agent-based model."
      ]
    },
    {
      "cell_type": "code",
      "metadata": {
        "id": "5vsuEZ0M_45L",
        "colab_type": "code",
        "colab": {}
      },
      "source": [
        "synth_counts_des.to_csv('synthetic_day_reports.csv')"
      ],
      "execution_count": 0,
      "outputs": []
    },
    {
      "cell_type": "code",
      "metadata": {
        "id": "qZoC_LCBL7Gn",
        "colab_type": "code",
        "colab": {}
      },
      "source": [
        "from google.colab import files\n",
        "\n",
        "files.download('synthetic_day_reports.csv')"
      ],
      "execution_count": 0,
      "outputs": []
    },
    {
      "cell_type": "code",
      "metadata": {
        "id": "h_Riqh7sOxOy",
        "colab_type": "code",
        "colab": {}
      },
      "source": [
        ""
      ],
      "execution_count": 0,
      "outputs": []
    }
  ]
}
