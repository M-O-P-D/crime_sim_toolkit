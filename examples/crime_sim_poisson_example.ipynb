{
  "nbformat": 4,
  "nbformat_minor": 0,
  "metadata": {
    "colab": {
      "name": "crime_sim_poisson_example.ipynb",
      "version": "0.3.2",
      "provenance": [],
      "collapsed_sections": [],
      "include_colab_link": true
    },
    "kernelspec": {
      "name": "python3",
      "display_name": "Python 3"
    }
  },
  "cells": [
    {
      "cell_type": "markdown",
      "metadata": {
        "id": "view-in-github",
        "colab_type": "text"
      },
      "source": [
        "<a href=\"https://colab.research.google.com/github/Sparrow0hawk/crime_sim_toolkit/blob/master/examples/crime_sim_poisson_example.ipynb\" target=\"_parent\"><img src=\"https://colab.research.google.com/assets/colab-badge.svg\" alt=\"Open In Colab\"/></a>"
      ]
    },
    {
      "cell_type": "markdown",
      "metadata": {
        "id": "XgFA3CtTbiwQ",
        "colab_type": "text"
      },
      "source": [
        "# Example notebook for using the crime_sim_toolkit\n",
        "\n",
        "Follow these steps to load your own data into the crime_sim_toolkit for generating new crime data using the Poisson Sampler function.\n",
        "\n",
        "## Notes on running\n",
        "For this to run successfully follow these steps:\n",
        "\n",
        "\n",
        "1.   Git clone the repo into the root dir\n",
        "2.   Run pip install within the downloaded repo\n",
        "3.   Reset the local runtime to allow for pip packages installed to work\n",
        "4.   Then run python setup.py install on downloaded repo\n",
        "\n",
        "The package should now be useable within the notebook.\n",
        "\n"
      ]
    },
    {
      "cell_type": "code",
      "metadata": {
        "id": "Aha_nz-SRX56",
        "colab_type": "code",
        "outputId": "8c7c6da6-9ff2-4f11-c532-f82674fc9c6d",
        "colab": {
          "base_uri": "https://localhost:8080/",
          "height": 167
        }
      },
      "source": [
        "%cd ~/\n",
        "\n",
        "! git clone https://github.com/Sparrow0hawk/crime_sim_toolkit.git"
      ],
      "execution_count": 1,
      "outputs": [
        {
          "output_type": "stream",
          "text": [
            "/root\n",
            "Cloning into 'crime_sim_toolkit'...\n",
            "remote: Enumerating objects: 189, done.\u001b[K\n",
            "remote: Counting objects: 100% (189/189), done.\u001b[K\n",
            "remote: Compressing objects: 100% (127/127), done.\u001b[K\n",
            "remote: Total 514 (delta 99), reused 138 (delta 61), pack-reused 325\u001b[K\n",
            "Receiving objects: 100% (514/514), 57.03 MiB | 25.81 MiB/s, done.\n",
            "Resolving deltas: 100% (282/282), done.\n"
          ],
          "name": "stdout"
        }
      ]
    },
    {
      "cell_type": "code",
      "metadata": {
        "id": "J6ezywTXRnbX",
        "colab_type": "code",
        "outputId": "d59acef7-67e8-4789-ed28-8b9db639f2bc",
        "colab": {
          "base_uri": "https://localhost:8080/",
          "height": 354
        }
      },
      "source": [
        "%cd ~/crime_sim_toolkit\n",
        "\n",
        "!pip install -q -r requirements.txt"
      ],
      "execution_count": 2,
      "outputs": [
        {
          "output_type": "stream",
          "text": [
            "/root/crime_sim_toolkit\n",
            "\u001b[K     |████████████████████████████████| 215kB 7.3MB/s \n",
            "\u001b[K     |████████████████████████████████| 92kB 19.2MB/s \n",
            "\u001b[K     |████████████████████████████████| 13.1MB 48.2MB/s \n",
            "\u001b[K     |████████████████████████████████| 20.4MB 11.0MB/s \n",
            "\u001b[K     |████████████████████████████████| 10.5MB 39.4MB/s \n",
            "\u001b[K     |████████████████████████████████| 235kB 43.5MB/s \n",
            "\u001b[K     |████████████████████████████████| 512kB 47.7MB/s \n",
            "\u001b[K     |████████████████████████████████| 61kB 21.3MB/s \n",
            "\u001b[K     |████████████████████████████████| 25.2MB 65.2MB/s \n",
            "\u001b[K     |████████████████████████████████| 153kB 40.8MB/s \n",
            "\u001b[31mERROR: kaggle 1.5.5 has requirement urllib3<1.25,>=1.21.1, but you'll have urllib3 1.25.3 which is incompatible.\u001b[0m\n",
            "\u001b[31mERROR: google-colab 1.0.0 has requirement pandas~=0.24.0, but you'll have pandas 0.25.0 which is incompatible.\u001b[0m\n",
            "\u001b[31mERROR: google-colab 1.0.0 has requirement requests~=2.21.0, but you'll have requests 2.22.0 which is incompatible.\u001b[0m\n",
            "\u001b[31mERROR: datascience 0.10.6 has requirement coverage==3.7.1, but you'll have coverage 4.5.4 which is incompatible.\u001b[0m\n",
            "\u001b[31mERROR: datascience 0.10.6 has requirement folium==0.2.1, but you'll have folium 0.10.0 which is incompatible.\u001b[0m\n",
            "\u001b[31mERROR: coveralls 0.5 has requirement coverage<3.999,>=3.6, but you'll have coverage 4.5.4 which is incompatible.\u001b[0m\n",
            "\u001b[31mERROR: albumentations 0.1.12 has requirement imgaug<0.2.7,>=0.2.5, but you'll have imgaug 0.2.9 which is incompatible.\u001b[0m\n",
            "\u001b[?25h"
          ],
          "name": "stdout"
        }
      ]
    },
    {
      "cell_type": "markdown",
      "metadata": {
        "id": "3Nf4DMs2YRkE",
        "colab_type": "text"
      },
      "source": [
        "# RESTART RUNTIME"
      ]
    },
    {
      "cell_type": "code",
      "metadata": {
        "id": "bD-ZF-Hya4Lq",
        "colab_type": "code",
        "outputId": "4fae1676-1f83-41e6-fc20-bdd0109ed61c",
        "colab": {
          "base_uri": "https://localhost:8080/",
          "height": 36
        }
      },
      "source": [
        "%cd ~/crime_sim_toolkit\n",
        "\n",
        "!python setup.py -q install"
      ],
      "execution_count": 1,
      "outputs": [
        {
          "output_type": "stream",
          "text": [
            "/root/crime_sim_toolkit\n"
          ],
          "name": "stdout"
        }
      ]
    },
    {
      "cell_type": "markdown",
      "metadata": {
        "id": "AFxm7U4JmFNy",
        "colab_type": "text"
      },
      "source": [
        "## Loading data\n",
        "\n",
        "Using data from a [custom dowload](https://data.police.uk/data/) from Police Data UK we can load that data, covert it to counts by crime_type by LSOA by psuedo Week/Day by passing the directory to the Poisson_sim function.\n",
        "\n",
        "Sample data used here is included within the [github repository](https://github.com/Sparrow0hawk/crime_sim_toolkit/tree/master/sample_data) and covers January-June from 2017-2019."
      ]
    },
    {
      "cell_type": "code",
      "metadata": {
        "id": "Ie_tNRIYSFTe",
        "colab_type": "code",
        "outputId": "182591a0-eeba-4cbf-835e-38f3839f7763",
        "colab": {
          "base_uri": "https://localhost:8080/",
          "height": 129
        }
      },
      "source": [
        "import crime_sim_toolkit.poisson_sim as Poisson_sim\n",
        "\n",
        "\n",
        "sim_week = Poisson_sim.Poisson_sim(\n",
        "                               # because of the data passed these are the LA we want\n",
        "                               LA_names=['Kirklees','Calderdale','Leeds','Bradford','Wakefield'], \n",
        "                               directory='/root/crime_sim_toolkit/sample_data',\n",
        "                               # this can either be Day or Week\n",
        "                               timeframe='Week')"
      ],
      "execution_count": 2,
      "outputs": [
        {
          "output_type": "stream",
          "text": [
            "Fetching count data from police reports.\n",
            "Sit back and have a brew, this may take sometime.\n",
            " \n",
            "Number of data files found:  18\n",
            "Psuedo days allocated to all reports.\n",
            "Week numbers allocated.\n"
          ],
          "name": "stdout"
        }
      ]
    },
    {
      "cell_type": "code",
      "metadata": {
        "id": "19KyR5ZObINn",
        "colab_type": "code",
        "outputId": "a2050b41-3e66-46b5-d770-9004b98bf770",
        "colab": {
          "base_uri": "https://localhost:8080/",
          "height": 206
        }
      },
      "source": [
        "sim_week.data.head()"
      ],
      "execution_count": 3,
      "outputs": [
        {
          "output_type": "execute_result",
          "data": {
            "text/html": [
              "<div>\n",
              "<style scoped>\n",
              "    .dataframe tbody tr th:only-of-type {\n",
              "        vertical-align: middle;\n",
              "    }\n",
              "\n",
              "    .dataframe tbody tr th {\n",
              "        vertical-align: top;\n",
              "    }\n",
              "\n",
              "    .dataframe thead th {\n",
              "        text-align: right;\n",
              "    }\n",
              "</style>\n",
              "<table border=\"1\" class=\"dataframe\">\n",
              "  <thead>\n",
              "    <tr style=\"text-align: right;\">\n",
              "      <th></th>\n",
              "      <th>Counts</th>\n",
              "      <th>Crime_type</th>\n",
              "      <th>LSOA_code</th>\n",
              "      <th>Mon</th>\n",
              "      <th>Week</th>\n",
              "      <th>Year</th>\n",
              "    </tr>\n",
              "  </thead>\n",
              "  <tbody>\n",
              "    <tr>\n",
              "      <th>0</th>\n",
              "      <td>1</td>\n",
              "      <td>Anti-social behaviour</td>\n",
              "      <td>E01010568</td>\n",
              "      <td>1</td>\n",
              "      <td>1</td>\n",
              "      <td>2017</td>\n",
              "    </tr>\n",
              "    <tr>\n",
              "      <th>1</th>\n",
              "      <td>2</td>\n",
              "      <td>Anti-social behaviour</td>\n",
              "      <td>E01010569</td>\n",
              "      <td>1</td>\n",
              "      <td>4</td>\n",
              "      <td>2017</td>\n",
              "    </tr>\n",
              "    <tr>\n",
              "      <th>2</th>\n",
              "      <td>1</td>\n",
              "      <td>Anti-social behaviour</td>\n",
              "      <td>E01010569</td>\n",
              "      <td>1</td>\n",
              "      <td>2</td>\n",
              "      <td>2017</td>\n",
              "    </tr>\n",
              "    <tr>\n",
              "      <th>3</th>\n",
              "      <td>2</td>\n",
              "      <td>Anti-social behaviour</td>\n",
              "      <td>E01010571</td>\n",
              "      <td>1</td>\n",
              "      <td>4</td>\n",
              "      <td>2017</td>\n",
              "    </tr>\n",
              "    <tr>\n",
              "      <th>4</th>\n",
              "      <td>1</td>\n",
              "      <td>Anti-social behaviour</td>\n",
              "      <td>E01010572</td>\n",
              "      <td>1</td>\n",
              "      <td>2</td>\n",
              "      <td>2017</td>\n",
              "    </tr>\n",
              "  </tbody>\n",
              "</table>\n",
              "</div>"
            ],
            "text/plain": [
              "   Counts             Crime_type  LSOA_code  Mon  Week  Year\n",
              "0       1  Anti-social behaviour  E01010568    1     1  2017\n",
              "1       2  Anti-social behaviour  E01010569    1     4  2017\n",
              "2       1  Anti-social behaviour  E01010569    1     2  2017\n",
              "3       2  Anti-social behaviour  E01010571    1     4  2017\n",
              "4       1  Anti-social behaviour  E01010572    1     2  2017"
            ]
          },
          "metadata": {
            "tags": []
          },
          "execution_count": 3
        }
      ]
    },
    {
      "cell_type": "markdown",
      "metadata": {
        "id": "KDBak64uMxC1",
        "colab_type": "text"
      },
      "source": [
        "## Sampling new data\n",
        "\n",
        "Based on the loaded data we can now create an out of bag sample and use the poisson sampler to generate crime reports based on historic reports to be compared to the out of bag sample."
      ]
    },
    {
      "cell_type": "code",
      "metadata": {
        "id": "Q4b95m66HZoM",
        "colab_type": "code",
        "outputId": "781c1367-5850-405b-8a45-0913f5e35e8c",
        "colab": {
          "base_uri": "https://localhost:8080/",
          "height": 54
        }
      },
      "source": [
        "test_data = sim_week.out_of_bag_prep(sim_week.data)\n",
        "\n",
        "train_data = sim_week.oob_train_split(sim_week.data, test_data)\n"
      ],
      "execution_count": 4,
      "outputs": [
        {
          "output_type": "stream",
          "text": [
            "The passed data does not appear to have a full years (Jan-Dec) worth of data.\n",
            "Defaulting to select out-of-bag sample for most recent year.\n"
          ],
          "name": "stdout"
        }
      ]
    },
    {
      "cell_type": "code",
      "metadata": {
        "id": "TfFrb8MghxuP",
        "colab_type": "code",
        "outputId": "9aac8f19-2b96-4612-c84b-350d6271845d",
        "colab": {
          "base_uri": "https://localhost:8080/",
          "height": 635
        }
      },
      "source": [
        "%%time\n",
        "\n",
        "datat = sim_week.SimplePoission(train_data, test_data)"
      ],
      "execution_count": 5,
      "outputs": [
        {
          "output_type": "stream",
          "text": [
            "Beginning sampling.\n",
            "Month: 1 Week: 1\n",
            "Month: 1 Week: 2\n",
            "Month: 1 Week: 3\n",
            "Month: 1 Week: 4\n",
            "Month: 1 Week: 5\n",
            "Month: 2 Week: 5\n",
            "Month: 2 Week: 6\n",
            "Month: 2 Week: 7\n",
            "Month: 2 Week: 8\n",
            "Month: 2 Week: 9\n",
            "Month: 3 Week: 9\n",
            "Month: 3 Week: 10\n",
            "Month: 3 Week: 11\n",
            "Month: 3 Week: 12\n",
            "Month: 3 Week: 13\n",
            "Month: 4 Week: 14\n",
            "Month: 4 Week: 15\n",
            "Month: 4 Week: 16\n",
            "Month: 4 Week: 17\n",
            "Month: 4 Week: 18\n",
            "Month: 5 Week: 18\n",
            "Month: 5 Week: 19\n",
            "Month: 5 Week: 20\n",
            "Month: 5 Week: 21\n",
            "Month: 5 Week: 22\n",
            "Month: 6 Week: 22\n",
            "Month: 6 Week: 23\n",
            "Month: 6 Week: 24\n",
            "Month: 6 Week: 25\n",
            "Month: 6 Week: 26\n",
            "CPU times: user 19min 19s, sys: 6.35 s, total: 19min 26s\n",
            "Wall time: 19min 20s\n"
          ],
          "name": "stdout"
        }
      ]
    },
    {
      "cell_type": "markdown",
      "metadata": {
        "id": "fA-kCqogMkZO",
        "colab_type": "text"
      },
      "source": [
        "## Model comparison\n",
        "\n",
        "We can compare our model to the hold out test set using the error_Reporting function."
      ]
    },
    {
      "cell_type": "code",
      "metadata": {
        "id": "tWtX8gWA_LAZ",
        "colab_type": "code",
        "colab": {
          "base_uri": "https://localhost:8080/",
          "height": 335
        },
        "outputId": "87d60b2f-ef9c-4a2a-9ae6-3feba60b9ea6"
      },
      "source": [
        "diff_table = sim_week.error_Reporting(test_data=test_data, simulated_data=datat)"
      ],
      "execution_count": 6,
      "outputs": [
        {
          "output_type": "stream",
          "text": [
            "Root mean squared error of poisson sampler:  3.8\n",
            "Mean absolute error:  2.7\n",
            "Median absolute error:  2.0\n"
          ],
          "name": "stdout"
        },
        {
          "output_type": "display_data",
          "data": {
            "image/png": "[encoded data removed]",
            "text/plain": [
              "<Figure size 432x288 with 1 Axes>"
            ]
          },
          "metadata": {
            "tags": []
          }
        }
      ]
    },
    {
      "cell_type": "code",
      "metadata": {
        "id": "2Q8KvzZ8_Lbo",
        "colab_type": "code",
        "colab": {
          "base_uri": "https://localhost:8080/",
          "height": 36
        },
        "outputId": "7c499704-abc9-43a0-b84c-0a47a84614e8"
      },
      "source": [
        "datat.Counts.sum()"
      ],
      "execution_count": 7,
      "outputs": [
        {
          "output_type": "execute_result",
          "data": {
            "text/plain": [
              "113444"
            ]
          },
          "metadata": {
            "tags": []
          },
          "execution_count": 7
        }
      ]
    },
    {
      "cell_type": "code",
      "metadata": {
        "id": "-JxuvTjr_TxN",
        "colab_type": "code",
        "colab": {
          "base_uri": "https://localhost:8080/",
          "height": 36
        },
        "outputId": "6ded6bf8-92ad-4062-bc15-573048f6045e"
      },
      "source": [
        "test_data.Counts.sum()"
      ],
      "execution_count": 8,
      "outputs": [
        {
          "output_type": "execute_result",
          "data": {
            "text/plain": [
              "161391"
            ]
          },
          "metadata": {
            "tags": []
          },
          "execution_count": 8
        }
      ]
    },
    {
      "cell_type": "code",
      "metadata": {
        "id": "_wFWjYm__hKW",
        "colab_type": "code",
        "colab": {
          "base_uri": "https://localhost:8080/",
          "height": 237
        },
        "outputId": "2429edce-507a-4e39-9cac-dfb1923ca3d7"
      },
      "source": [
        "diff_table.head()"
      ],
      "execution_count": 9,
      "outputs": [
        {
          "output_type": "execute_result",
          "data": {
            "text/html": [
              "<div>\n",
              "<style scoped>\n",
              "    .dataframe tbody tr th:only-of-type {\n",
              "        vertical-align: middle;\n",
              "    }\n",
              "\n",
              "    .dataframe tbody tr th {\n",
              "        vertical-align: top;\n",
              "    }\n",
              "\n",
              "    .dataframe thead th {\n",
              "        text-align: right;\n",
              "    }\n",
              "</style>\n",
              "<table border=\"1\" class=\"dataframe\">\n",
              "  <thead>\n",
              "    <tr style=\"text-align: right;\">\n",
              "      <th></th>\n",
              "      <th>Week</th>\n",
              "      <th>Pred_counts</th>\n",
              "      <th>Actual</th>\n",
              "      <th>Difference</th>\n",
              "    </tr>\n",
              "    <tr>\n",
              "      <th>LSOA_code</th>\n",
              "      <th></th>\n",
              "      <th></th>\n",
              "      <th></th>\n",
              "      <th></th>\n",
              "    </tr>\n",
              "  </thead>\n",
              "  <tbody>\n",
              "    <tr>\n",
              "      <th>E01010568</th>\n",
              "      <td>1</td>\n",
              "      <td>3</td>\n",
              "      <td>1</td>\n",
              "      <td>2</td>\n",
              "    </tr>\n",
              "    <tr>\n",
              "      <th>E01010569</th>\n",
              "      <td>1</td>\n",
              "      <td>7</td>\n",
              "      <td>4</td>\n",
              "      <td>3</td>\n",
              "    </tr>\n",
              "    <tr>\n",
              "      <th>E01010570</th>\n",
              "      <td>1</td>\n",
              "      <td>0</td>\n",
              "      <td>5</td>\n",
              "      <td>5</td>\n",
              "    </tr>\n",
              "    <tr>\n",
              "      <th>E01010571</th>\n",
              "      <td>1</td>\n",
              "      <td>6</td>\n",
              "      <td>1</td>\n",
              "      <td>5</td>\n",
              "    </tr>\n",
              "    <tr>\n",
              "      <th>E01010572</th>\n",
              "      <td>1</td>\n",
              "      <td>0</td>\n",
              "      <td>2</td>\n",
              "      <td>2</td>\n",
              "    </tr>\n",
              "  </tbody>\n",
              "</table>\n",
              "</div>"
            ],
            "text/plain": [
              "           Week  Pred_counts  Actual  Difference\n",
              "LSOA_code                                       \n",
              "E01010568     1            3       1           2\n",
              "E01010569     1            7       4           3\n",
              "E01010570     1            0       5           5\n",
              "E01010571     1            6       1           5\n",
              "E01010572     1            0       2           2"
            ]
          },
          "metadata": {
            "tags": []
          },
          "execution_count": 9
        }
      ]
    },
    {
      "cell_type": "markdown",
      "metadata": {
        "id": "kQ_eSFdkL-XM",
        "colab_type": "text"
      },
      "source": [
        "## Using utils to get counts to reports\n",
        "\n",
        "You can use utility functions within the toolkit to convert generated count data back into individual reports. And using the populate_offence function include a more specific crime description (randomly allocated from regional data)."
      ]
    },
    {
      "cell_type": "code",
      "metadata": {
        "id": "9oXeekh0_rez",
        "colab_type": "code",
        "colab": {}
      },
      "source": [
        "from crime_sim_toolkit import utils"
      ],
      "execution_count": 0,
      "outputs": []
    },
    {
      "cell_type": "code",
      "metadata": {
        "id": "EzBMRSl6_YdF",
        "colab_type": "code",
        "colab": {
          "base_uri": "https://localhost:8080/",
          "height": 54
        },
        "outputId": "f0013e0b-751a-45da-a8d7-d30c220b59c5"
      },
      "source": [
        "%%time\n",
        "\n",
        "synth_counts = utils.counts_to_reports(datat)"
      ],
      "execution_count": 11,
      "outputs": [
        {
          "output_type": "stream",
          "text": [
            "CPU times: user 1min 47s, sys: 161 ms, total: 1min 47s\n",
            "Wall time: 1min 48s\n"
          ],
          "name": "stdout"
        }
      ]
    },
    {
      "cell_type": "code",
      "metadata": {
        "id": "U4BH3w7g_1GR",
        "colab_type": "code",
        "colab": {
          "base_uri": "https://localhost:8080/",
          "height": 54
        },
        "outputId": "989f0677-0520-40cb-cf6b-2dc080dce547"
      },
      "source": [
        "%%time\n",
        "# generate additional crime descriptions\n",
        "\n",
        "synth_counts_des = utils.populate_offence(synth_counts)"
      ],
      "execution_count": 12,
      "outputs": [
        {
          "output_type": "stream",
          "text": [
            "CPU times: user 9min 2s, sys: 378 ms, total: 9min 3s\n",
            "Wall time: 9min 4s\n"
          ],
          "name": "stdout"
        }
      ]
    },
    {
      "cell_type": "code",
      "metadata": {
        "id": "dH8VTkNu_obm",
        "colab_type": "code",
        "colab": {
          "base_uri": "https://localhost:8080/",
          "height": 206
        },
        "outputId": "69753a36-4c1a-4393-e51e-09d1fbdb7e2f"
      },
      "source": [
        "synth_counts_des.head()"
      ],
      "execution_count": 13,
      "outputs": [
        {
          "output_type": "execute_result",
          "data": {
            "text/html": [
              "<div>\n",
              "<style scoped>\n",
              "    .dataframe tbody tr th:only-of-type {\n",
              "        vertical-align: middle;\n",
              "    }\n",
              "\n",
              "    .dataframe tbody tr th {\n",
              "        vertical-align: top;\n",
              "    }\n",
              "\n",
              "    .dataframe thead th {\n",
              "        text-align: right;\n",
              "    }\n",
              "</style>\n",
              "<table border=\"1\" class=\"dataframe\">\n",
              "  <thead>\n",
              "    <tr style=\"text-align: right;\">\n",
              "      <th></th>\n",
              "      <th>Week</th>\n",
              "      <th>Mon</th>\n",
              "      <th>Crime_type</th>\n",
              "      <th>LSOA_code</th>\n",
              "      <th>UID</th>\n",
              "      <th>Police_force</th>\n",
              "      <th>Crime_description</th>\n",
              "    </tr>\n",
              "  </thead>\n",
              "  <tbody>\n",
              "    <tr>\n",
              "      <th>0</th>\n",
              "      <td>1</td>\n",
              "      <td>1</td>\n",
              "      <td>Anti-social behaviour</td>\n",
              "      <td>E01010568</td>\n",
              "      <td>E010111A0</td>\n",
              "      <td>West Yorkshire</td>\n",
              "      <td>Anti-social behaviour</td>\n",
              "    </tr>\n",
              "    <tr>\n",
              "      <th>1</th>\n",
              "      <td>1</td>\n",
              "      <td>1</td>\n",
              "      <td>Anti-social behaviour</td>\n",
              "      <td>E01010568</td>\n",
              "      <td>E010111A1</td>\n",
              "      <td>West Yorkshire</td>\n",
              "      <td>Anti-social behaviour</td>\n",
              "    </tr>\n",
              "    <tr>\n",
              "      <th>2</th>\n",
              "      <td>1</td>\n",
              "      <td>1</td>\n",
              "      <td>Anti-social behaviour</td>\n",
              "      <td>E01010590</td>\n",
              "      <td>E010111A0</td>\n",
              "      <td>West Yorkshire</td>\n",
              "      <td>Anti-social behaviour</td>\n",
              "    </tr>\n",
              "    <tr>\n",
              "      <th>3</th>\n",
              "      <td>1</td>\n",
              "      <td>1</td>\n",
              "      <td>Anti-social behaviour</td>\n",
              "      <td>E01010590</td>\n",
              "      <td>E010111A1</td>\n",
              "      <td>West Yorkshire</td>\n",
              "      <td>Anti-social behaviour</td>\n",
              "    </tr>\n",
              "    <tr>\n",
              "      <th>4</th>\n",
              "      <td>1</td>\n",
              "      <td>1</td>\n",
              "      <td>Anti-social behaviour</td>\n",
              "      <td>E01010603</td>\n",
              "      <td>E010111A0</td>\n",
              "      <td>West Yorkshire</td>\n",
              "      <td>Anti-social behaviour</td>\n",
              "    </tr>\n",
              "  </tbody>\n",
              "</table>\n",
              "</div>"
            ],
            "text/plain": [
              "  Week Mon  ...    Police_force      Crime_description\n",
              "0    1   1  ...  West Yorkshire  Anti-social behaviour\n",
              "1    1   1  ...  West Yorkshire  Anti-social behaviour\n",
              "2    1   1  ...  West Yorkshire  Anti-social behaviour\n",
              "3    1   1  ...  West Yorkshire  Anti-social behaviour\n",
              "4    1   1  ...  West Yorkshire  Anti-social behaviour\n",
              "\n",
              "[5 rows x 7 columns]"
            ]
          },
          "metadata": {
            "tags": []
          },
          "execution_count": 13
        }
      ]
    },
    {
      "cell_type": "markdown",
      "metadata": {
        "id": "MfNVpgUKMbv4",
        "colab_type": "text"
      },
      "source": [
        "## Outputting from Colabs\n",
        "\n",
        "Data produced can now be exported as a .csv for use in the agent-based model."
      ]
    },
    {
      "cell_type": "code",
      "metadata": {
        "id": "5vsuEZ0M_45L",
        "colab_type": "code",
        "colab": {}
      },
      "source": [
        "synth_counts_des.to_csv('synthetic_day_reports.csv')"
      ],
      "execution_count": 0,
      "outputs": []
    },
    {
      "cell_type": "code",
      "metadata": {
        "id": "qZoC_LCBL7Gn",
        "colab_type": "code",
        "colab": {}
      },
      "source": [
        "from google.colab import files\n",
        "\n",
        "files.download('synthetic_day_reports.csv')"
      ],
      "execution_count": 0,
      "outputs": []
    }
  ]
}