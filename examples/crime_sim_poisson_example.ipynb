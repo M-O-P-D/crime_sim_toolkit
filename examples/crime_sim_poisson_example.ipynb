{
  "nbformat": 4,
  "nbformat_minor": 0,
  "metadata": {
    "colab": {
      "name": "crime_sim_poisson_example.ipynb",
      "provenance": [],
      "collapsed_sections": [],
      "toc_visible": true,
      "include_colab_link": true
    },
    "kernelspec": {
      "name": "python3",
      "display_name": "Python 3"
    }
  },
  "cells": [
    {
      "cell_type": "markdown",
      "metadata": {
        "id": "view-in-github",
        "colab_type": "text"
      },
      "source": [
        "<a href=\"https://colab.research.google.com/github/Sparrow0hawk/crime_sim_toolkit/blob/develop-refactor-populate-offence/examples/crime_sim_poisson_example.ipynb\" target=\"_parent\"><img src=\"https://colab.research.google.com/assets/colab-badge.svg\" alt=\"Open In Colab\"/></a>"
      ]
    },
    {
      "cell_type": "markdown",
      "metadata": {
        "id": "XgFA3CtTbiwQ",
        "colab_type": "text"
      },
      "source": [
        "# Example notebook for using the crime_sim_toolkit\n",
        "\n",
        "Follow these steps to load your own data into the crime_sim_toolkit for generating new crime data using the Poisson Sampler function.\n",
        "\n",
        "## Notes on running\n",
        "For this to run successfully follow these steps:\n",
        "\n",
        "\n",
        "1.   Git clone the repo into the root dir\n",
        "2.   Run pip install within the downloaded repo\n",
        "3.   Reset the local runtime to allow for pip packages installed to work\n",
        "4.   Then run python setup.py install on downloaded repo\n",
        "\n",
        "The package should now be useable within the notebook.\n",
        "\n"
      ]
    },
    {
      "cell_type": "code",
      "metadata": {
        "id": "Aha_nz-SRX56",
        "colab_type": "code",
        "outputId": "b2ab338d-d206-4891-83a5-8b384e7b6f42",
        "colab": {
          "base_uri": "https://localhost:8080/",
          "height": 162
        }
      },
      "source": [
        "%cd ~/\n",
        "\n",
        "! git clone --single-branch --branch develop-refactor-populate-offence https://github.com/Sparrow0hawk/crime_sim_toolkit.git"
      ],
      "execution_count": 1,
      "outputs": [
        {
          "output_type": "stream",
          "text": [
            "/root\n",
            "Cloning into 'crime_sim_toolkit'...\n",
            "remote: Enumerating objects: 58, done.\u001b[K\n",
            "remote: Counting objects: 100% (58/58), done.\u001b[K\n",
            "remote: Compressing objects: 100% (43/43), done.\u001b[K\n",
            "remote: Total 1165 (delta 27), reused 33 (delta 14), pack-reused 1107\u001b[K\n",
            "Receiving objects: 100% (1165/1165), 49.24 MiB | 26.22 MiB/s, done.\n",
            "Resolving deltas: 100% (758/758), done.\n"
          ],
          "name": "stdout"
        }
      ]
    },
    {
      "cell_type": "code",
      "metadata": {
        "id": "J6ezywTXRnbX",
        "colab_type": "code",
        "outputId": "3acf2512-14b2-4c4c-90a8-ec29bbe56d3b",
        "colab": {
          "base_uri": "https://localhost:8080/",
          "height": 473
        }
      },
      "source": [
        "%cd ~/crime_sim_toolkit\n",
        "\n",
        "!pip install -q -r requirements.txt"
      ],
      "execution_count": 2,
      "outputs": [
        {
          "output_type": "stream",
          "text": [
            "/root/crime_sim_toolkit\n",
            "\u001b[K     |████████████████████████████████| 163kB 5.7MB/s \n",
            "\u001b[K     |████████████████████████████████| 215kB 14.9MB/s \n",
            "\u001b[K     |████████████████████████████████| 92kB 8.4MB/s \n",
            "\u001b[K     |████████████████████████████████| 133kB 16.4MB/s \n",
            "\u001b[K     |████████████████████████████████| 286kB 15.5MB/s \n",
            "\u001b[K     |████████████████████████████████| 13.1MB 17.6MB/s \n",
            "\u001b[K     |████████████████████████████████| 20.4MB 225kB/s \n",
            "\u001b[K     |████████████████████████████████| 10.5MB 42.9MB/s \n",
            "\u001b[K     |████████████████████████████████| 71kB 7.2MB/s \n",
            "\u001b[K     |████████████████████████████████| 235kB 48.9MB/s \n",
            "\u001b[K     |████████████████████████████████| 512kB 48.4MB/s \n",
            "\u001b[K     |████████████████████████████████| 61kB 7.6MB/s \n",
            "\u001b[K     |████████████████████████████████| 6.7MB 56.9MB/s \n",
            "\u001b[K     |████████████████████████████████| 25.2MB 78.4MB/s \n",
            "\u001b[K     |████████████████████████████████| 153kB 44.3MB/s \n",
            "\u001b[31mERROR: tensorflow 2.2.0rc2 has requirement scipy==1.4.1; python_version >= \"3\", but you'll have scipy 1.3.0 which is incompatible.\u001b[0m\n",
            "\u001b[31mERROR: kaggle 1.5.6 has requirement urllib3<1.25,>=1.21.1, but you'll have urllib3 1.25.3 which is incompatible.\u001b[0m\n",
            "\u001b[31mERROR: google-colab 1.0.0 has requirement pandas~=1.0.0; python_version >= \"3.0\", but you'll have pandas 0.25.0 which is incompatible.\u001b[0m\n",
            "\u001b[31mERROR: google-colab 1.0.0 has requirement requests~=2.21.0, but you'll have requests 2.22.0 which is incompatible.\u001b[0m\n",
            "\u001b[31mERROR: datascience 0.10.6 has requirement coverage==3.7.1, but you'll have coverage 4.5.4 which is incompatible.\u001b[0m\n",
            "\u001b[31mERROR: datascience 0.10.6 has requirement folium==0.2.1, but you'll have folium 0.10.0 which is incompatible.\u001b[0m\n",
            "\u001b[31mERROR: coveralls 0.5 has requirement coverage<3.999,>=3.6, but you'll have coverage 4.5.4 which is incompatible.\u001b[0m\n",
            "\u001b[31mERROR: albumentations 0.1.12 has requirement imgaug<0.2.7,>=0.2.5, but you'll have imgaug 0.2.9 which is incompatible.\u001b[0m\n",
            "\u001b[?25h"
          ],
          "name": "stdout"
        }
      ]
    },
    {
      "cell_type": "markdown",
      "metadata": {
        "id": "3Nf4DMs2YRkE",
        "colab_type": "text"
      },
      "source": [
        "# RESTART RUNTIME"
      ]
    },
    {
      "cell_type": "code",
      "metadata": {
        "id": "bD-ZF-Hya4Lq",
        "colab_type": "code",
        "outputId": "9f51148a-be5b-4164-a1df-82f0cd30a7a1",
        "colab": {
          "base_uri": "https://localhost:8080/",
          "height": 35
        }
      },
      "source": [
        "%cd ~/crime_sim_toolkit\n",
        "\n",
        "!python setup.py -q install"
      ],
      "execution_count": 1,
      "outputs": [
        {
          "output_type": "stream",
          "text": [
            "/root/crime_sim_toolkit\n"
          ],
          "name": "stdout"
        }
      ]
    },
    {
      "cell_type": "markdown",
      "metadata": {
        "id": "AFxm7U4JmFNy",
        "colab_type": "text"
      },
      "source": [
        "## Loading data\n",
        "\n",
        "Using data from a [custom dowload](https://data.police.uk/data/) from Police Data UK we can load that data, covert it to counts by crime_type by LSOA by psuedo Week/Day by passing the directory to the Poisson_sim function.\n",
        "\n",
        "Sample data used here is included within the [github repository](https://github.com/Sparrow0hawk/crime_sim_toolkit/tree/master/sample_data) and covers January-June from 2017-2019."
      ]
    },
    {
      "cell_type": "code",
      "metadata": {
        "id": "Ie_tNRIYSFTe",
        "colab_type": "code",
        "outputId": "81182b88-52cd-47e4-fb43-c20d3325d43a",
        "colab": {
          "base_uri": "https://localhost:8080/",
          "height": 144
        }
      },
      "source": [
        "import crime_sim_toolkit.poisson_sim as Poisson_sim\n",
        "\n",
        "\n",
        "sim_week = Poisson_sim.Poisson_sim(\n",
        "                               # because of the data passed these are the LA we want\n",
        "                               LA_names=['Kirklees','Calderdale','Leeds','Bradford','Wakefield'], \n",
        "                               directory='/root/crime_sim_toolkit/sample_data',\n",
        "                               # this can either be Day or Week\n",
        "                               timeframe='Day',\n",
        "                               aggregate=True)"
      ],
      "execution_count": 2,
      "outputs": [
        {
          "output_type": "stream",
          "text": [
            " \n",
            "Fetching count data from police reports.\n",
            "Sit back and have a brew, this may take sometime.\n",
            " \n",
            "Number of data files found:  18\n",
            "Psuedo days allocated to all reports.\n",
            "Datetime column configured.\n"
          ],
          "name": "stdout"
        }
      ]
    },
    {
      "cell_type": "code",
      "metadata": {
        "id": "19KyR5ZObINn",
        "colab_type": "code",
        "outputId": "e812b367-c7ce-4521-d40c-37fa8e82f9a7",
        "colab": {
          "base_uri": "https://localhost:8080/",
          "height": 206
        }
      },
      "source": [
        "sim_week.data.head()"
      ],
      "execution_count": 3,
      "outputs": [
        {
          "output_type": "execute_result",
          "data": {
            "text/html": [
              "<div>\n",
              "<style scoped>\n",
              "    .dataframe tbody tr th:only-of-type {\n",
              "        vertical-align: middle;\n",
              "    }\n",
              "\n",
              "    .dataframe tbody tr th {\n",
              "        vertical-align: top;\n",
              "    }\n",
              "\n",
              "    .dataframe thead th {\n",
              "        text-align: right;\n",
              "    }\n",
              "</style>\n",
              "<table border=\"1\" class=\"dataframe\">\n",
              "  <thead>\n",
              "    <tr style=\"text-align: right;\">\n",
              "      <th></th>\n",
              "      <th>datetime</th>\n",
              "      <th>Crime_type</th>\n",
              "      <th>LSOA_code</th>\n",
              "      <th>Counts</th>\n",
              "    </tr>\n",
              "  </thead>\n",
              "  <tbody>\n",
              "    <tr>\n",
              "      <th>0</th>\n",
              "      <td>2017-01-01</td>\n",
              "      <td>Anti-social behaviour</td>\n",
              "      <td>West Yorkshire</td>\n",
              "      <td>178</td>\n",
              "    </tr>\n",
              "    <tr>\n",
              "      <th>1</th>\n",
              "      <td>2017-01-01</td>\n",
              "      <td>Bicycle theft</td>\n",
              "      <td>West Yorkshire</td>\n",
              "      <td>4</td>\n",
              "    </tr>\n",
              "    <tr>\n",
              "      <th>2</th>\n",
              "      <td>2017-01-01</td>\n",
              "      <td>Burglary</td>\n",
              "      <td>West Yorkshire</td>\n",
              "      <td>87</td>\n",
              "    </tr>\n",
              "    <tr>\n",
              "      <th>3</th>\n",
              "      <td>2017-01-01</td>\n",
              "      <td>Criminal damage and arson</td>\n",
              "      <td>West Yorkshire</td>\n",
              "      <td>60</td>\n",
              "    </tr>\n",
              "    <tr>\n",
              "      <th>4</th>\n",
              "      <td>2017-01-01</td>\n",
              "      <td>Drugs</td>\n",
              "      <td>West Yorkshire</td>\n",
              "      <td>8</td>\n",
              "    </tr>\n",
              "  </tbody>\n",
              "</table>\n",
              "</div>"
            ],
            "text/plain": [
              "    datetime                 Crime_type       LSOA_code  Counts\n",
              "0 2017-01-01      Anti-social behaviour  West Yorkshire     178\n",
              "1 2017-01-01              Bicycle theft  West Yorkshire       4\n",
              "2 2017-01-01                   Burglary  West Yorkshire      87\n",
              "3 2017-01-01  Criminal damage and arson  West Yorkshire      60\n",
              "4 2017-01-01                      Drugs  West Yorkshire       8"
            ]
          },
          "metadata": {
            "tags": []
          },
          "execution_count": 3
        }
      ]
    },
    {
      "cell_type": "markdown",
      "metadata": {
        "id": "KDBak64uMxC1",
        "colab_type": "text"
      },
      "source": [
        "## Sampling new data\n",
        "\n",
        "Based on the loaded data we can now create an out of bag sample and use the poisson sampler to generate crime reports based on historic reports to be compared to the out of bag sample."
      ]
    },
    {
      "cell_type": "code",
      "metadata": {
        "id": "Q4b95m66HZoM",
        "colab_type": "code",
        "outputId": "c9781762-56e7-4585-fdea-5d3586e838b6",
        "colab": {
          "base_uri": "https://localhost:8080/",
          "height": 72
        }
      },
      "source": [
        "test_data = sim_week.out_of_bag_prep(sim_week.data)\n",
        "\n",
        "train_data = sim_week.oob_train_split(sim_week.data, test_data)\n"
      ],
      "execution_count": 4,
      "outputs": [
        {
          "output_type": "stream",
          "text": [
            "Datetime column configured.\n",
            "Datetime column configured.\n",
            "Datetime column configured.\n"
          ],
          "name": "stdout"
        }
      ]
    },
    {
      "cell_type": "code",
      "metadata": {
        "id": "TfFrb8MghxuP",
        "colab_type": "code",
        "outputId": "5ad98fda-a461-436e-ee48-37125c98b4ff",
        "colab": {
          "base_uri": "https://localhost:8080/",
          "height": 1000
        }
      },
      "source": [
        "%%time\n",
        "\n",
        "datat = sim_week.SimplePoission(train_data, test_data, method='simple')"
      ],
      "execution_count": 5,
      "outputs": [
        {
          "output_type": "stream",
          "text": [
            "Datetime column configured.\n",
            "Datetime column configured.\n",
            "Time resolution set to:  datetime\n",
            "Beginning sampling.\n",
            "Simulating datetime: 2019-01-01 00:00:00\n",
            "Simulating datetime: 2019-01-02 00:00:00\n",
            "Simulating datetime: 2019-01-03 00:00:00\n",
            "Simulating datetime: 2019-01-04 00:00:00\n",
            "Simulating datetime: 2019-01-05 00:00:00\n",
            "Simulating datetime: 2019-01-06 00:00:00\n",
            "Simulating datetime: 2019-01-07 00:00:00\n",
            "Simulating datetime: 2019-01-08 00:00:00\n",
            "Simulating datetime: 2019-01-09 00:00:00\n",
            "Simulating datetime: 2019-01-10 00:00:00\n",
            "Simulating datetime: 2019-01-11 00:00:00\n",
            "Simulating datetime: 2019-01-12 00:00:00\n",
            "Simulating datetime: 2019-01-13 00:00:00\n",
            "Simulating datetime: 2019-01-14 00:00:00\n",
            "Simulating datetime: 2019-01-15 00:00:00\n",
            "Simulating datetime: 2019-01-16 00:00:00\n",
            "Simulating datetime: 2019-01-17 00:00:00\n",
            "Simulating datetime: 2019-01-18 00:00:00\n",
            "Simulating datetime: 2019-01-19 00:00:00\n",
            "Simulating datetime: 2019-01-20 00:00:00\n",
            "Simulating datetime: 2019-01-21 00:00:00\n",
            "Simulating datetime: 2019-01-22 00:00:00\n",
            "Simulating datetime: 2019-01-23 00:00:00\n",
            "Simulating datetime: 2019-01-24 00:00:00\n",
            "Simulating datetime: 2019-01-25 00:00:00\n",
            "Simulating datetime: 2019-01-26 00:00:00\n",
            "Simulating datetime: 2019-01-27 00:00:00\n",
            "Simulating datetime: 2019-01-28 00:00:00\n",
            "Simulating datetime: 2019-01-29 00:00:00\n",
            "Simulating datetime: 2019-01-30 00:00:00\n",
            "Simulating datetime: 2019-01-31 00:00:00\n",
            "Simulating datetime: 2019-02-01 00:00:00\n",
            "Simulating datetime: 2019-02-02 00:00:00\n",
            "Simulating datetime: 2019-02-03 00:00:00\n",
            "Simulating datetime: 2019-02-04 00:00:00\n",
            "Simulating datetime: 2019-02-05 00:00:00\n",
            "Simulating datetime: 2019-02-06 00:00:00\n",
            "Simulating datetime: 2019-02-07 00:00:00\n",
            "Simulating datetime: 2019-02-08 00:00:00\n",
            "Simulating datetime: 2019-02-09 00:00:00\n",
            "Simulating datetime: 2019-02-10 00:00:00\n",
            "Simulating datetime: 2019-02-11 00:00:00\n",
            "Simulating datetime: 2019-02-12 00:00:00\n",
            "Simulating datetime: 2019-02-13 00:00:00\n",
            "Simulating datetime: 2019-02-14 00:00:00\n",
            "Simulating datetime: 2019-02-15 00:00:00\n",
            "Simulating datetime: 2019-02-16 00:00:00\n",
            "Simulating datetime: 2019-02-17 00:00:00\n",
            "Simulating datetime: 2019-02-18 00:00:00\n",
            "Simulating datetime: 2019-02-19 00:00:00\n",
            "Simulating datetime: 2019-02-20 00:00:00\n",
            "Simulating datetime: 2019-02-21 00:00:00\n",
            "Simulating datetime: 2019-02-22 00:00:00\n",
            "Simulating datetime: 2019-02-23 00:00:00\n",
            "Simulating datetime: 2019-02-24 00:00:00\n",
            "Simulating datetime: 2019-02-25 00:00:00\n",
            "Simulating datetime: 2019-02-26 00:00:00\n",
            "Simulating datetime: 2019-02-27 00:00:00\n",
            "Simulating datetime: 2019-02-28 00:00:00\n",
            "Simulating datetime: 2019-03-01 00:00:00\n",
            "Simulating datetime: 2019-03-02 00:00:00\n",
            "Simulating datetime: 2019-03-03 00:00:00\n",
            "Simulating datetime: 2019-03-04 00:00:00\n",
            "Simulating datetime: 2019-03-05 00:00:00\n",
            "Simulating datetime: 2019-03-06 00:00:00\n",
            "Simulating datetime: 2019-03-07 00:00:00\n",
            "Simulating datetime: 2019-03-08 00:00:00\n",
            "Simulating datetime: 2019-03-09 00:00:00\n",
            "Simulating datetime: 2019-03-10 00:00:00\n",
            "Simulating datetime: 2019-03-11 00:00:00\n",
            "Simulating datetime: 2019-03-12 00:00:00\n",
            "Simulating datetime: 2019-03-13 00:00:00\n",
            "Simulating datetime: 2019-03-14 00:00:00\n",
            "Simulating datetime: 2019-03-15 00:00:00\n",
            "Simulating datetime: 2019-03-16 00:00:00\n",
            "Simulating datetime: 2019-03-17 00:00:00\n",
            "Simulating datetime: 2019-03-18 00:00:00\n",
            "Simulating datetime: 2019-03-19 00:00:00\n",
            "Simulating datetime: 2019-03-20 00:00:00\n",
            "Simulating datetime: 2019-03-21 00:00:00\n",
            "Simulating datetime: 2019-03-22 00:00:00\n",
            "Simulating datetime: 2019-03-23 00:00:00\n",
            "Simulating datetime: 2019-03-24 00:00:00\n",
            "Simulating datetime: 2019-03-25 00:00:00\n",
            "Simulating datetime: 2019-03-26 00:00:00\n",
            "Simulating datetime: 2019-03-27 00:00:00\n",
            "Simulating datetime: 2019-03-28 00:00:00\n",
            "Simulating datetime: 2019-03-29 00:00:00\n",
            "Simulating datetime: 2019-03-30 00:00:00\n",
            "Simulating datetime: 2019-03-31 00:00:00\n",
            "Simulating datetime: 2019-04-01 00:00:00\n",
            "Simulating datetime: 2019-04-02 00:00:00\n",
            "Simulating datetime: 2019-04-03 00:00:00\n",
            "Simulating datetime: 2019-04-04 00:00:00\n",
            "Simulating datetime: 2019-04-05 00:00:00\n",
            "Simulating datetime: 2019-04-06 00:00:00\n",
            "Simulating datetime: 2019-04-07 00:00:00\n",
            "Simulating datetime: 2019-04-08 00:00:00\n",
            "Simulating datetime: 2019-04-09 00:00:00\n",
            "Simulating datetime: 2019-04-10 00:00:00\n",
            "Simulating datetime: 2019-04-11 00:00:00\n",
            "Simulating datetime: 2019-04-12 00:00:00\n",
            "Simulating datetime: 2019-04-13 00:00:00\n",
            "Simulating datetime: 2019-04-14 00:00:00\n",
            "Simulating datetime: 2019-04-15 00:00:00\n",
            "Simulating datetime: 2019-04-16 00:00:00\n",
            "Simulating datetime: 2019-04-17 00:00:00\n",
            "Simulating datetime: 2019-04-18 00:00:00\n",
            "Simulating datetime: 2019-04-19 00:00:00\n",
            "Simulating datetime: 2019-04-20 00:00:00\n",
            "Simulating datetime: 2019-04-21 00:00:00\n",
            "Simulating datetime: 2019-04-22 00:00:00\n",
            "Simulating datetime: 2019-04-23 00:00:00\n",
            "Simulating datetime: 2019-04-24 00:00:00\n",
            "Simulating datetime: 2019-04-25 00:00:00\n",
            "Simulating datetime: 2019-04-26 00:00:00\n",
            "Simulating datetime: 2019-04-27 00:00:00\n",
            "Simulating datetime: 2019-04-28 00:00:00\n",
            "Simulating datetime: 2019-04-29 00:00:00\n",
            "Simulating datetime: 2019-04-30 00:00:00\n",
            "Simulating datetime: 2019-05-01 00:00:00\n",
            "Simulating datetime: 2019-05-02 00:00:00\n",
            "Simulating datetime: 2019-05-03 00:00:00\n",
            "Simulating datetime: 2019-05-04 00:00:00\n",
            "Simulating datetime: 2019-05-05 00:00:00\n",
            "Simulating datetime: 2019-05-06 00:00:00\n",
            "Simulating datetime: 2019-05-07 00:00:00\n",
            "Simulating datetime: 2019-05-08 00:00:00\n",
            "Simulating datetime: 2019-05-09 00:00:00\n",
            "Simulating datetime: 2019-05-10 00:00:00\n",
            "Simulating datetime: 2019-05-11 00:00:00\n",
            "Simulating datetime: 2019-05-12 00:00:00\n",
            "Simulating datetime: 2019-05-13 00:00:00\n",
            "Simulating datetime: 2019-05-14 00:00:00\n",
            "Simulating datetime: 2019-05-15 00:00:00\n",
            "Simulating datetime: 2019-05-16 00:00:00\n",
            "Simulating datetime: 2019-05-17 00:00:00\n",
            "Simulating datetime: 2019-05-18 00:00:00\n",
            "Simulating datetime: 2019-05-19 00:00:00\n",
            "Simulating datetime: 2019-05-20 00:00:00\n",
            "Simulating datetime: 2019-05-21 00:00:00\n",
            "Simulating datetime: 2019-05-22 00:00:00\n",
            "Simulating datetime: 2019-05-23 00:00:00\n",
            "Simulating datetime: 2019-05-24 00:00:00\n",
            "Simulating datetime: 2019-05-25 00:00:00\n",
            "Simulating datetime: 2019-05-26 00:00:00\n",
            "Simulating datetime: 2019-05-27 00:00:00\n",
            "Simulating datetime: 2019-05-28 00:00:00\n",
            "Simulating datetime: 2019-05-29 00:00:00\n",
            "Simulating datetime: 2019-05-30 00:00:00\n",
            "Simulating datetime: 2019-05-31 00:00:00\n",
            "Simulating datetime: 2019-06-01 00:00:00\n",
            "Simulating datetime: 2019-06-02 00:00:00\n",
            "Simulating datetime: 2019-06-03 00:00:00\n",
            "Simulating datetime: 2019-06-04 00:00:00\n",
            "Simulating datetime: 2019-06-05 00:00:00\n",
            "Simulating datetime: 2019-06-06 00:00:00\n",
            "Simulating datetime: 2019-06-07 00:00:00\n",
            "Simulating datetime: 2019-06-08 00:00:00\n",
            "Simulating datetime: 2019-06-09 00:00:00\n",
            "Simulating datetime: 2019-06-10 00:00:00\n",
            "Simulating datetime: 2019-06-11 00:00:00\n",
            "Simulating datetime: 2019-06-12 00:00:00\n",
            "Simulating datetime: 2019-06-13 00:00:00\n",
            "Simulating datetime: 2019-06-14 00:00:00\n",
            "Simulating datetime: 2019-06-15 00:00:00\n",
            "Simulating datetime: 2019-06-16 00:00:00\n",
            "Simulating datetime: 2019-06-17 00:00:00\n",
            "Simulating datetime: 2019-06-18 00:00:00\n",
            "Simulating datetime: 2019-06-19 00:00:00\n",
            "Simulating datetime: 2019-06-20 00:00:00\n",
            "Simulating datetime: 2019-06-21 00:00:00\n",
            "Simulating datetime: 2019-06-22 00:00:00\n",
            "Simulating datetime: 2019-06-23 00:00:00\n",
            "Simulating datetime: 2019-06-24 00:00:00\n",
            "Simulating datetime: 2019-06-25 00:00:00\n",
            "Simulating datetime: 2019-06-26 00:00:00\n",
            "Simulating datetime: 2019-06-27 00:00:00\n",
            "Simulating datetime: 2019-06-28 00:00:00\n",
            "Simulating datetime: 2019-06-29 00:00:00\n",
            "Simulating datetime: 2019-06-30 00:00:00\n",
            "CPU times: user 14.8 s, sys: 68 ms, total: 14.9 s\n",
            "Wall time: 14.8 s\n"
          ],
          "name": "stdout"
        }
      ]
    },
    {
      "cell_type": "markdown",
      "metadata": {
        "id": "fA-kCqogMkZO",
        "colab_type": "text"
      },
      "source": [
        "## Model comparison\n",
        "\n",
        "We can compare our model to the hold out test set using the error_Reporting function."
      ]
    },
    {
      "cell_type": "code",
      "metadata": {
        "id": "tWtX8gWA_LAZ",
        "colab_type": "code",
        "outputId": "94f89dd8-6742-4ed6-dfdd-e540d41d7ba5",
        "colab": {
          "base_uri": "https://localhost:8080/",
          "height": 461
        }
      },
      "source": [
        "diff_table = sim_week.error_Reporting(test_data=test_data, simulated_data=datat)"
      ],
      "execution_count": 6,
      "outputs": [
        {
          "output_type": "stream",
          "text": [
            "Datetime column configured.\n",
            "Datetime column configured.\n",
            "Root mean squared error of poisson sampler:  65.5\n",
            "Mean absolute error:  53.8\n",
            "Median absolute error:  47.0\n",
            "-----------\n",
            "Total simulated crime events:  154004\n",
            "Total crime events in holdout data:  161391\n",
            "Undersampling by:  -4.600000000000004 %\n",
            "-------\n"
          ],
          "name": "stdout"
        },
        {
          "output_type": "display_data",
          "data": {
            "image/png": "[encoded data removed]",
            "text/plain": [
              "<Figure size 432x288 with 1 Axes>"
            ]
          },
          "metadata": {
            "tags": []
          }
        }
      ]
    },
    {
      "cell_type": "code",
      "metadata": {
        "id": "_wFWjYm__hKW",
        "colab_type": "code",
        "outputId": "a4a6fad7-5243-47cb-e39d-c0148a78882b",
        "colab": {
          "base_uri": "https://localhost:8080/",
          "height": 237
        }
      },
      "source": [
        "diff_table.head()"
      ],
      "execution_count": 7,
      "outputs": [
        {
          "output_type": "execute_result",
          "data": {
            "text/html": [
              "<div>\n",
              "<style scoped>\n",
              "    .dataframe tbody tr th:only-of-type {\n",
              "        vertical-align: middle;\n",
              "    }\n",
              "\n",
              "    .dataframe tbody tr th {\n",
              "        vertical-align: top;\n",
              "    }\n",
              "\n",
              "    .dataframe thead th {\n",
              "        text-align: right;\n",
              "    }\n",
              "</style>\n",
              "<table border=\"1\" class=\"dataframe\">\n",
              "  <thead>\n",
              "    <tr style=\"text-align: right;\">\n",
              "      <th></th>\n",
              "      <th>datetime</th>\n",
              "      <th>Pred_counts</th>\n",
              "      <th>Actual</th>\n",
              "      <th>Difference</th>\n",
              "    </tr>\n",
              "    <tr>\n",
              "      <th>LSOA_code</th>\n",
              "      <th></th>\n",
              "      <th></th>\n",
              "      <th></th>\n",
              "      <th></th>\n",
              "    </tr>\n",
              "  </thead>\n",
              "  <tbody>\n",
              "    <tr>\n",
              "      <th>West Yorkshire</th>\n",
              "      <td>2019-01-01</td>\n",
              "      <td>823</td>\n",
              "      <td>915</td>\n",
              "      <td>92</td>\n",
              "    </tr>\n",
              "    <tr>\n",
              "      <th>West Yorkshire</th>\n",
              "      <td>2019-01-02</td>\n",
              "      <td>846</td>\n",
              "      <td>906</td>\n",
              "      <td>60</td>\n",
              "    </tr>\n",
              "    <tr>\n",
              "      <th>West Yorkshire</th>\n",
              "      <td>2019-01-03</td>\n",
              "      <td>801</td>\n",
              "      <td>905</td>\n",
              "      <td>104</td>\n",
              "    </tr>\n",
              "    <tr>\n",
              "      <th>West Yorkshire</th>\n",
              "      <td>2019-01-04</td>\n",
              "      <td>803</td>\n",
              "      <td>842</td>\n",
              "      <td>39</td>\n",
              "    </tr>\n",
              "    <tr>\n",
              "      <th>West Yorkshire</th>\n",
              "      <td>2019-01-05</td>\n",
              "      <td>811</td>\n",
              "      <td>880</td>\n",
              "      <td>69</td>\n",
              "    </tr>\n",
              "  </tbody>\n",
              "</table>\n",
              "</div>"
            ],
            "text/plain": [
              "                 datetime  Pred_counts  Actual  Difference\n",
              "LSOA_code                                                 \n",
              "West Yorkshire 2019-01-01          823     915          92\n",
              "West Yorkshire 2019-01-02          846     906          60\n",
              "West Yorkshire 2019-01-03          801     905         104\n",
              "West Yorkshire 2019-01-04          803     842          39\n",
              "West Yorkshire 2019-01-05          811     880          69"
            ]
          },
          "metadata": {
            "tags": []
          },
          "execution_count": 7
        }
      ]
    },
    {
      "cell_type": "markdown",
      "metadata": {
        "id": "kQ_eSFdkL-XM",
        "colab_type": "text"
      },
      "source": [
        "## Using utils to get counts to reports\n",
        "\n",
        "You can use utility functions within the toolkit to convert generated count data back into individual reports. And using the populate_offence function include a more specific crime description (randomly allocated from regional data)."
      ]
    },
    {
      "cell_type": "code",
      "metadata": {
        "id": "9oXeekh0_rez",
        "ype": "code",
        "colab_type": "code",
        "colab": {}
      },
      "source": [
        "from crime_sim_toolkit import utils"
      ],
      "execution_count": 0,
      "outputs": []
    },
    {
      "cell_type": "code",
      "metadata": {
        "id": "EzBMRSl6_YdF",
        "colab_type": "code",
        "outputId": "d17fbb5b-dd42-4bf1-ad97-2e844e9245f8",
        "colab": {
          "base_uri": "https://localhost:8080/",
          "height": 72
        }
      },
      "source": [
        "%%time\n",
        "# generate additional crime descriptions\n",
        "\n",
        "synth_counts = utils.counts_to_reports(datat)"
      ],
      "execution_count": 9,
      "outputs": [
        {
          "output_type": "stream",
          "text": [
            "Datetime column configured.\n",
            "CPU times: user 1min 15s, sys: 110 ms, total: 1min 15s\n",
            "Wall time: 1min 15s\n"
          ],
          "name": "stdout"
        }
      ]
    },
    {
      "cell_type": "code",
      "metadata": {
        "id": "U4BH3w7g_1GR",
        "colab_type": "code",
        "outputId": "0a8c895a-f806-4ead-fa7f-3e1d6e43c1c2",
        "colab": {
          "base_uri": "https://localhost:8080/",
          "height": 53
        }
      },
      "source": [
        "%%time\n",
        "# generate additional crime descriptions\n",
        "\n",
        "synth_counts_des = utils.populate_offence(synth_counts)"
      ],
      "execution_count": 10,
      "outputs": [
        {
          "output_type": "stream",
          "text": [
            "CPU times: user 6min 2s, sys: 82.6 ms, total: 6min 2s\n",
            "Wall time: 6min 2s\n"
          ],
          "name": "stdout"
        }
      ]
    },
    {
      "cell_type": "code",
      "metadata": {
        "id": "dH8VTkNu_obm",
        "colab_type": "code",
        "outputId": "ac73268f-a74f-44df-fe64-f310980678c8",
        "colab": {
          "base_uri": "https://localhost:8080/",
          "height": 206
        }
      },
      "source": [
        "synth_counts_des.head()"
      ],
      "execution_count": 11,
      "outputs": [
        {
          "output_type": "execute_result",
          "data": {
            "text/html": [
              "<div>\n",
              "<style scoped>\n",
              "    .dataframe tbody tr th:only-of-type {\n",
              "        vertical-align: middle;\n",
              "    }\n",
              "\n",
              "    .dataframe tbody tr th {\n",
              "        vertical-align: top;\n",
              "    }\n",
              "\n",
              "    .dataframe thead th {\n",
              "        text-align: right;\n",
              "    }\n",
              "</style>\n",
              "<table border=\"1\" class=\"dataframe\">\n",
              "  <thead>\n",
              "    <tr style=\"text-align: right;\">\n",
              "      <th></th>\n",
              "      <th>UID</th>\n",
              "      <th>datetime</th>\n",
              "      <th>Crime_type</th>\n",
              "      <th>LSOA_code</th>\n",
              "      <th>Police_force</th>\n",
              "      <th>Crime_description</th>\n",
              "    </tr>\n",
              "  </thead>\n",
              "  <tbody>\n",
              "    <tr>\n",
              "      <th>0</th>\n",
              "      <td>West11AN0</td>\n",
              "      <td>2019-01-01</td>\n",
              "      <td>Anti-social behaviour</td>\n",
              "      <td>West Yorkshire</td>\n",
              "      <td>West Yorkshire</td>\n",
              "      <td>anti-social behaviour</td>\n",
              "    </tr>\n",
              "    <tr>\n",
              "      <th>1</th>\n",
              "      <td>West11AN1</td>\n",
              "      <td>2019-01-01</td>\n",
              "      <td>Anti-social behaviour</td>\n",
              "      <td>West Yorkshire</td>\n",
              "      <td>West Yorkshire</td>\n",
              "      <td>anti-social behaviour</td>\n",
              "    </tr>\n",
              "    <tr>\n",
              "      <th>2</th>\n",
              "      <td>West11AN2</td>\n",
              "      <td>2019-01-01</td>\n",
              "      <td>Anti-social behaviour</td>\n",
              "      <td>West Yorkshire</td>\n",
              "      <td>West Yorkshire</td>\n",
              "      <td>anti-social behaviour</td>\n",
              "    </tr>\n",
              "    <tr>\n",
              "      <th>3</th>\n",
              "      <td>West11AN3</td>\n",
              "      <td>2019-01-01</td>\n",
              "      <td>Anti-social behaviour</td>\n",
              "      <td>West Yorkshire</td>\n",
              "      <td>West Yorkshire</td>\n",
              "      <td>anti-social behaviour</td>\n",
              "    </tr>\n",
              "    <tr>\n",
              "      <th>4</th>\n",
              "      <td>West11AN4</td>\n",
              "      <td>2019-01-01</td>\n",
              "      <td>Anti-social behaviour</td>\n",
              "      <td>West Yorkshire</td>\n",
              "      <td>West Yorkshire</td>\n",
              "      <td>anti-social behaviour</td>\n",
              "    </tr>\n",
              "  </tbody>\n",
              "</table>\n",
              "</div>"
            ],
            "text/plain": [
              "         UID   datetime  ...    Police_force      Crime_description\n",
              "0  West11AN0 2019-01-01  ...  West Yorkshire  anti-social behaviour\n",
              "1  West11AN1 2019-01-01  ...  West Yorkshire  anti-social behaviour\n",
              "2  West11AN2 2019-01-01  ...  West Yorkshire  anti-social behaviour\n",
              "3  West11AN3 2019-01-01  ...  West Yorkshire  anti-social behaviour\n",
              "4  West11AN4 2019-01-01  ...  West Yorkshire  anti-social behaviour\n",
              "\n",
              "[5 rows x 6 columns]"
            ]
          },
          "metadata": {
            "tags": []
          },
          "execution_count": 11
        }
      ]
    },
    {
      "cell_type": "code",
      "metadata": {
        "id": "GFq4plSb1RBi",
        "colab_type": "code",
        "colab": {}
      },
      "source": [
        "# pull out specifically required columns for ABM\n",
        "\n",
        "synth_counts_des = synth_counts_des[['UID','datetime','Crime_description','Crime_type','LSOA_code','Police_force']]"
      ],
      "execution_count": 0,
      "outputs": []
    },
    {
      "cell_type": "markdown",
      "metadata": {
        "id": "UX8CL9-RK5kv",
        "colab_type": "text"
      },
      "source": [
        "## Adding in random hours\n",
        "\n",
        "The agent based models implements hours for shift allocation. We'll perform a simple frame apply function to add hour."
      ]
    },
    {
      "cell_type": "code",
      "metadata": {
        "id": "RUZdeNEwK4_O",
        "colab_type": "code",
        "colab": {}
      },
      "source": [
        "import numpy as np\n",
        "\n",
        "synth_counts_des['Hour'] = np.random.randint(0,24, synth_counts_des.shape[0])\n",
        "\n",
        "# reorder columns\n",
        "synth_counts_des = synth_counts_des[['UID','Year','Mon','Day','Hour','Crime_description','Crime_type','LSOA_code','Police_force']]"
      ],
      "execution_count": 0,
      "outputs": []
    },
    {
      "cell_type": "code",
      "metadata": {
        "id": "nMkAFZ2OMx7g",
        "colab_type": "code",
        "outputId": "f4256ee8-a4ce-4543-ef9d-a15705e63eff",
        "colab": {
          "base_uri": "https://localhost:8080/",
          "height": 206
        }
      },
      "source": [
        "synth_counts_des.head()"
      ],
      "execution_count": 0,
      "outputs": [
        {
          "output_type": "execute_result",
          "data": {
            "text/html": [
              "<div>\n",
              "<style scoped>\n",
              "    .dataframe tbody tr th:only-of-type {\n",
              "        vertical-align: middle;\n",
              "    }\n",
              "\n",
              "    .dataframe tbody tr th {\n",
              "        vertical-align: top;\n",
              "    }\n",
              "\n",
              "    .dataframe thead th {\n",
              "        text-align: right;\n",
              "    }\n",
              "</style>\n",
              "<table border=\"1\" class=\"dataframe\">\n",
              "  <thead>\n",
              "    <tr style=\"text-align: right;\">\n",
              "      <th></th>\n",
              "      <th>UID</th>\n",
              "      <th>Year</th>\n",
              "      <th>Mon</th>\n",
              "      <th>Day</th>\n",
              "      <th>Hour</th>\n",
              "      <th>Crime_description</th>\n",
              "      <th>Crime_type</th>\n",
              "      <th>LSOA_code</th>\n",
              "      <th>Police_force</th>\n",
              "    </tr>\n",
              "  </thead>\n",
              "  <tbody>\n",
              "    <tr>\n",
              "      <th>0</th>\n",
              "      <td>E010111A0</td>\n",
              "      <td>2019</td>\n",
              "      <td>1</td>\n",
              "      <td>1</td>\n",
              "      <td>22</td>\n",
              "      <td>Anti-social behaviour</td>\n",
              "      <td>Anti-social behaviour</td>\n",
              "      <td>E01010650</td>\n",
              "      <td>West Yorkshire</td>\n",
              "    </tr>\n",
              "    <tr>\n",
              "      <th>1</th>\n",
              "      <td>E010111A0</td>\n",
              "      <td>2019</td>\n",
              "      <td>1</td>\n",
              "      <td>1</td>\n",
              "      <td>4</td>\n",
              "      <td>Anti-social behaviour</td>\n",
              "      <td>Anti-social behaviour</td>\n",
              "      <td>E01010654</td>\n",
              "      <td>West Yorkshire</td>\n",
              "    </tr>\n",
              "    <tr>\n",
              "      <th>2</th>\n",
              "      <td>E010111A0</td>\n",
              "      <td>2019</td>\n",
              "      <td>1</td>\n",
              "      <td>1</td>\n",
              "      <td>9</td>\n",
              "      <td>Anti-social behaviour</td>\n",
              "      <td>Anti-social behaviour</td>\n",
              "      <td>E01010718</td>\n",
              "      <td>West Yorkshire</td>\n",
              "    </tr>\n",
              "    <tr>\n",
              "      <th>3</th>\n",
              "      <td>E010111A1</td>\n",
              "      <td>2019</td>\n",
              "      <td>1</td>\n",
              "      <td>1</td>\n",
              "      <td>0</td>\n",
              "      <td>Anti-social behaviour</td>\n",
              "      <td>Anti-social behaviour</td>\n",
              "      <td>E01010718</td>\n",
              "      <td>West Yorkshire</td>\n",
              "    </tr>\n",
              "    <tr>\n",
              "      <th>4</th>\n",
              "      <td>E010111A2</td>\n",
              "      <td>2019</td>\n",
              "      <td>1</td>\n",
              "      <td>1</td>\n",
              "      <td>20</td>\n",
              "      <td>Anti-social behaviour</td>\n",
              "      <td>Anti-social behaviour</td>\n",
              "      <td>E01010718</td>\n",
              "      <td>West Yorkshire</td>\n",
              "    </tr>\n",
              "  </tbody>\n",
              "</table>\n",
              "</div>"
            ],
            "text/plain": [
              "         UID  Year Mon  ...             Crime_type  LSOA_code    Police_force\n",
              "0  E010111A0  2019   1  ...  Anti-social behaviour  E01010650  West Yorkshire\n",
              "1  E010111A0  2019   1  ...  Anti-social behaviour  E01010654  West Yorkshire\n",
              "2  E010111A0  2019   1  ...  Anti-social behaviour  E01010718  West Yorkshire\n",
              "3  E010111A1  2019   1  ...  Anti-social behaviour  E01010718  West Yorkshire\n",
              "4  E010111A2  2019   1  ...  Anti-social behaviour  E01010718  West Yorkshire\n",
              "\n",
              "[5 rows x 9 columns]"
            ]
          },
          "metadata": {
            "tags": []
          },
          "execution_count": 27
        }
      ]
    },
    {
      "cell_type": "markdown",
      "metadata": {
        "id": "MfNVpgUKMbv4",
        "colab_type": "text"
      },
      "source": [
        "## Outputting from Colabs\n",
        "\n",
        "Data produced can now be exported as a .csv for use in the agent-based model."
      ]
    },
    {
      "cell_type": "code",
      "metadata": {
        "id": "5vsuEZ0M_45L",
        "colab_type": "code",
        "colab": {}
      },
      "source": [
        "synth_counts_des.to_csv('synthetic_day_reports.csv')"
      ],
      "execution_count": 0,
      "outputs": []
    },
    {
      "cell_type": "code",
      "metadata": {
        "id": "qZoC_LCBL7Gn",
        "colab_type": "code",
        "colab": {}
      },
      "source": [
        "from google.colab import files\n",
        "\n",
        "files.download('synthetic_day_reports.csv')"
      ],
      "execution_count": 0,
      "outputs": []
    },
    {
      "cell_type": "code",
      "metadata": {
        "id": "h_Riqh7sOxOy",
        "colab_type": "code",
        "colab": {}
      },
      "source": [
        ""
      ],
      "execution_count": 0,
      "outputs": []
    }
  ]
}