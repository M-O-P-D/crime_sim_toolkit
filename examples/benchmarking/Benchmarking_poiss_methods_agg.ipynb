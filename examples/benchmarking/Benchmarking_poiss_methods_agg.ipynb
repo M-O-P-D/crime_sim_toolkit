{
  "nbformat": 4,
  "nbformat_minor": 0,
  "metadata": {
    "colab": {
      "name": "Benchmarking_poiss_methods_agg.ipynb",
      "provenance": [],
      "collapsed_sections": [],
      "include_colab_link": true
    },
    "kernelspec": {
      "name": "python3",
      "display_name": "Python 3"
    }
  },
  "cells": [
    {
      "cell_type": "markdown",
      "metadata": {
        "id": "view-in-github",
        "colab_type": "text"
      },
      "source": [
        "<a href=\"https://colab.research.google.com/github/Sparrow0hawk/crime_sim_toolkit/blob/develop-mv-datetime/examples/benchmarking/Benchmarking_poiss_methods_agg.ipynb\" target=\"_parent\"><img src=\"https://colab.research.google.com/assets/colab-badge.svg\" alt=\"Open In Colab\"/></a>"
      ]
    },
    {
      "cell_type": "markdown",
      "metadata": {
        "id": "XgFA3CtTbiwQ",
        "colab_type": "text"
      },
      "source": [
        "# Notebook for benchmarking SimplePoisson methods\n",
        "\n",
        "Benchmarking the different simplePoisson methods when data is aggregated to force area.\n",
        "\n",
        "\n"
      ]
    },
    {
      "cell_type": "code",
      "metadata": {
        "id": "Aha_nz-SRX56",
        "colab_type": "code",
        "outputId": "c4ba8d60-b759-4aeb-868e-ad72d6bef929",
        "colab": {
          "base_uri": "https://localhost:8080/",
          "height": 156
        }
      },
      "source": [
        "%cd ~/\n",
        "\n",
        "! git clone --single-branch --branch develop-datetime-mw  https://github.com/Sparrow0hawk/crime_sim_toolkit.git"
      ],
      "execution_count": 1,
      "outputs": [
        {
          "output_type": "stream",
          "text": [
            "/root\n",
            "Cloning into 'crime_sim_toolkit'...\n",
            "remote: Enumerating objects: 313, done.\u001b[K\n",
            "remote: Counting objects: 100% (313/313), done.\u001b[K\n",
            "remote: Compressing objects: 100% (139/139), done.\u001b[K\n",
            "remote: Total 980 (delta 222), reused 254 (delta 174), pack-reused 667\u001b[K\n",
            "Receiving objects: 100% (980/980), 49.12 MiB | 32.41 MiB/s, done.\n",
            "Resolving deltas: 100% (626/626), done.\n"
          ],
          "name": "stdout"
        }
      ]
    },
    {
      "cell_type": "code",
      "metadata": {
        "id": "J6ezywTXRnbX",
        "colab_type": "code",
        "outputId": "7255eaed-4834-4265-8d62-ede18e52290a",
        "colab": {
          "base_uri": "https://localhost:8080/",
          "height": 330
        }
      },
      "source": [
        "%cd ~/crime_sim_toolkit\n",
        "\n",
        "!pip install -q -r requirements.txt"
      ],
      "execution_count": 2,
      "outputs": [
        {
          "output_type": "stream",
          "text": [
            "/root/crime_sim_toolkit\n",
            "\u001b[K     |████████████████████████████████| 215kB 4.0MB/s \n",
            "\u001b[K     |████████████████████████████████| 92kB 28.5MB/s \n",
            "\u001b[K     |████████████████████████████████| 13.1MB 49.7MB/s \n",
            "\u001b[K     |████████████████████████████████| 20.4MB 43.2MB/s \n",
            "\u001b[K     |████████████████████████████████| 10.5MB 28.0MB/s \n",
            "\u001b[K     |████████████████████████████████| 235kB 57.6MB/s \n",
            "\u001b[K     |████████████████████████████████| 512kB 56.5MB/s \n",
            "\u001b[K     |████████████████████████████████| 61kB 25.0MB/s \n",
            "\u001b[K     |████████████████████████████████| 25.2MB 1.2MB/s \n",
            "\u001b[K     |████████████████████████████████| 153kB 38.2MB/s \n",
            "\u001b[31mERROR: kaggle 1.5.5 has requirement urllib3<1.25,>=1.21.1, but you'll have urllib3 1.25.3 which is incompatible.\u001b[0m\n",
            "\u001b[31mERROR: google-colab 1.0.0 has requirement pandas~=0.24.0, but you'll have pandas 0.25.0 which is incompatible.\u001b[0m\n",
            "\u001b[31mERROR: google-colab 1.0.0 has requirement requests~=2.21.0, but you'll have requests 2.22.0 which is incompatible.\u001b[0m\n",
            "\u001b[31mERROR: datascience 0.10.6 has requirement coverage==3.7.1, but you'll have coverage 4.5.4 which is incompatible.\u001b[0m\n",
            "\u001b[31mERROR: datascience 0.10.6 has requirement folium==0.2.1, but you'll have folium 0.10.0 which is incompatible.\u001b[0m\n",
            "\u001b[31mERROR: coveralls 0.5 has requirement coverage<3.999,>=3.6, but you'll have coverage 4.5.4 which is incompatible.\u001b[0m\n",
            "\u001b[31mERROR: albumentations 0.1.12 has requirement imgaug<0.2.7,>=0.2.5, but you'll have imgaug 0.2.9 which is incompatible.\u001b[0m\n",
            "\u001b[?25h"
          ],
          "name": "stdout"
        }
      ]
    },
    {
      "cell_type": "markdown",
      "metadata": {
        "id": "3Nf4DMs2YRkE",
        "colab_type": "text"
      },
      "source": [
        "# RESTART RUNTIME"
      ]
    },
    {
      "cell_type": "code",
      "metadata": {
        "id": "bD-ZF-Hya4Lq",
        "colab_type": "code",
        "outputId": "83588dc1-146a-4307-bb19-8a862e773852",
        "colab": {
          "base_uri": "https://localhost:8080/",
          "height": 69
        }
      },
      "source": [
        "%cd ~/crime_sim_toolkit\n",
        "\n",
        "!python setup.py -q install"
      ],
      "execution_count": 2,
      "outputs": [
        {
          "output_type": "stream",
          "text": [
            "/root/crime_sim_toolkit\n",
            "/usr/lib/python3.6/distutils/dist.py:261: UserWarning: Unknown distribution option: 'lisence'\n",
            "  warnings.warn(msg)\n"
          ],
          "name": "stdout"
        }
      ]
    },
    {
      "cell_type": "markdown",
      "metadata": {
        "id": "AFxm7U4JmFNy",
        "colab_type": "text"
      },
      "source": [
        "## Loading data\n",
        "\n",
        "Using data from a [custom dowload](https://data.police.uk/data/) from Police Data UK we can load that data, covert it to counts by crime_type by LSOA by psuedo Week/Day by passing the directory to the Poisson_sim function.\n",
        "\n",
        "Sample data used here is included within the [github repository](https://github.com/Sparrow0hawk/crime_sim_toolkit/tree/master/sample_data) and covers January-June from 2017-2019."
      ]
    },
    {
      "cell_type": "code",
      "metadata": {
        "id": "Ie_tNRIYSFTe",
        "colab_type": "code",
        "outputId": "a3cc931b-288d-4fd1-bb92-dbc58d4b6796",
        "colab": {
          "base_uri": "https://localhost:8080/",
          "height": 139
        }
      },
      "source": [
        "import crime_sim_toolkit.poisson_sim as Poisson_sim\n",
        "\n",
        "\n",
        "sim_week = Poisson_sim.Poisson_sim(\n",
        "                               # because of the data passed these are the LA we want\n",
        "                               LA_names=['Kirklees','Calderdale','Leeds','Bradford','Wakefield'], \n",
        "                               directory='/root/crime_sim_toolkit/sample_data',\n",
        "                               # this can either be Day or Week\n",
        "                               timeframe='Day',\n",
        "                               aggregate=True)"
      ],
      "execution_count": 3,
      "outputs": [
        {
          "output_type": "stream",
          "text": [
            " \n",
            "Fetching count data from police reports.\n",
            "Sit back and have a brew, this may take sometime.\n",
            " \n",
            "Number of data files found:  18\n",
            "Psuedo days allocated to all reports.\n",
            "Datetime column configured.\n"
          ],
          "name": "stdout"
        }
      ]
    },
    {
      "cell_type": "code",
      "metadata": {
        "id": "19KyR5ZObINn",
        "colab_type": "code",
        "outputId": "4ee25d86-ac9d-4aa5-e118-922d11d73944",
        "colab": {
          "base_uri": "https://localhost:8080/",
          "height": 206
        }
      },
      "source": [
        "sim_week.data.head()"
      ],
      "execution_count": 4,
      "outputs": [
        {
          "output_type": "execute_result",
          "data": {
            "text/html": [
              "<div>\n",
              "<style scoped>\n",
              "    .dataframe tbody tr th:only-of-type {\n",
              "        vertical-align: middle;\n",
              "    }\n",
              "\n",
              "    .dataframe tbody tr th {\n",
              "        vertical-align: top;\n",
              "    }\n",
              "\n",
              "    .dataframe thead th {\n",
              "        text-align: right;\n",
              "    }\n",
              "</style>\n",
              "<table border=\"1\" class=\"dataframe\">\n",
              "  <thead>\n",
              "    <tr style=\"text-align: right;\">\n",
              "      <th></th>\n",
              "      <th>datetime</th>\n",
              "      <th>Crime_type</th>\n",
              "      <th>LSOA_code</th>\n",
              "      <th>Counts</th>\n",
              "    </tr>\n",
              "  </thead>\n",
              "  <tbody>\n",
              "    <tr>\n",
              "      <th>0</th>\n",
              "      <td>2017-01-01</td>\n",
              "      <td>Anti-social behaviour</td>\n",
              "      <td>West Yorkshire</td>\n",
              "      <td>153</td>\n",
              "    </tr>\n",
              "    <tr>\n",
              "      <th>1</th>\n",
              "      <td>2017-01-01</td>\n",
              "      <td>Bicycle theft</td>\n",
              "      <td>West Yorkshire</td>\n",
              "      <td>4</td>\n",
              "    </tr>\n",
              "    <tr>\n",
              "      <th>2</th>\n",
              "      <td>2017-01-01</td>\n",
              "      <td>Burglary</td>\n",
              "      <td>West Yorkshire</td>\n",
              "      <td>86</td>\n",
              "    </tr>\n",
              "    <tr>\n",
              "      <th>3</th>\n",
              "      <td>2017-01-01</td>\n",
              "      <td>Criminal damage and arson</td>\n",
              "      <td>West Yorkshire</td>\n",
              "      <td>71</td>\n",
              "    </tr>\n",
              "    <tr>\n",
              "      <th>4</th>\n",
              "      <td>2017-01-01</td>\n",
              "      <td>Drugs</td>\n",
              "      <td>West Yorkshire</td>\n",
              "      <td>11</td>\n",
              "    </tr>\n",
              "  </tbody>\n",
              "</table>\n",
              "</div>"
            ],
            "text/plain": [
              "    datetime                 Crime_type       LSOA_code  Counts\n",
              "0 2017-01-01      Anti-social behaviour  West Yorkshire     153\n",
              "1 2017-01-01              Bicycle theft  West Yorkshire       4\n",
              "2 2017-01-01                   Burglary  West Yorkshire      86\n",
              "3 2017-01-01  Criminal damage and arson  West Yorkshire      71\n",
              "4 2017-01-01                      Drugs  West Yorkshire      11"
            ]
          },
          "metadata": {
            "tags": []
          },
          "execution_count": 4
        }
      ]
    },
    {
      "cell_type": "markdown",
      "metadata": {
        "id": "KDBak64uMxC1",
        "colab_type": "text"
      },
      "source": [
        "## Sampling new data\n",
        "\n",
        "Based on the loaded data we can now create an out of bag sample and use the poisson sampler to generate crime reports based on historic reports to be compared to the out of bag sample."
      ]
    },
    {
      "cell_type": "code",
      "metadata": {
        "id": "Q4b95m66HZoM",
        "colab_type": "code",
        "outputId": "447d8213-4ce2-4768-d6ac-3afa0090a2e0",
        "colab": {
          "base_uri": "https://localhost:8080/",
          "height": 69
        }
      },
      "source": [
        "test_data = sim_week.out_of_bag_prep(sim_week.data)\n",
        "\n",
        "train_data = sim_week.oob_train_split(sim_week.data, test_data)\n"
      ],
      "execution_count": 5,
      "outputs": [
        {
          "output_type": "stream",
          "text": [
            "Datetime column configured.\n",
            "Datetime column configured.\n",
            "Datetime column configured.\n"
          ],
          "name": "stdout"
        }
      ]
    },
    {
      "cell_type": "markdown",
      "metadata": {
        "id": "B1KGBQJrVCGu",
        "colab_type": "text"
      },
      "source": [
        "## Benchmarking for simple method"
      ]
    },
    {
      "cell_type": "code",
      "metadata": {
        "id": "z7AH_nrS764G",
        "colab_type": "code",
        "outputId": "85c81157-7a39-4e3a-edca-bef642523d5c",
        "colab": {
          "base_uri": "https://localhost:8080/",
          "height": 1000
        }
      },
      "source": [
        "%%time\n",
        "\n",
        "# can use alternate methods for simulator \n",
        "# method dict for sampling approaches\n",
        "        # simple : fits a poisson based on all data passed\n",
        "        # mixed : fits a poisson and linear model and calulates mean counts from both models\n",
        "        # zero : drops zeroes before fitting poisson unless all zero\n",
        "      \n",
        "datat = sim_week.SimplePoission(train_data, test_data, method='simple', mv_window=0)"
      ],
      "execution_count": 6,
      "outputs": [
        {
          "output_type": "stream",
          "text": [
            "Datetime column configured.\n",
            "Datetime column configured.\n",
            "Time resolution set to:  datetime\n",
            "Beginning sampling.\n",
            "Simulating datetime: 2019-01-01 00:00:00\n",
            "Simulating datetime: 2019-01-02 00:00:00\n",
            "Simulating datetime: 2019-01-03 00:00:00\n",
            "Simulating datetime: 2019-01-04 00:00:00\n",
            "Simulating datetime: 2019-01-05 00:00:00\n",
            "Simulating datetime: 2019-01-06 00:00:00\n",
            "Simulating datetime: 2019-01-07 00:00:00\n",
            "Simulating datetime: 2019-01-08 00:00:00\n",
            "Simulating datetime: 2019-01-09 00:00:00\n",
            "Simulating datetime: 2019-01-10 00:00:00\n",
            "Simulating datetime: 2019-01-11 00:00:00\n",
            "Simulating datetime: 2019-01-12 00:00:00\n",
            "Simulating datetime: 2019-01-13 00:00:00\n",
            "Simulating datetime: 2019-01-14 00:00:00\n",
            "Simulating datetime: 2019-01-15 00:00:00\n",
            "Simulating datetime: 2019-01-16 00:00:00\n",
            "Simulating datetime: 2019-01-17 00:00:00\n",
            "Simulating datetime: 2019-01-18 00:00:00\n",
            "Simulating datetime: 2019-01-19 00:00:00\n",
            "Simulating datetime: 2019-01-20 00:00:00\n",
            "Simulating datetime: 2019-01-21 00:00:00\n",
            "Simulating datetime: 2019-01-22 00:00:00\n",
            "Simulating datetime: 2019-01-23 00:00:00\n",
            "Simulating datetime: 2019-01-24 00:00:00\n",
            "Simulating datetime: 2019-01-25 00:00:00\n",
            "Simulating datetime: 2019-01-26 00:00:00\n",
            "Simulating datetime: 2019-01-27 00:00:00\n",
            "Simulating datetime: 2019-01-28 00:00:00\n",
            "Simulating datetime: 2019-01-29 00:00:00\n",
            "Simulating datetime: 2019-01-30 00:00:00\n",
            "Simulating datetime: 2019-01-31 00:00:00\n",
            "Simulating datetime: 2019-02-01 00:00:00\n",
            "Simulating datetime: 2019-02-02 00:00:00\n",
            "Simulating datetime: 2019-02-03 00:00:00\n",
            "Simulating datetime: 2019-02-04 00:00:00\n",
            "Simulating datetime: 2019-02-05 00:00:00\n",
            "Simulating datetime: 2019-02-06 00:00:00\n",
            "Simulating datetime: 2019-02-07 00:00:00\n",
            "Simulating datetime: 2019-02-08 00:00:00\n",
            "Simulating datetime: 2019-02-09 00:00:00\n",
            "Simulating datetime: 2019-02-10 00:00:00\n",
            "Simulating datetime: 2019-02-11 00:00:00\n",
            "Simulating datetime: 2019-02-12 00:00:00\n",
            "Simulating datetime: 2019-02-13 00:00:00\n",
            "Simulating datetime: 2019-02-14 00:00:00\n",
            "Simulating datetime: 2019-02-15 00:00:00\n",
            "Simulating datetime: 2019-02-16 00:00:00\n",
            "Simulating datetime: 2019-02-17 00:00:00\n",
            "Simulating datetime: 2019-02-18 00:00:00\n",
            "Simulating datetime: 2019-02-19 00:00:00\n",
            "Simulating datetime: 2019-02-20 00:00:00\n",
            "Simulating datetime: 2019-02-21 00:00:00\n",
            "Simulating datetime: 2019-02-22 00:00:00\n",
            "Simulating datetime: 2019-02-23 00:00:00\n",
            "Simulating datetime: 2019-02-24 00:00:00\n",
            "Simulating datetime: 2019-02-25 00:00:00\n",
            "Simulating datetime: 2019-02-26 00:00:00\n",
            "Simulating datetime: 2019-02-27 00:00:00\n",
            "Simulating datetime: 2019-02-28 00:00:00\n",
            "Simulating datetime: 2019-03-01 00:00:00\n",
            "Simulating datetime: 2019-03-02 00:00:00\n",
            "Simulating datetime: 2019-03-03 00:00:00\n",
            "Simulating datetime: 2019-03-04 00:00:00\n",
            "Simulating datetime: 2019-03-05 00:00:00\n",
            "Simulating datetime: 2019-03-06 00:00:00\n",
            "Simulating datetime: 2019-03-07 00:00:00\n",
            "Simulating datetime: 2019-03-08 00:00:00\n",
            "Simulating datetime: 2019-03-09 00:00:00\n",
            "Simulating datetime: 2019-03-10 00:00:00\n",
            "Simulating datetime: 2019-03-11 00:00:00\n",
            "Simulating datetime: 2019-03-12 00:00:00\n",
            "Simulating datetime: 2019-03-13 00:00:00\n",
            "Simulating datetime: 2019-03-14 00:00:00\n",
            "Simulating datetime: 2019-03-15 00:00:00\n",
            "Simulating datetime: 2019-03-16 00:00:00\n",
            "Simulating datetime: 2019-03-17 00:00:00\n",
            "Simulating datetime: 2019-03-18 00:00:00\n",
            "Simulating datetime: 2019-03-19 00:00:00\n",
            "Simulating datetime: 2019-03-20 00:00:00\n",
            "Simulating datetime: 2019-03-21 00:00:00\n",
            "Simulating datetime: 2019-03-22 00:00:00\n",
            "Simulating datetime: 2019-03-23 00:00:00\n",
            "Simulating datetime: 2019-03-24 00:00:00\n",
            "Simulating datetime: 2019-03-25 00:00:00\n",
            "Simulating datetime: 2019-03-26 00:00:00\n",
            "Simulating datetime: 2019-03-27 00:00:00\n",
            "Simulating datetime: 2019-03-28 00:00:00\n",
            "Simulating datetime: 2019-03-29 00:00:00\n",
            "Simulating datetime: 2019-03-30 00:00:00\n",
            "Simulating datetime: 2019-03-31 00:00:00\n",
            "Simulating datetime: 2019-04-01 00:00:00\n",
            "Simulating datetime: 2019-04-02 00:00:00\n",
            "Simulating datetime: 2019-04-03 00:00:00\n",
            "Simulating datetime: 2019-04-04 00:00:00\n",
            "Simulating datetime: 2019-04-05 00:00:00\n",
            "Simulating datetime: 2019-04-06 00:00:00\n",
            "Simulating datetime: 2019-04-07 00:00:00\n",
            "Simulating datetime: 2019-04-08 00:00:00\n",
            "Simulating datetime: 2019-04-09 00:00:00\n",
            "Simulating datetime: 2019-04-10 00:00:00\n",
            "Simulating datetime: 2019-04-11 00:00:00\n",
            "Simulating datetime: 2019-04-12 00:00:00\n",
            "Simulating datetime: 2019-04-13 00:00:00\n",
            "Simulating datetime: 2019-04-14 00:00:00\n",
            "Simulating datetime: 2019-04-15 00:00:00\n",
            "Simulating datetime: 2019-04-16 00:00:00\n",
            "Simulating datetime: 2019-04-17 00:00:00\n",
            "Simulating datetime: 2019-04-18 00:00:00\n",
            "Simulating datetime: 2019-04-19 00:00:00\n",
            "Simulating datetime: 2019-04-20 00:00:00\n",
            "Simulating datetime: 2019-04-21 00:00:00\n",
            "Simulating datetime: 2019-04-22 00:00:00\n",
            "Simulating datetime: 2019-04-23 00:00:00\n",
            "Simulating datetime: 2019-04-24 00:00:00\n",
            "Simulating datetime: 2019-04-25 00:00:00\n",
            "Simulating datetime: 2019-04-26 00:00:00\n",
            "Simulating datetime: 2019-04-27 00:00:00\n",
            "Simulating datetime: 2019-04-28 00:00:00\n",
            "Simulating datetime: 2019-04-29 00:00:00\n",
            "Simulating datetime: 2019-04-30 00:00:00\n",
            "Simulating datetime: 2019-05-01 00:00:00\n",
            "Simulating datetime: 2019-05-02 00:00:00\n",
            "Simulating datetime: 2019-05-03 00:00:00\n",
            "Simulating datetime: 2019-05-04 00:00:00\n",
            "Simulating datetime: 2019-05-05 00:00:00\n",
            "Simulating datetime: 2019-05-06 00:00:00\n",
            "Simulating datetime: 2019-05-07 00:00:00\n",
            "Simulating datetime: 2019-05-08 00:00:00\n",
            "Simulating datetime: 2019-05-09 00:00:00\n",
            "Simulating datetime: 2019-05-10 00:00:00\n",
            "Simulating datetime: 2019-05-11 00:00:00\n",
            "Simulating datetime: 2019-05-12 00:00:00\n",
            "Simulating datetime: 2019-05-13 00:00:00\n",
            "Simulating datetime: 2019-05-14 00:00:00\n",
            "Simulating datetime: 2019-05-15 00:00:00\n",
            "Simulating datetime: 2019-05-16 00:00:00\n",
            "Simulating datetime: 2019-05-17 00:00:00\n",
            "Simulating datetime: 2019-05-18 00:00:00\n",
            "Simulating datetime: 2019-05-19 00:00:00\n",
            "Simulating datetime: 2019-05-20 00:00:00\n",
            "Simulating datetime: 2019-05-21 00:00:00\n",
            "Simulating datetime: 2019-05-22 00:00:00\n",
            "Simulating datetime: 2019-05-23 00:00:00\n",
            "Simulating datetime: 2019-05-24 00:00:00\n",
            "Simulating datetime: 2019-05-25 00:00:00\n",
            "Simulating datetime: 2019-05-26 00:00:00\n",
            "Simulating datetime: 2019-05-27 00:00:00\n",
            "Simulating datetime: 2019-05-28 00:00:00\n",
            "Simulating datetime: 2019-05-29 00:00:00\n",
            "Simulating datetime: 2019-05-30 00:00:00\n",
            "Simulating datetime: 2019-05-31 00:00:00\n",
            "Simulating datetime: 2019-06-01 00:00:00\n",
            "Simulating datetime: 2019-06-02 00:00:00\n",
            "Simulating datetime: 2019-06-03 00:00:00\n",
            "Simulating datetime: 2019-06-04 00:00:00\n",
            "Simulating datetime: 2019-06-05 00:00:00\n",
            "Simulating datetime: 2019-06-06 00:00:00\n",
            "Simulating datetime: 2019-06-07 00:00:00\n",
            "Simulating datetime: 2019-06-08 00:00:00\n",
            "Simulating datetime: 2019-06-09 00:00:00\n",
            "Simulating datetime: 2019-06-10 00:00:00\n",
            "Simulating datetime: 2019-06-11 00:00:00\n",
            "Simulating datetime: 2019-06-12 00:00:00\n",
            "Simulating datetime: 2019-06-13 00:00:00\n",
            "Simulating datetime: 2019-06-14 00:00:00\n",
            "Simulating datetime: 2019-06-15 00:00:00\n",
            "Simulating datetime: 2019-06-16 00:00:00\n",
            "Simulating datetime: 2019-06-17 00:00:00\n",
            "Simulating datetime: 2019-06-18 00:00:00\n",
            "Simulating datetime: 2019-06-19 00:00:00\n",
            "Simulating datetime: 2019-06-20 00:00:00\n",
            "Simulating datetime: 2019-06-21 00:00:00\n",
            "Simulating datetime: 2019-06-22 00:00:00\n",
            "Simulating datetime: 2019-06-23 00:00:00\n",
            "Simulating datetime: 2019-06-24 00:00:00\n",
            "Simulating datetime: 2019-06-25 00:00:00\n",
            "Simulating datetime: 2019-06-26 00:00:00\n",
            "Simulating datetime: 2019-06-27 00:00:00\n",
            "Simulating datetime: 2019-06-28 00:00:00\n",
            "Simulating datetime: 2019-06-29 00:00:00\n",
            "Simulating datetime: 2019-06-30 00:00:00\n",
            "CPU times: user 14 s, sys: 58 ms, total: 14 s\n",
            "Wall time: 14 s\n"
          ],
          "name": "stdout"
        }
      ]
    },
    {
      "cell_type": "code",
      "metadata": {
        "id": "1ftp96WS7-dR",
        "colab_type": "code",
        "outputId": "a13e2e72-1eef-458e-d753-644b8e12f012",
        "colab": {
          "base_uri": "https://localhost:8080/",
          "height": 453
        }
      },
      "source": [
        "diff_table = sim_week.error_Reporting(test_data=test_data, simulated_data=datat)"
      ],
      "execution_count": 7,
      "outputs": [
        {
          "output_type": "stream",
          "text": [
            "Datetime column configured.\n",
            "Datetime column configured.\n",
            "Root mean squared error of poisson sampler:  70.0\n",
            "Mean absolute error:  57.6\n",
            "Median absolute error:  49.0\n",
            "-----------\n",
            "Total simulated crime events:  154409\n",
            "Total crime events in holdout data:  161391\n",
            "Undersampling by:  -4.300000000000004 %\n",
            "-------\n"
          ],
          "name": "stdout"
        },
        {
          "output_type": "display_data",
          "data": {
            "image/png": "[encoded data removed]",
            "text/plain": [
              "<Figure size 432x288 with 1 Axes>"
            ]
          },
          "metadata": {
            "tags": []
          }
        }
      ]
    },
    {
      "cell_type": "markdown",
      "metadata": {
        "id": "5GU8eHb-VH9d",
        "colab_type": "text"
      },
      "source": [
        "## Benchmarking for zero method"
      ]
    },
    {
      "cell_type": "code",
      "metadata": {
        "id": "TfFrb8MghxuP",
        "colab_type": "code",
        "outputId": "6b2f7425-ed2f-415f-a2ea-479b9766515c",
        "colab": {
          "base_uri": "https://localhost:8080/",
          "height": 1000
        }
      },
      "source": [
        "%%time\n",
        "\n",
        "# can use alternate methods for simulator \n",
        "# method dict for sampling approaches\n",
        "        # simple : fits a poisson based on all data passed\n",
        "        # mixed : fits a poisson and linear model and calulates mean counts from both models\n",
        "        # zero : drops zeroes before fitting poisson unless all zero\n",
        "      \n",
        "datat = sim_week.SimplePoission(train_data, test_data, method='zero', mv_window=0)"
      ],
      "execution_count": 8,
      "outputs": [
        {
          "output_type": "stream",
          "text": [
            "Datetime column configured.\n",
            "Datetime column configured.\n",
            "Time resolution set to:  datetime\n",
            "Beginning sampling.\n",
            "Simulating datetime: 2019-01-01 00:00:00\n",
            "Simulating datetime: 2019-01-02 00:00:00\n",
            "Simulating datetime: 2019-01-03 00:00:00\n",
            "Simulating datetime: 2019-01-04 00:00:00\n",
            "Simulating datetime: 2019-01-05 00:00:00\n",
            "Simulating datetime: 2019-01-06 00:00:00\n",
            "Simulating datetime: 2019-01-07 00:00:00\n",
            "Simulating datetime: 2019-01-08 00:00:00\n",
            "Simulating datetime: 2019-01-09 00:00:00\n",
            "Simulating datetime: 2019-01-10 00:00:00\n",
            "Simulating datetime: 2019-01-11 00:00:00\n",
            "Simulating datetime: 2019-01-12 00:00:00\n",
            "Simulating datetime: 2019-01-13 00:00:00\n",
            "Simulating datetime: 2019-01-14 00:00:00\n",
            "Simulating datetime: 2019-01-15 00:00:00\n",
            "Simulating datetime: 2019-01-16 00:00:00\n",
            "Simulating datetime: 2019-01-17 00:00:00\n",
            "Simulating datetime: 2019-01-18 00:00:00\n",
            "Simulating datetime: 2019-01-19 00:00:00\n",
            "Simulating datetime: 2019-01-20 00:00:00\n",
            "Simulating datetime: 2019-01-21 00:00:00\n",
            "Simulating datetime: 2019-01-22 00:00:00\n",
            "Simulating datetime: 2019-01-23 00:00:00\n",
            "Simulating datetime: 2019-01-24 00:00:00\n",
            "Simulating datetime: 2019-01-25 00:00:00\n",
            "Simulating datetime: 2019-01-26 00:00:00\n",
            "Simulating datetime: 2019-01-27 00:00:00\n",
            "Simulating datetime: 2019-01-28 00:00:00\n",
            "Simulating datetime: 2019-01-29 00:00:00\n",
            "Simulating datetime: 2019-01-30 00:00:00\n",
            "Simulating datetime: 2019-01-31 00:00:00\n",
            "Simulating datetime: 2019-02-01 00:00:00\n",
            "Simulating datetime: 2019-02-02 00:00:00\n",
            "Simulating datetime: 2019-02-03 00:00:00\n",
            "Simulating datetime: 2019-02-04 00:00:00\n",
            "Simulating datetime: 2019-02-05 00:00:00\n",
            "Simulating datetime: 2019-02-06 00:00:00\n",
            "Simulating datetime: 2019-02-07 00:00:00\n",
            "Simulating datetime: 2019-02-08 00:00:00\n",
            "Simulating datetime: 2019-02-09 00:00:00\n",
            "Simulating datetime: 2019-02-10 00:00:00\n",
            "Simulating datetime: 2019-02-11 00:00:00\n",
            "Simulating datetime: 2019-02-12 00:00:00\n",
            "Simulating datetime: 2019-02-13 00:00:00\n",
            "Simulating datetime: 2019-02-14 00:00:00\n",
            "Simulating datetime: 2019-02-15 00:00:00\n",
            "Simulating datetime: 2019-02-16 00:00:00\n",
            "Simulating datetime: 2019-02-17 00:00:00\n",
            "Simulating datetime: 2019-02-18 00:00:00\n",
            "Simulating datetime: 2019-02-19 00:00:00\n",
            "Simulating datetime: 2019-02-20 00:00:00\n",
            "Simulating datetime: 2019-02-21 00:00:00\n",
            "Simulating datetime: 2019-02-22 00:00:00\n",
            "Simulating datetime: 2019-02-23 00:00:00\n",
            "Simulating datetime: 2019-02-24 00:00:00\n",
            "Simulating datetime: 2019-02-25 00:00:00\n",
            "Simulating datetime: 2019-02-26 00:00:00\n",
            "Simulating datetime: 2019-02-27 00:00:00\n",
            "Simulating datetime: 2019-02-28 00:00:00\n",
            "Simulating datetime: 2019-03-01 00:00:00\n",
            "Simulating datetime: 2019-03-02 00:00:00\n",
            "Simulating datetime: 2019-03-03 00:00:00\n",
            "Simulating datetime: 2019-03-04 00:00:00\n",
            "Simulating datetime: 2019-03-05 00:00:00\n",
            "Simulating datetime: 2019-03-06 00:00:00\n",
            "Simulating datetime: 2019-03-07 00:00:00\n",
            "Simulating datetime: 2019-03-08 00:00:00\n",
            "Simulating datetime: 2019-03-09 00:00:00\n",
            "Simulating datetime: 2019-03-10 00:00:00\n",
            "Simulating datetime: 2019-03-11 00:00:00\n",
            "Simulating datetime: 2019-03-12 00:00:00\n",
            "Simulating datetime: 2019-03-13 00:00:00\n",
            "Simulating datetime: 2019-03-14 00:00:00\n",
            "Simulating datetime: 2019-03-15 00:00:00\n",
            "Simulating datetime: 2019-03-16 00:00:00\n",
            "Simulating datetime: 2019-03-17 00:00:00\n",
            "Simulating datetime: 2019-03-18 00:00:00\n",
            "Simulating datetime: 2019-03-19 00:00:00\n",
            "Simulating datetime: 2019-03-20 00:00:00\n",
            "Simulating datetime: 2019-03-21 00:00:00\n",
            "Simulating datetime: 2019-03-22 00:00:00\n",
            "Simulating datetime: 2019-03-23 00:00:00\n",
            "Simulating datetime: 2019-03-24 00:00:00\n",
            "Simulating datetime: 2019-03-25 00:00:00\n",
            "Simulating datetime: 2019-03-26 00:00:00\n",
            "Simulating datetime: 2019-03-27 00:00:00\n",
            "Simulating datetime: 2019-03-28 00:00:00\n",
            "Simulating datetime: 2019-03-29 00:00:00\n",
            "Simulating datetime: 2019-03-30 00:00:00\n",
            "Simulating datetime: 2019-03-31 00:00:00\n",
            "Simulating datetime: 2019-04-01 00:00:00\n",
            "Simulating datetime: 2019-04-02 00:00:00\n",
            "Simulating datetime: 2019-04-03 00:00:00\n",
            "Simulating datetime: 2019-04-04 00:00:00\n",
            "Simulating datetime: 2019-04-05 00:00:00\n",
            "Simulating datetime: 2019-04-06 00:00:00\n",
            "Simulating datetime: 2019-04-07 00:00:00\n",
            "Simulating datetime: 2019-04-08 00:00:00\n",
            "Simulating datetime: 2019-04-09 00:00:00\n",
            "Simulating datetime: 2019-04-10 00:00:00\n",
            "Simulating datetime: 2019-04-11 00:00:00\n",
            "Simulating datetime: 2019-04-12 00:00:00\n",
            "Simulating datetime: 2019-04-13 00:00:00\n",
            "Simulating datetime: 2019-04-14 00:00:00\n",
            "Simulating datetime: 2019-04-15 00:00:00\n",
            "Simulating datetime: 2019-04-16 00:00:00\n",
            "Simulating datetime: 2019-04-17 00:00:00\n",
            "Simulating datetime: 2019-04-18 00:00:00\n",
            "Simulating datetime: 2019-04-19 00:00:00\n",
            "Simulating datetime: 2019-04-20 00:00:00\n",
            "Simulating datetime: 2019-04-21 00:00:00\n",
            "Simulating datetime: 2019-04-22 00:00:00\n",
            "Simulating datetime: 2019-04-23 00:00:00\n",
            "Simulating datetime: 2019-04-24 00:00:00\n",
            "Simulating datetime: 2019-04-25 00:00:00\n",
            "Simulating datetime: 2019-04-26 00:00:00\n",
            "Simulating datetime: 2019-04-27 00:00:00\n",
            "Simulating datetime: 2019-04-28 00:00:00\n",
            "Simulating datetime: 2019-04-29 00:00:00\n",
            "Simulating datetime: 2019-04-30 00:00:00\n",
            "Simulating datetime: 2019-05-01 00:00:00\n",
            "Simulating datetime: 2019-05-02 00:00:00\n",
            "Simulating datetime: 2019-05-03 00:00:00\n",
            "Simulating datetime: 2019-05-04 00:00:00\n",
            "Simulating datetime: 2019-05-05 00:00:00\n",
            "Simulating datetime: 2019-05-06 00:00:00\n",
            "Simulating datetime: 2019-05-07 00:00:00\n",
            "Simulating datetime: 2019-05-08 00:00:00\n",
            "Simulating datetime: 2019-05-09 00:00:00\n",
            "Simulating datetime: 2019-05-10 00:00:00\n",
            "Simulating datetime: 2019-05-11 00:00:00\n",
            "Simulating datetime: 2019-05-12 00:00:00\n",
            "Simulating datetime: 2019-05-13 00:00:00\n",
            "Simulating datetime: 2019-05-14 00:00:00\n",
            "Simulating datetime: 2019-05-15 00:00:00\n",
            "Simulating datetime: 2019-05-16 00:00:00\n",
            "Simulating datetime: 2019-05-17 00:00:00\n",
            "Simulating datetime: 2019-05-18 00:00:00\n",
            "Simulating datetime: 2019-05-19 00:00:00\n",
            "Simulating datetime: 2019-05-20 00:00:00\n",
            "Simulating datetime: 2019-05-21 00:00:00\n",
            "Simulating datetime: 2019-05-22 00:00:00\n",
            "Simulating datetime: 2019-05-23 00:00:00\n",
            "Simulating datetime: 2019-05-24 00:00:00\n",
            "Simulating datetime: 2019-05-25 00:00:00\n",
            "Simulating datetime: 2019-05-26 00:00:00\n",
            "Simulating datetime: 2019-05-27 00:00:00\n",
            "Simulating datetime: 2019-05-28 00:00:00\n",
            "Simulating datetime: 2019-05-29 00:00:00\n",
            "Simulating datetime: 2019-05-30 00:00:00\n",
            "Simulating datetime: 2019-05-31 00:00:00\n",
            "Simulating datetime: 2019-06-01 00:00:00\n",
            "Simulating datetime: 2019-06-02 00:00:00\n",
            "Simulating datetime: 2019-06-03 00:00:00\n",
            "Simulating datetime: 2019-06-04 00:00:00\n",
            "Simulating datetime: 2019-06-05 00:00:00\n",
            "Simulating datetime: 2019-06-06 00:00:00\n",
            "Simulating datetime: 2019-06-07 00:00:00\n",
            "Simulating datetime: 2019-06-08 00:00:00\n",
            "Simulating datetime: 2019-06-09 00:00:00\n",
            "Simulating datetime: 2019-06-10 00:00:00\n",
            "Simulating datetime: 2019-06-11 00:00:00\n",
            "Simulating datetime: 2019-06-12 00:00:00\n",
            "Simulating datetime: 2019-06-13 00:00:00\n",
            "Simulating datetime: 2019-06-14 00:00:00\n",
            "Simulating datetime: 2019-06-15 00:00:00\n",
            "Simulating datetime: 2019-06-16 00:00:00\n",
            "Simulating datetime: 2019-06-17 00:00:00\n",
            "Simulating datetime: 2019-06-18 00:00:00\n",
            "Simulating datetime: 2019-06-19 00:00:00\n",
            "Simulating datetime: 2019-06-20 00:00:00\n",
            "Simulating datetime: 2019-06-21 00:00:00\n",
            "Simulating datetime: 2019-06-22 00:00:00\n",
            "Simulating datetime: 2019-06-23 00:00:00\n",
            "Simulating datetime: 2019-06-24 00:00:00\n",
            "Simulating datetime: 2019-06-25 00:00:00\n",
            "Simulating datetime: 2019-06-26 00:00:00\n",
            "Simulating datetime: 2019-06-27 00:00:00\n",
            "Simulating datetime: 2019-06-28 00:00:00\n",
            "Simulating datetime: 2019-06-29 00:00:00\n",
            "Simulating datetime: 2019-06-30 00:00:00\n",
            "CPU times: user 16.6 s, sys: 55.7 ms, total: 16.7 s\n",
            "Wall time: 16.6 s\n"
          ],
          "name": "stdout"
        }
      ]
    },
    {
      "cell_type": "code",
      "metadata": {
        "id": "pEao91Zv791I",
        "colab_type": "code",
        "outputId": "0607ad14-c309-4972-95b7-ad52c14cd041",
        "colab": {
          "base_uri": "https://localhost:8080/",
          "height": 453
        }
      },
      "source": [
        "diff_table = sim_week.error_Reporting(test_data=test_data, simulated_data=datat)"
      ],
      "execution_count": 9,
      "outputs": [
        {
          "output_type": "stream",
          "text": [
            "Datetime column configured.\n",
            "Datetime column configured.\n",
            "Root mean squared error of poisson sampler:  71.7\n",
            "Mean absolute error:  58.6\n",
            "Median absolute error:  48.0\n",
            "-----------\n",
            "Total simulated crime events:  153484\n",
            "Total crime events in holdout data:  161391\n",
            "Undersampling by:  -4.900000000000004 %\n",
            "-------\n"
          ],
          "name": "stdout"
        },
        {
          "output_type": "display_data",
          "data": {
            "image/png": "[encoded data removed]",
            "text/plain": [
              "<Figure size 432x288 with 1 Axes>"
            ]
          },
          "metadata": {
            "tags": []
          }
        }
      ]
    },
    {
      "cell_type": "markdown",
      "metadata": {
        "id": "mIZGoZGGVREW",
        "colab_type": "text"
      },
      "source": [
        "## Benchmarking for mixed method"
      ]
    },
    {
      "cell_type": "code",
      "metadata": {
        "id": "XfW_o6L58AAA",
        "colab_type": "code",
        "outputId": "8930f13f-532b-4868-a67f-f607aceffaf4",
        "colab": {
          "base_uri": "https://localhost:8080/",
          "height": 1000
        }
      },
      "source": [
        "%%time\n",
        "\n",
        "# can use alternate methods for simulator \n",
        "# method dict for sampling approaches\n",
        "        # simple : fits a poisson based on all data passed\n",
        "        # mixed : fits a poisson and linear model and calulates mean counts from both models\n",
        "        # zero : drops zeroes before fitting poisson unless all zero\n",
        "      \n",
        "datat = sim_week.SimplePoission(train_data, test_data, method='mixed', mv_window=0)"
      ],
      "execution_count": 10,
      "outputs": [
        {
          "output_type": "stream",
          "text": [
            "Datetime column configured.\n",
            "Datetime column configured.\n",
            "Time resolution set to:  datetime\n",
            "Beginning sampling.\n",
            "Simulating datetime: 2019-01-01 00:00:00\n",
            "Simulating datetime: 2019-01-02 00:00:00\n",
            "Simulating datetime: 2019-01-03 00:00:00\n",
            "Simulating datetime: 2019-01-04 00:00:00\n",
            "Simulating datetime: 2019-01-05 00:00:00\n",
            "Simulating datetime: 2019-01-06 00:00:00\n",
            "Simulating datetime: 2019-01-07 00:00:00\n",
            "Simulating datetime: 2019-01-08 00:00:00\n",
            "Simulating datetime: 2019-01-09 00:00:00\n",
            "Simulating datetime: 2019-01-10 00:00:00\n",
            "Simulating datetime: 2019-01-11 00:00:00\n",
            "Simulating datetime: 2019-01-12 00:00:00\n",
            "Simulating datetime: 2019-01-13 00:00:00\n",
            "Simulating datetime: 2019-01-14 00:00:00\n",
            "Simulating datetime: 2019-01-15 00:00:00\n",
            "Simulating datetime: 2019-01-16 00:00:00\n",
            "Simulating datetime: 2019-01-17 00:00:00\n",
            "Simulating datetime: 2019-01-18 00:00:00\n",
            "Simulating datetime: 2019-01-19 00:00:00\n",
            "Simulating datetime: 2019-01-20 00:00:00\n",
            "Simulating datetime: 2019-01-21 00:00:00\n",
            "Simulating datetime: 2019-01-22 00:00:00\n",
            "Simulating datetime: 2019-01-23 00:00:00\n",
            "Simulating datetime: 2019-01-24 00:00:00\n",
            "Simulating datetime: 2019-01-25 00:00:00\n",
            "Simulating datetime: 2019-01-26 00:00:00\n",
            "Simulating datetime: 2019-01-27 00:00:00\n",
            "Simulating datetime: 2019-01-28 00:00:00\n",
            "Simulating datetime: 2019-01-29 00:00:00\n",
            "Simulating datetime: 2019-01-30 00:00:00\n",
            "Simulating datetime: 2019-01-31 00:00:00\n",
            "Simulating datetime: 2019-02-01 00:00:00\n",
            "Simulating datetime: 2019-02-02 00:00:00\n",
            "Simulating datetime: 2019-02-03 00:00:00\n",
            "Simulating datetime: 2019-02-04 00:00:00\n",
            "Simulating datetime: 2019-02-05 00:00:00\n",
            "Simulating datetime: 2019-02-06 00:00:00\n",
            "Simulating datetime: 2019-02-07 00:00:00\n",
            "Simulating datetime: 2019-02-08 00:00:00\n",
            "Simulating datetime: 2019-02-09 00:00:00\n",
            "Simulating datetime: 2019-02-10 00:00:00\n",
            "Simulating datetime: 2019-02-11 00:00:00\n",
            "Simulating datetime: 2019-02-12 00:00:00\n",
            "Simulating datetime: 2019-02-13 00:00:00\n",
            "Simulating datetime: 2019-02-14 00:00:00\n",
            "Simulating datetime: 2019-02-15 00:00:00\n",
            "Simulating datetime: 2019-02-16 00:00:00\n",
            "Simulating datetime: 2019-02-17 00:00:00\n",
            "Simulating datetime: 2019-02-18 00:00:00\n",
            "Simulating datetime: 2019-02-19 00:00:00\n",
            "Simulating datetime: 2019-02-20 00:00:00\n",
            "Simulating datetime: 2019-02-21 00:00:00\n",
            "Simulating datetime: 2019-02-22 00:00:00\n",
            "Simulating datetime: 2019-02-23 00:00:00\n",
            "Simulating datetime: 2019-02-24 00:00:00\n",
            "Simulating datetime: 2019-02-25 00:00:00\n",
            "Simulating datetime: 2019-02-26 00:00:00\n",
            "Simulating datetime: 2019-02-27 00:00:00\n",
            "Simulating datetime: 2019-02-28 00:00:00\n",
            "Simulating datetime: 2019-03-01 00:00:00\n",
            "Simulating datetime: 2019-03-02 00:00:00\n",
            "Simulating datetime: 2019-03-03 00:00:00\n",
            "Simulating datetime: 2019-03-04 00:00:00\n",
            "Simulating datetime: 2019-03-05 00:00:00\n",
            "Simulating datetime: 2019-03-06 00:00:00\n",
            "Simulating datetime: 2019-03-07 00:00:00\n",
            "Simulating datetime: 2019-03-08 00:00:00\n",
            "Simulating datetime: 2019-03-09 00:00:00\n",
            "Simulating datetime: 2019-03-10 00:00:00\n",
            "Simulating datetime: 2019-03-11 00:00:00\n",
            "Simulating datetime: 2019-03-12 00:00:00\n",
            "Simulating datetime: 2019-03-13 00:00:00\n",
            "Simulating datetime: 2019-03-14 00:00:00\n",
            "Simulating datetime: 2019-03-15 00:00:00\n",
            "Simulating datetime: 2019-03-16 00:00:00\n",
            "Simulating datetime: 2019-03-17 00:00:00\n",
            "Simulating datetime: 2019-03-18 00:00:00\n",
            "Simulating datetime: 2019-03-19 00:00:00\n",
            "Simulating datetime: 2019-03-20 00:00:00\n",
            "Simulating datetime: 2019-03-21 00:00:00\n",
            "Simulating datetime: 2019-03-22 00:00:00\n",
            "Simulating datetime: 2019-03-23 00:00:00\n",
            "Simulating datetime: 2019-03-24 00:00:00\n",
            "Simulating datetime: 2019-03-25 00:00:00\n",
            "Simulating datetime: 2019-03-26 00:00:00\n",
            "Simulating datetime: 2019-03-27 00:00:00\n",
            "Simulating datetime: 2019-03-28 00:00:00\n",
            "Simulating datetime: 2019-03-29 00:00:00\n",
            "Simulating datetime: 2019-03-30 00:00:00\n",
            "Simulating datetime: 2019-03-31 00:00:00\n",
            "Simulating datetime: 2019-04-01 00:00:00\n",
            "Simulating datetime: 2019-04-02 00:00:00\n",
            "Simulating datetime: 2019-04-03 00:00:00\n",
            "Simulating datetime: 2019-04-04 00:00:00\n",
            "Simulating datetime: 2019-04-05 00:00:00\n",
            "Simulating datetime: 2019-04-06 00:00:00\n",
            "Simulating datetime: 2019-04-07 00:00:00\n",
            "Simulating datetime: 2019-04-08 00:00:00\n",
            "Simulating datetime: 2019-04-09 00:00:00\n",
            "Simulating datetime: 2019-04-10 00:00:00\n",
            "Simulating datetime: 2019-04-11 00:00:00\n",
            "Simulating datetime: 2019-04-12 00:00:00\n",
            "Simulating datetime: 2019-04-13 00:00:00\n",
            "Simulating datetime: 2019-04-14 00:00:00\n",
            "Simulating datetime: 2019-04-15 00:00:00\n",
            "Simulating datetime: 2019-04-16 00:00:00\n",
            "Simulating datetime: 2019-04-17 00:00:00\n",
            "Simulating datetime: 2019-04-18 00:00:00\n",
            "Simulating datetime: 2019-04-19 00:00:00\n",
            "Simulating datetime: 2019-04-20 00:00:00\n",
            "Simulating datetime: 2019-04-21 00:00:00\n",
            "Simulating datetime: 2019-04-22 00:00:00\n",
            "Simulating datetime: 2019-04-23 00:00:00\n",
            "Simulating datetime: 2019-04-24 00:00:00\n",
            "Simulating datetime: 2019-04-25 00:00:00\n",
            "Simulating datetime: 2019-04-26 00:00:00\n",
            "Simulating datetime: 2019-04-27 00:00:00\n",
            "Simulating datetime: 2019-04-28 00:00:00\n",
            "Simulating datetime: 2019-04-29 00:00:00\n",
            "Simulating datetime: 2019-04-30 00:00:00\n",
            "Simulating datetime: 2019-05-01 00:00:00\n",
            "Simulating datetime: 2019-05-02 00:00:00\n",
            "Simulating datetime: 2019-05-03 00:00:00\n",
            "Simulating datetime: 2019-05-04 00:00:00\n",
            "Simulating datetime: 2019-05-05 00:00:00\n",
            "Simulating datetime: 2019-05-06 00:00:00\n",
            "Simulating datetime: 2019-05-07 00:00:00\n",
            "Simulating datetime: 2019-05-08 00:00:00\n",
            "Simulating datetime: 2019-05-09 00:00:00\n",
            "Simulating datetime: 2019-05-10 00:00:00\n",
            "Simulating datetime: 2019-05-11 00:00:00\n",
            "Simulating datetime: 2019-05-12 00:00:00\n",
            "Simulating datetime: 2019-05-13 00:00:00\n",
            "Simulating datetime: 2019-05-14 00:00:00\n",
            "Simulating datetime: 2019-05-15 00:00:00\n",
            "Simulating datetime: 2019-05-16 00:00:00\n",
            "Simulating datetime: 2019-05-17 00:00:00\n",
            "Simulating datetime: 2019-05-18 00:00:00\n",
            "Simulating datetime: 2019-05-19 00:00:00\n",
            "Simulating datetime: 2019-05-20 00:00:00\n",
            "Simulating datetime: 2019-05-21 00:00:00\n",
            "Simulating datetime: 2019-05-22 00:00:00\n",
            "Simulating datetime: 2019-05-23 00:00:00\n",
            "Simulating datetime: 2019-05-24 00:00:00\n",
            "Simulating datetime: 2019-05-25 00:00:00\n",
            "Simulating datetime: 2019-05-26 00:00:00\n",
            "Simulating datetime: 2019-05-27 00:00:00\n",
            "Simulating datetime: 2019-05-28 00:00:00\n",
            "Simulating datetime: 2019-05-29 00:00:00\n",
            "Simulating datetime: 2019-05-30 00:00:00\n",
            "Simulating datetime: 2019-05-31 00:00:00\n",
            "Simulating datetime: 2019-06-01 00:00:00\n",
            "Simulating datetime: 2019-06-02 00:00:00\n",
            "Simulating datetime: 2019-06-03 00:00:00\n",
            "Simulating datetime: 2019-06-04 00:00:00\n",
            "Simulating datetime: 2019-06-05 00:00:00\n",
            "Simulating datetime: 2019-06-06 00:00:00\n",
            "Simulating datetime: 2019-06-07 00:00:00\n",
            "Simulating datetime: 2019-06-08 00:00:00\n",
            "Simulating datetime: 2019-06-09 00:00:00\n",
            "Simulating datetime: 2019-06-10 00:00:00\n",
            "Simulating datetime: 2019-06-11 00:00:00\n",
            "Simulating datetime: 2019-06-12 00:00:00\n",
            "Simulating datetime: 2019-06-13 00:00:00\n",
            "Simulating datetime: 2019-06-14 00:00:00\n",
            "Simulating datetime: 2019-06-15 00:00:00\n",
            "Simulating datetime: 2019-06-16 00:00:00\n",
            "Simulating datetime: 2019-06-17 00:00:00\n",
            "Simulating datetime: 2019-06-18 00:00:00\n",
            "Simulating datetime: 2019-06-19 00:00:00\n",
            "Simulating datetime: 2019-06-20 00:00:00\n",
            "Simulating datetime: 2019-06-21 00:00:00\n",
            "Simulating datetime: 2019-06-22 00:00:00\n",
            "Simulating datetime: 2019-06-23 00:00:00\n",
            "Simulating datetime: 2019-06-24 00:00:00\n",
            "Simulating datetime: 2019-06-25 00:00:00\n",
            "Simulating datetime: 2019-06-26 00:00:00\n",
            "Simulating datetime: 2019-06-27 00:00:00\n",
            "Simulating datetime: 2019-06-28 00:00:00\n",
            "Simulating datetime: 2019-06-29 00:00:00\n",
            "Simulating datetime: 2019-06-30 00:00:00\n",
            "CPU times: user 16 s, sys: 55.7 ms, total: 16 s\n",
            "Wall time: 16 s\n"
          ],
          "name": "stdout"
        }
      ]
    },
    {
      "cell_type": "code",
      "metadata": {
        "id": "TDSmTZfV8AFJ",
        "colab_type": "code",
        "outputId": "a1579ad2-fb76-465e-8c53-f0be98d1a459",
        "colab": {
          "base_uri": "https://localhost:8080/",
          "height": 453
        }
      },
      "source": [
        "diff_table = sim_week.error_Reporting(test_data=test_data, simulated_data=datat)"
      ],
      "execution_count": 11,
      "outputs": [
        {
          "output_type": "stream",
          "text": [
            "Datetime column configured.\n",
            "Datetime column configured.\n",
            "Root mean squared error of poisson sampler:  78.2\n",
            "Mean absolute error:  64.3\n",
            "Median absolute error:  60.0\n",
            "-----------\n",
            "Total simulated crime events:  165101.0\n",
            "Total crime events in holdout data:  161391\n",
            "Oversampling by:  2.299999999999991 %\n",
            "-------\n"
          ],
          "name": "stdout"
        },
        {
          "output_type": "display_data",
          "data": {
            "image/png": "[encoded data removed]",
            "text/plain": [
              "<Figure size 432x288 with 1 Axes>"
            ]
          },
          "metadata": {
            "tags": []
          }
        }
      ]
    },
    {
      "cell_type": "markdown",
      "metadata": {
        "id": "HgEL2tfSVVfu",
        "colab_type": "text"
      },
      "source": [
        "## Benchmarking for simple method with moving_window of 1 day"
      ]
    },
    {
      "cell_type": "code",
      "metadata": {
        "id": "lOP-SONcOvy3",
        "colab_type": "code",
        "colab": {
          "base_uri": "https://localhost:8080/",
          "height": 1000
        },
        "outputId": "fbbb293e-9b78-4c6b-bf30-0f33ba84efe0"
      },
      "source": [
        "%%time\n",
        "\n",
        "# can use alternate methods for simulator \n",
        "# method dict for sampling approaches\n",
        "        # simple : fits a poisson based on all data passed\n",
        "        # mixed : fits a poisson and linear model and calulates mean counts from both models\n",
        "        # zero : drops zeroes before fitting poisson unless all zero\n",
        "      \n",
        "datat = sim_week.SimplePoission(train_data, test_data, method='simple', mv_window=1)"
      ],
      "execution_count": 12,
      "outputs": [
        {
          "output_type": "stream",
          "text": [
            "Datetime column configured.\n",
            "Datetime column configured.\n",
            "Time resolution set to:  datetime\n",
            "Beginning sampling.\n",
            "Simulating datetime: 2019-01-01 00:00:00\n",
            "Simulating datetime: 2019-01-02 00:00:00\n",
            "Simulating datetime: 2019-01-03 00:00:00\n",
            "Simulating datetime: 2019-01-04 00:00:00\n",
            "Simulating datetime: 2019-01-05 00:00:00\n",
            "Simulating datetime: 2019-01-06 00:00:00\n",
            "Simulating datetime: 2019-01-07 00:00:00\n",
            "Simulating datetime: 2019-01-08 00:00:00\n",
            "Simulating datetime: 2019-01-09 00:00:00\n",
            "Simulating datetime: 2019-01-10 00:00:00\n",
            "Simulating datetime: 2019-01-11 00:00:00\n",
            "Simulating datetime: 2019-01-12 00:00:00\n",
            "Simulating datetime: 2019-01-13 00:00:00\n",
            "Simulating datetime: 2019-01-14 00:00:00\n",
            "Simulating datetime: 2019-01-15 00:00:00\n",
            "Simulating datetime: 2019-01-16 00:00:00\n",
            "Simulating datetime: 2019-01-17 00:00:00\n",
            "Simulating datetime: 2019-01-18 00:00:00\n",
            "Simulating datetime: 2019-01-19 00:00:00\n",
            "Simulating datetime: 2019-01-20 00:00:00\n",
            "Simulating datetime: 2019-01-21 00:00:00\n",
            "Simulating datetime: 2019-01-22 00:00:00\n",
            "Simulating datetime: 2019-01-23 00:00:00\n",
            "Simulating datetime: 2019-01-24 00:00:00\n",
            "Simulating datetime: 2019-01-25 00:00:00\n",
            "Simulating datetime: 2019-01-26 00:00:00\n",
            "Simulating datetime: 2019-01-27 00:00:00\n",
            "Simulating datetime: 2019-01-28 00:00:00\n",
            "Simulating datetime: 2019-01-29 00:00:00\n",
            "Simulating datetime: 2019-01-30 00:00:00\n",
            "Simulating datetime: 2019-01-31 00:00:00\n",
            "Simulating datetime: 2019-02-01 00:00:00\n",
            "Simulating datetime: 2019-02-02 00:00:00\n",
            "Simulating datetime: 2019-02-03 00:00:00\n",
            "Simulating datetime: 2019-02-04 00:00:00\n",
            "Simulating datetime: 2019-02-05 00:00:00\n",
            "Simulating datetime: 2019-02-06 00:00:00\n",
            "Simulating datetime: 2019-02-07 00:00:00\n",
            "Simulating datetime: 2019-02-08 00:00:00\n",
            "Simulating datetime: 2019-02-09 00:00:00\n",
            "Simulating datetime: 2019-02-10 00:00:00\n",
            "Simulating datetime: 2019-02-11 00:00:00\n",
            "Simulating datetime: 2019-02-12 00:00:00\n",
            "Simulating datetime: 2019-02-13 00:00:00\n",
            "Simulating datetime: 2019-02-14 00:00:00\n",
            "Simulating datetime: 2019-02-15 00:00:00\n",
            "Simulating datetime: 2019-02-16 00:00:00\n",
            "Simulating datetime: 2019-02-17 00:00:00\n",
            "Simulating datetime: 2019-02-18 00:00:00\n",
            "Simulating datetime: 2019-02-19 00:00:00\n",
            "Simulating datetime: 2019-02-20 00:00:00\n",
            "Simulating datetime: 2019-02-21 00:00:00\n",
            "Simulating datetime: 2019-02-22 00:00:00\n",
            "Simulating datetime: 2019-02-23 00:00:00\n",
            "Simulating datetime: 2019-02-24 00:00:00\n",
            "Simulating datetime: 2019-02-25 00:00:00\n",
            "Simulating datetime: 2019-02-26 00:00:00\n",
            "Simulating datetime: 2019-02-27 00:00:00\n",
            "Simulating datetime: 2019-02-28 00:00:00\n",
            "Simulating datetime: 2019-03-01 00:00:00\n",
            "Simulating datetime: 2019-03-02 00:00:00\n",
            "Simulating datetime: 2019-03-03 00:00:00\n",
            "Simulating datetime: 2019-03-04 00:00:00\n",
            "Simulating datetime: 2019-03-05 00:00:00\n",
            "Simulating datetime: 2019-03-06 00:00:00\n",
            "Simulating datetime: 2019-03-07 00:00:00\n",
            "Simulating datetime: 2019-03-08 00:00:00\n",
            "Simulating datetime: 2019-03-09 00:00:00\n",
            "Simulating datetime: 2019-03-10 00:00:00\n",
            "Simulating datetime: 2019-03-11 00:00:00\n",
            "Simulating datetime: 2019-03-12 00:00:00\n",
            "Simulating datetime: 2019-03-13 00:00:00\n",
            "Simulating datetime: 2019-03-14 00:00:00\n",
            "Simulating datetime: 2019-03-15 00:00:00\n",
            "Simulating datetime: 2019-03-16 00:00:00\n",
            "Simulating datetime: 2019-03-17 00:00:00\n",
            "Simulating datetime: 2019-03-18 00:00:00\n",
            "Simulating datetime: 2019-03-19 00:00:00\n",
            "Simulating datetime: 2019-03-20 00:00:00\n",
            "Simulating datetime: 2019-03-21 00:00:00\n",
            "Simulating datetime: 2019-03-22 00:00:00\n",
            "Simulating datetime: 2019-03-23 00:00:00\n",
            "Simulating datetime: 2019-03-24 00:00:00\n",
            "Simulating datetime: 2019-03-25 00:00:00\n",
            "Simulating datetime: 2019-03-26 00:00:00\n",
            "Simulating datetime: 2019-03-27 00:00:00\n",
            "Simulating datetime: 2019-03-28 00:00:00\n",
            "Simulating datetime: 2019-03-29 00:00:00\n",
            "Simulating datetime: 2019-03-30 00:00:00\n",
            "Simulating datetime: 2019-03-31 00:00:00\n",
            "Simulating datetime: 2019-04-01 00:00:00\n",
            "Simulating datetime: 2019-04-02 00:00:00\n",
            "Simulating datetime: 2019-04-03 00:00:00\n",
            "Simulating datetime: 2019-04-04 00:00:00\n",
            "Simulating datetime: 2019-04-05 00:00:00\n",
            "Simulating datetime: 2019-04-06 00:00:00\n",
            "Simulating datetime: 2019-04-07 00:00:00\n",
            "Simulating datetime: 2019-04-08 00:00:00\n",
            "Simulating datetime: 2019-04-09 00:00:00\n",
            "Simulating datetime: 2019-04-10 00:00:00\n",
            "Simulating datetime: 2019-04-11 00:00:00\n",
            "Simulating datetime: 2019-04-12 00:00:00\n",
            "Simulating datetime: 2019-04-13 00:00:00\n",
            "Simulating datetime: 2019-04-14 00:00:00\n",
            "Simulating datetime: 2019-04-15 00:00:00\n",
            "Simulating datetime: 2019-04-16 00:00:00\n",
            "Simulating datetime: 2019-04-17 00:00:00\n",
            "Simulating datetime: 2019-04-18 00:00:00\n",
            "Simulating datetime: 2019-04-19 00:00:00\n",
            "Simulating datetime: 2019-04-20 00:00:00\n",
            "Simulating datetime: 2019-04-21 00:00:00\n",
            "Simulating datetime: 2019-04-22 00:00:00\n",
            "Simulating datetime: 2019-04-23 00:00:00\n",
            "Simulating datetime: 2019-04-24 00:00:00\n",
            "Simulating datetime: 2019-04-25 00:00:00\n",
            "Simulating datetime: 2019-04-26 00:00:00\n",
            "Simulating datetime: 2019-04-27 00:00:00\n",
            "Simulating datetime: 2019-04-28 00:00:00\n",
            "Simulating datetime: 2019-04-29 00:00:00\n",
            "Simulating datetime: 2019-04-30 00:00:00\n",
            "Simulating datetime: 2019-05-01 00:00:00\n",
            "Simulating datetime: 2019-05-02 00:00:00\n",
            "Simulating datetime: 2019-05-03 00:00:00\n",
            "Simulating datetime: 2019-05-04 00:00:00\n",
            "Simulating datetime: 2019-05-05 00:00:00\n",
            "Simulating datetime: 2019-05-06 00:00:00\n",
            "Simulating datetime: 2019-05-07 00:00:00\n",
            "Simulating datetime: 2019-05-08 00:00:00\n",
            "Simulating datetime: 2019-05-09 00:00:00\n",
            "Simulating datetime: 2019-05-10 00:00:00\n",
            "Simulating datetime: 2019-05-11 00:00:00\n",
            "Simulating datetime: 2019-05-12 00:00:00\n",
            "Simulating datetime: 2019-05-13 00:00:00\n",
            "Simulating datetime: 2019-05-14 00:00:00\n",
            "Simulating datetime: 2019-05-15 00:00:00\n",
            "Simulating datetime: 2019-05-16 00:00:00\n",
            "Simulating datetime: 2019-05-17 00:00:00\n",
            "Simulating datetime: 2019-05-18 00:00:00\n",
            "Simulating datetime: 2019-05-19 00:00:00\n",
            "Simulating datetime: 2019-05-20 00:00:00\n",
            "Simulating datetime: 2019-05-21 00:00:00\n",
            "Simulating datetime: 2019-05-22 00:00:00\n",
            "Simulating datetime: 2019-05-23 00:00:00\n",
            "Simulating datetime: 2019-05-24 00:00:00\n",
            "Simulating datetime: 2019-05-25 00:00:00\n",
            "Simulating datetime: 2019-05-26 00:00:00\n",
            "Simulating datetime: 2019-05-27 00:00:00\n",
            "Simulating datetime: 2019-05-28 00:00:00\n",
            "Simulating datetime: 2019-05-29 00:00:00\n",
            "Simulating datetime: 2019-05-30 00:00:00\n",
            "Simulating datetime: 2019-05-31 00:00:00\n",
            "Simulating datetime: 2019-06-01 00:00:00\n",
            "Simulating datetime: 2019-06-02 00:00:00\n",
            "Simulating datetime: 2019-06-03 00:00:00\n",
            "Simulating datetime: 2019-06-04 00:00:00\n",
            "Simulating datetime: 2019-06-05 00:00:00\n",
            "Simulating datetime: 2019-06-06 00:00:00\n",
            "Simulating datetime: 2019-06-07 00:00:00\n",
            "Simulating datetime: 2019-06-08 00:00:00\n",
            "Simulating datetime: 2019-06-09 00:00:00\n",
            "Simulating datetime: 2019-06-10 00:00:00\n",
            "Simulating datetime: 2019-06-11 00:00:00\n",
            "Simulating datetime: 2019-06-12 00:00:00\n",
            "Simulating datetime: 2019-06-13 00:00:00\n",
            "Simulating datetime: 2019-06-14 00:00:00\n",
            "Simulating datetime: 2019-06-15 00:00:00\n",
            "Simulating datetime: 2019-06-16 00:00:00\n",
            "Simulating datetime: 2019-06-17 00:00:00\n",
            "Simulating datetime: 2019-06-18 00:00:00\n",
            "Simulating datetime: 2019-06-19 00:00:00\n",
            "Simulating datetime: 2019-06-20 00:00:00\n",
            "Simulating datetime: 2019-06-21 00:00:00\n",
            "Simulating datetime: 2019-06-22 00:00:00\n",
            "Simulating datetime: 2019-06-23 00:00:00\n",
            "Simulating datetime: 2019-06-24 00:00:00\n",
            "Simulating datetime: 2019-06-25 00:00:00\n",
            "Simulating datetime: 2019-06-26 00:00:00\n",
            "Simulating datetime: 2019-06-27 00:00:00\n",
            "Simulating datetime: 2019-06-28 00:00:00\n",
            "Simulating datetime: 2019-06-29 00:00:00\n",
            "Simulating datetime: 2019-06-30 00:00:00\n",
            "CPU times: user 14.5 s, sys: 39.7 ms, total: 14.6 s\n",
            "Wall time: 14.6 s\n"
          ],
          "name": "stdout"
        }
      ]
    },
    {
      "cell_type": "code",
      "metadata": {
        "id": "TuiqdjoJO2-T",
        "colab_type": "code",
        "colab": {
          "base_uri": "https://localhost:8080/",
          "height": 453
        },
        "outputId": "fcd071f7-b975-45ce-a58c-127547479982"
      },
      "source": [
        "diff_table = sim_week.error_Reporting(test_data=test_data, simulated_data=datat)"
      ],
      "execution_count": 13,
      "outputs": [
        {
          "output_type": "stream",
          "text": [
            "Datetime column configured.\n",
            "Datetime column configured.\n",
            "Root mean squared error of poisson sampler:  69.4\n",
            "Mean absolute error:  56.4\n",
            "Median absolute error:  47.0\n",
            "-----------\n",
            "Total simulated crime events:  153526\n",
            "Total crime events in holdout data:  161391\n",
            "Undersampling by:  -4.900000000000004 %\n",
            "-------\n"
          ],
          "name": "stdout"
        },
        {
          "output_type": "display_data",
          "data": {
            "image/png": "[encoded data removed]",
            "text/plain": [
              "<Figure size 432x288 with 1 Axes>"
            ]
          },
          "metadata": {
            "tags": []
          }
        }
      ]
    },
    {
      "cell_type": "code",
      "metadata": {
        "id": "BUXIFgOKO4Y4",
        "colab_type": "code",
        "colab": {}
      },
      "source": [
        ""
      ],
      "execution_count": 0,
      "outputs": []
    }
  ]
}